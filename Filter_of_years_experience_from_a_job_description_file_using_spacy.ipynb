{
  "nbformat": 4,
  "nbformat_minor": 0,
  "metadata": {
    "colab": {
      "provenance": [],
      "authorship_tag": "ABX9TyOrLicJl50YEI95ONf5qerK",
      "include_colab_link": true
    },
    "kernelspec": {
      "name": "python3",
      "display_name": "Python 3"
    },
    "language_info": {
      "name": "python"
    }
  },
  "cells": [
    {
      "cell_type": "markdown",
      "metadata": {
        "id": "view-in-github",
        "colab_type": "text"
      },
      "source": [
        "<a href=\"https://colab.research.google.com/github/crux007/crux007/blob/main/Filter_of_years_experience_from_a_job_description_file_using_spacy.ipynb\" target=\"_parent\"><img src=\"https://colab.research.google.com/assets/colab-badge.svg\" alt=\"Open In Colab\"/></a>"
      ]
    },
    {
      "cell_type": "code",
      "execution_count": 1,
      "metadata": {
        "colab": {
          "base_uri": "https://localhost:8080/"
        },
        "id": "UKTU9u8iE4TN",
        "outputId": "d5cbe02b-25e5-47f6-c156-77521e1a820a"
      },
      "outputs": [
        {
          "output_type": "stream",
          "name": "stdout",
          "text": [
            "Requirement already satisfied: nltk in /usr/local/lib/python3.10/dist-packages (3.8.1)\n",
            "Requirement already satisfied: click in /usr/local/lib/python3.10/dist-packages (from nltk) (8.1.7)\n",
            "Requirement already satisfied: joblib in /usr/local/lib/python3.10/dist-packages (from nltk) (1.3.2)\n",
            "Requirement already satisfied: regex>=2021.8.3 in /usr/local/lib/python3.10/dist-packages (from nltk) (2023.6.3)\n",
            "Requirement already satisfied: tqdm in /usr/local/lib/python3.10/dist-packages (from nltk) (4.66.1)\n"
          ]
        }
      ],
      "source": [
        "!pip install nltk"
      ]
    },
    {
      "cell_type": "code",
      "source": [
        "import pandas as pd"
      ],
      "metadata": {
        "id": "XMWh3llHE6oM"
      },
      "execution_count": 2,
      "outputs": []
    },
    {
      "cell_type": "code",
      "source": [
        "from sklearn.feature_extraction.text import TfidfVectorizer\n",
        "from sklearn.model_selection import train_test_split\n",
        "from sklearn.ensemble import RandomForestClassifier\n",
        "from sklearn.metrics import accuracy_score, classification_report\n",
        "import nltk\n",
        "from nltk.tokenize import word_tokenize"
      ],
      "metadata": {
        "id": "VOKzhEdHE8lh"
      },
      "execution_count": 3,
      "outputs": []
    },
    {
      "cell_type": "code",
      "source": [
        "nltk.download(\"punkt\")"
      ],
      "metadata": {
        "colab": {
          "base_uri": "https://localhost:8080/"
        },
        "id": "QzW_4GbDE_BC",
        "outputId": "3fd5cd94-6eff-44a1-d5af-ef239e878433"
      },
      "execution_count": 4,
      "outputs": [
        {
          "output_type": "stream",
          "name": "stderr",
          "text": [
            "[nltk_data] Downloading package punkt to /root/nltk_data...\n",
            "[nltk_data]   Unzipping tokenizers/punkt.zip.\n"
          ]
        },
        {
          "output_type": "execute_result",
          "data": {
            "text/plain": [
              "True"
            ]
          },
          "metadata": {},
          "execution_count": 4
        }
      ]
    },
    {
      "cell_type": "code",
      "source": [
        "job_description = \"\"\"\n",
        "Location: Suffolk County, NY\n",
        "\n",
        "Job Duties and Responsibilities:\n",
        "\n",
        " * Delivers revenues and profits by developing, marketing, and providing appealing restaurant service; managing staff.\n",
        " * Elevates restaurant business plan by surveying restaurant demand; conferring with people in the community; identifying and evaluating competitors; preparing financial, marketing, and sales projections, analyses, and estimates.\n",
        " * Meets restaurant financial objectives by preparing strategic and annual forecasts and budgets; establishing and monitoring financial controls; developing and implementing strategies to increase average meal checks.\n",
        " * Attracts patrons by developing and implementing marketing, advertising, public and community relations programs; evaluating program results; identifying and tracking changing demands.\n",
        " * Controls purchases and inventory by meeting with Purchasing Manager; reviewing and evaluating usage reports; analyzing variances; taking corrective actions.\n",
        " * Maintains operations by adhering to policies and standard operating procedures; implementing production, productivity, quality, and patron-service standards; determining and implementing system improvements.\n",
        " * Maintains patron satisfaction by monitoring, evaluating, and auditing food, beverage, and service offerings; initiating improvements; building relationships with preferred patrons.\n",
        " * Accomplishes restaurant and bar human resource objectives by selecting, training, scheduling and disciplining management and staff; communicating job expectations; enforcing policies and procedures.\n",
        " * Maintains safe, secure, and healthy facility environment by establishing, following, and enforcing sanitation standards and procedures; complying with health and legal regulations; maintaining security systems.\n",
        " * Maintains professional and technical knowledge by tracking emerging trends in the restaurant industry; attending educational workshops; reviewing professional publications; establishing personal networks; benchmarking state-of-the-art practices; participating in professional societies.\n",
        " * Accomplishes company goals by accepting ownership for accomplishing new and different requests; exploring opportunities to add value to job accomplishments.\n",
        "\n",
        "Qualifications:\n",
        "\n",
        " * Cost Accounting\n",
        " * Developing Budgets\n",
        " * Financial Planning and Strategy\n",
        " * Decision Making\n",
        " * Process Improvement\n",
        " * Strategic Planning\n",
        " * Verbal Communication\n",
        " * Customer Focus\n",
        " * Management Proficiency\n",
        " * Managing Profitability\n",
        "\n",
        "Qualifications:\n",
        "\n",
        " * Minimum 5 years restaurant management experience in a high volume property\n",
        " * Exemplary leadership and supervision skills\n",
        " * Superior client relations skills\n",
        " * Administrative abilities in budget administration\n",
        " * Must have a keen eye for detail.\n",
        " * Results oriented and enthusiastic.\n",
        " * Must have extremely high standards in all areas and a passion for guest service.\n",
        " * Computer and Internet competency including Excel, Word, and event software.\n",
        " * Excellent oral and written communication skills.\n",
        " \"\"\""
      ],
      "metadata": {
        "id": "p_DJWlpyFDk3"
      },
      "execution_count": 5,
      "outputs": []
    },
    {
      "cell_type": "code",
      "source": [
        "job_description_tokens = word_tokenize(job_description.lower())"
      ],
      "metadata": {
        "id": "aJH1xBnjFL5B"
      },
      "execution_count": 7,
      "outputs": []
    },
    {
      "cell_type": "code",
      "source": [
        "data = [{\"description\": \" \".join(job_description_tokens)}]\n",
        "df = pd.DataFrame(data)"
      ],
      "metadata": {
        "id": "pqJr6E0lFiBQ"
      },
      "execution_count": 8,
      "outputs": []
    },
    {
      "cell_type": "code",
      "source": [
        "tfidf_vectorizer = TfidfVectorizer(max_features=1000, stop_words=\"english\")\n",
        "tfidf_vectorizer.fit(df[\"description\"])"
      ],
      "metadata": {
        "colab": {
          "base_uri": "https://localhost:8080/",
          "height": 74
        },
        "id": "hK1m8nv6F591",
        "outputId": "0c7b6851-76b7-4fc8-fe95-20afa62a9d34"
      },
      "execution_count": 10,
      "outputs": [
        {
          "output_type": "execute_result",
          "data": {
            "text/plain": [
              "TfidfVectorizer(max_features=1000, stop_words='english')"
            ],
            "text/html": [
              "<style>#sk-container-id-1 {color: black;background-color: white;}#sk-container-id-1 pre{padding: 0;}#sk-container-id-1 div.sk-toggleable {background-color: white;}#sk-container-id-1 label.sk-toggleable__label {cursor: pointer;display: block;width: 100%;margin-bottom: 0;padding: 0.3em;box-sizing: border-box;text-align: center;}#sk-container-id-1 label.sk-toggleable__label-arrow:before {content: \"▸\";float: left;margin-right: 0.25em;color: #696969;}#sk-container-id-1 label.sk-toggleable__label-arrow:hover:before {color: black;}#sk-container-id-1 div.sk-estimator:hover label.sk-toggleable__label-arrow:before {color: black;}#sk-container-id-1 div.sk-toggleable__content {max-height: 0;max-width: 0;overflow: hidden;text-align: left;background-color: #f0f8ff;}#sk-container-id-1 div.sk-toggleable__content pre {margin: 0.2em;color: black;border-radius: 0.25em;background-color: #f0f8ff;}#sk-container-id-1 input.sk-toggleable__control:checked~div.sk-toggleable__content {max-height: 200px;max-width: 100%;overflow: auto;}#sk-container-id-1 input.sk-toggleable__control:checked~label.sk-toggleable__label-arrow:before {content: \"▾\";}#sk-container-id-1 div.sk-estimator input.sk-toggleable__control:checked~label.sk-toggleable__label {background-color: #d4ebff;}#sk-container-id-1 div.sk-label input.sk-toggleable__control:checked~label.sk-toggleable__label {background-color: #d4ebff;}#sk-container-id-1 input.sk-hidden--visually {border: 0;clip: rect(1px 1px 1px 1px);clip: rect(1px, 1px, 1px, 1px);height: 1px;margin: -1px;overflow: hidden;padding: 0;position: absolute;width: 1px;}#sk-container-id-1 div.sk-estimator {font-family: monospace;background-color: #f0f8ff;border: 1px dotted black;border-radius: 0.25em;box-sizing: border-box;margin-bottom: 0.5em;}#sk-container-id-1 div.sk-estimator:hover {background-color: #d4ebff;}#sk-container-id-1 div.sk-parallel-item::after {content: \"\";width: 100%;border-bottom: 1px solid gray;flex-grow: 1;}#sk-container-id-1 div.sk-label:hover label.sk-toggleable__label {background-color: #d4ebff;}#sk-container-id-1 div.sk-serial::before {content: \"\";position: absolute;border-left: 1px solid gray;box-sizing: border-box;top: 0;bottom: 0;left: 50%;z-index: 0;}#sk-container-id-1 div.sk-serial {display: flex;flex-direction: column;align-items: center;background-color: white;padding-right: 0.2em;padding-left: 0.2em;position: relative;}#sk-container-id-1 div.sk-item {position: relative;z-index: 1;}#sk-container-id-1 div.sk-parallel {display: flex;align-items: stretch;justify-content: center;background-color: white;position: relative;}#sk-container-id-1 div.sk-item::before, #sk-container-id-1 div.sk-parallel-item::before {content: \"\";position: absolute;border-left: 1px solid gray;box-sizing: border-box;top: 0;bottom: 0;left: 50%;z-index: -1;}#sk-container-id-1 div.sk-parallel-item {display: flex;flex-direction: column;z-index: 1;position: relative;background-color: white;}#sk-container-id-1 div.sk-parallel-item:first-child::after {align-self: flex-end;width: 50%;}#sk-container-id-1 div.sk-parallel-item:last-child::after {align-self: flex-start;width: 50%;}#sk-container-id-1 div.sk-parallel-item:only-child::after {width: 0;}#sk-container-id-1 div.sk-dashed-wrapped {border: 1px dashed gray;margin: 0 0.4em 0.5em 0.4em;box-sizing: border-box;padding-bottom: 0.4em;background-color: white;}#sk-container-id-1 div.sk-label label {font-family: monospace;font-weight: bold;display: inline-block;line-height: 1.2em;}#sk-container-id-1 div.sk-label-container {text-align: center;}#sk-container-id-1 div.sk-container {/* jupyter's `normalize.less` sets `[hidden] { display: none; }` but bootstrap.min.css set `[hidden] { display: none !important; }` so we also need the `!important` here to be able to override the default hidden behavior on the sphinx rendered scikit-learn.org. See: https://github.com/scikit-learn/scikit-learn/issues/21755 */display: inline-block !important;position: relative;}#sk-container-id-1 div.sk-text-repr-fallback {display: none;}</style><div id=\"sk-container-id-1\" class=\"sk-top-container\"><div class=\"sk-text-repr-fallback\"><pre>TfidfVectorizer(max_features=1000, stop_words=&#x27;english&#x27;)</pre><b>In a Jupyter environment, please rerun this cell to show the HTML representation or trust the notebook. <br />On GitHub, the HTML representation is unable to render, please try loading this page with nbviewer.org.</b></div><div class=\"sk-container\" hidden><div class=\"sk-item\"><div class=\"sk-estimator sk-toggleable\"><input class=\"sk-toggleable__control sk-hidden--visually\" id=\"sk-estimator-id-1\" type=\"checkbox\" checked><label for=\"sk-estimator-id-1\" class=\"sk-toggleable__label sk-toggleable__label-arrow\">TfidfVectorizer</label><div class=\"sk-toggleable__content\"><pre>TfidfVectorizer(max_features=1000, stop_words=&#x27;english&#x27;)</pre></div></div></div></div></div>"
            ]
          },
          "metadata": {},
          "execution_count": 10
        }
      ]
    },
    {
      "cell_type": "code",
      "source": [
        "X = tfidf_vectorizer.transform(df[\"description\"])"
      ],
      "metadata": {
        "id": "Vks2lG2qGXDd"
      },
      "execution_count": 11,
      "outputs": []
    },
    {
      "cell_type": "code",
      "source": [
        "print(\"TF-IDF Features:\")\n",
        "print(tfidf_vectorizer.get_feature_names_out())"
      ],
      "metadata": {
        "colab": {
          "base_uri": "https://localhost:8080/"
        },
        "id": "MDnN_7k5GkQl",
        "outputId": "c06b8cbe-5e54-4235-ca4e-bef2b083e5e0"
      },
      "execution_count": 12,
      "outputs": [
        {
          "output_type": "stream",
          "name": "stdout",
          "text": [
            "TF-IDF Features:\n",
            "['abilities' 'accepting' 'accomplishes' 'accomplishing' 'accomplishments'\n",
            " 'accounting' 'actions' 'add' 'adhering' 'administration' 'administrative'\n",
            " 'advertising' 'analyses' 'analyzing' 'annual' 'appealing' 'areas' 'art'\n",
            " 'attending' 'attracts' 'auditing' 'average' 'bar' 'benchmarking'\n",
            " 'beverage' 'budget' 'budgets' 'building' 'business' 'changing' 'checks'\n",
            " 'client' 'communicating' 'communication' 'community' 'company'\n",
            " 'competency' 'competitors' 'complying' 'computer' 'conferring' 'controls'\n",
            " 'corrective' 'cost' 'county' 'customer' 'decision' 'delivers' 'demand'\n",
            " 'demands' 'determining' 'developing' 'different' 'disciplining' 'duties'\n",
            " 'educational' 'elevates' 'emerging' 'enforcing' 'enthusiastic'\n",
            " 'environment' 'establishing' 'estimates' 'evaluating' 'event' 'excel'\n",
            " 'excellent' 'exemplary' 'expectations' 'experience' 'exploring'\n",
            " 'extremely' 'eye' 'facility' 'financial' 'focus' 'following' 'food'\n",
            " 'forecasts' 'goals' 'guest' 'health' 'healthy' 'high' 'human'\n",
            " 'identifying' 'implementing' 'improvement' 'improvements' 'including'\n",
            " 'increase' 'industry' 'initiating' 'internet' 'inventory' 'job' 'keen'\n",
            " 'knowledge' 'leadership' 'legal' 'location' 'maintaining' 'maintains'\n",
            " 'making' 'management' 'manager' 'managing' 'marketing' 'meal' 'meeting'\n",
            " 'meets' 'minimum' 'monitoring' 'networks' 'new' 'ny' 'objectives'\n",
            " 'offerings' 'operating' 'operations' 'opportunities' 'oral' 'oriented'\n",
            " 'ownership' 'participating' 'passion' 'patron' 'patrons' 'people'\n",
            " 'personal' 'plan' 'planning' 'policies' 'practices' 'preferred'\n",
            " 'preparing' 'procedures' 'process' 'production' 'productivity'\n",
            " 'professional' 'proficiency' 'profitability' 'profits' 'program'\n",
            " 'programs' 'projections' 'property' 'providing' 'public' 'publications'\n",
            " 'purchases' 'purchasing' 'qualifications' 'quality' 'regulations'\n",
            " 'relations' 'relationships' 'reports' 'requests' 'resource'\n",
            " 'responsibilities' 'restaurant' 'results' 'revenues' 'reviewing' 'safe'\n",
            " 'sales' 'sanitation' 'satisfaction' 'scheduling' 'secure' 'security'\n",
            " 'selecting' 'service' 'skills' 'societies' 'software' 'staff' 'standard'\n",
            " 'standards' 'state' 'strategic' 'strategies' 'strategy' 'suffolk'\n",
            " 'superior' 'supervision' 'surveying' 'systems' 'taking' 'technical'\n",
            " 'tracking' 'training' 'trends' 'usage' 'value' 'variances' 'verbal'\n",
            " 'volume' 'word' 'workshops' 'written' 'years']\n"
          ]
        }
      ]
    },
    {
      "cell_type": "code",
      "source": [
        "import spacy"
      ],
      "metadata": {
        "id": "GEvv1p_sGvrP"
      },
      "execution_count": 13,
      "outputs": []
    },
    {
      "cell_type": "code",
      "source": [
        "nlp = spacy.load(\"en_core_web_sm\")"
      ],
      "metadata": {
        "id": "1HB2lNvFHsK_"
      },
      "execution_count": 14,
      "outputs": []
    },
    {
      "cell_type": "code",
      "source": [
        "job_description = \"\"\"\n",
        "Location: Suffolk County, NY\n",
        "\n",
        "Job Duties and Responsibilities:\n",
        "\n",
        " * Delivers revenues and profits by developing, marketing, and providing appealing restaurant service; managing staff.\n",
        " * Elevates restaurant business plan by surveying restaurant demand; conferring with people in the community; identifying and evaluating competitors; preparing financial, marketing, and sales projections, analyses, and estimates.\n",
        " * Meets restaurant financial objectives by preparing strategic and annual forecasts and budgets; establishing and monitoring financial controls; developing and implementing strategies to increase average meal checks.\n",
        " * Attracts patrons by developing and implementing marketing, advertising, public and community relations programs; evaluating program results; identifying and tracking changing demands.\n",
        " * Controls purchases and inventory by meeting with Purchasing Manager; reviewing and evaluating usage reports; analyzing variances; taking corrective actions.\n",
        " * Maintains operations by adhering to policies and standard operating procedures; implementing production, productivity, quality, and patron-service standards; determining and implementing system improvements.\n",
        " * Maintains patron satisfaction by monitoring, evaluating, and auditing food, beverage, and service offerings; initiating improvements; building relationships with preferred patrons.\n",
        " * Accomplishes restaurant and bar human resource objectives by selecting, training, scheduling and disciplining management and staff; communicating job expectations; enforcing policies and procedures.\n",
        " * Maintains safe, secure, and healthy facility environment by establishing, following, and enforcing sanitation standards and procedures; complying with health and legal regulations; maintaining security systems.\n",
        " * Maintains professional and technical knowledge by tracking emerging trends in the restaurant industry; attending educational workshops; reviewing professional publications; establishing personal networks; benchmarking state-of-the-art practices; participating in professional societies.\n",
        " * Accomplishes company goals by accepting ownership for accomplishing new and different requests; exploring opportunities to add value to job accomplishments.\n",
        "\n",
        "Qualifications:\n",
        "\n",
        " * Cost Accounting\n",
        " * Developing Budgets\n",
        " * Financial Planning and Strategy\n",
        " * Decision Making\n",
        " * Process Improvement\n",
        " * Strategic Planning\n",
        " * Verbal Communication\n",
        " * Customer Focus\n",
        " * Management Proficiency\n",
        " * Managing Profitability\n",
        "\n",
        "Qualifications:\n",
        "\n",
        " * Minimum 5 years restaurant management experience in a high volume property\n",
        " * Exemplary leadership and supervision skills\n",
        " * Superior client relations skills\n",
        " * Administrative abilities in budget administration\n",
        " * Must have a keen eye for detail.\n",
        " * Results oriented and enthusiastic.\n",
        " * Must have extremely high standards in all areas and a passion for guest service.\n",
        " * Computer and Internet competency including Excel, Word, and event software.\n",
        " * Excellent oral and written communication skills.\n",
        " \"\"\""
      ],
      "metadata": {
        "id": "mPXGNsBCHxmK"
      },
      "execution_count": 15,
      "outputs": []
    },
    {
      "cell_type": "code",
      "source": [
        "doc = nlp(job_description)"
      ],
      "metadata": {
        "id": "ezYWHio_H23R"
      },
      "execution_count": 16,
      "outputs": []
    },
    {
      "cell_type": "code",
      "source": [
        "numerical_info = [ent.text for ent in doc.ents if ent.label_ == \"DATE\"]"
      ],
      "metadata": {
        "id": "FKjyMR7EH8E0"
      },
      "execution_count": 17,
      "outputs": []
    },
    {
      "cell_type": "code",
      "source": [
        "print((\"Extracted Numerical Information:\"))\n",
        "print(numerical_info)"
      ],
      "metadata": {
        "colab": {
          "base_uri": "https://localhost:8080/"
        },
        "id": "cVfRwaUOIHK8",
        "outputId": "539e1e17-baa7-4940-da49-2a544d5ce78e"
      },
      "execution_count": 18,
      "outputs": [
        {
          "output_type": "stream",
          "name": "stdout",
          "text": [
            "Extracted Numerical Information:\n",
            "['annual', '5 years']\n"
          ]
        }
      ]
    },
    {
      "cell_type": "code",
      "source": [
        "doc = nlp(job_description)"
      ],
      "metadata": {
        "id": "dOOB9DOlITLH"
      },
      "execution_count": 19,
      "outputs": []
    },
    {
      "cell_type": "code",
      "source": [
        "numerical_info = [(ent.text, ent.start, ent.end) for ent in doc.ents if ent.label_ == \"DATE\"]"
      ],
      "metadata": {
        "id": "8rUHmwf1Jp5W"
      },
      "execution_count": 20,
      "outputs": []
    },
    {
      "cell_type": "code",
      "source": [
        "surrounding_words = []\n",
        "for numerical_entity, start, end in numerical_info:\n",
        "  preceding_word = doc[start - 1].text if start > 0 else \"\"\n",
        "  following_word = doc[end].text if end < len(doc) else \"\"\n",
        "  surrounding_words.append((preceding_word, numerical_entity, following_word))"
      ],
      "metadata": {
        "id": "Jho3SLROJ-VB"
      },
      "execution_count": 21,
      "outputs": []
    },
    {
      "cell_type": "code",
      "source": [
        "print(\"Extracted Numerical Information with Surrounding Words:\")\n",
        "for preceding_word, numerical_entity, following_word in surrounding_words:\n",
        "  print(f\"Preceding: {preceding_word}, Numerical Entity: {numerical_entity}, Following: {following_word}\")"
      ],
      "metadata": {
        "colab": {
          "base_uri": "https://localhost:8080/"
        },
        "id": "ZPVkxxdrKo_N",
        "outputId": "a0fa9d20-8255-4c0b-bbd4-26cfbd22eeb7"
      },
      "execution_count": 22,
      "outputs": [
        {
          "output_type": "stream",
          "name": "stdout",
          "text": [
            "Extracted Numerical Information with Surrounding Words:\n",
            "Preceding: and, Numerical Entity: annual, Following: forecasts\n",
            "Preceding: Minimum, Numerical Entity: 5 years, Following: restaurant\n"
          ]
        }
      ]
    },
    {
      "cell_type": "code",
      "source": [
        "!python -m spacy download en_core_web_md"
      ],
      "metadata": {
        "colab": {
          "base_uri": "https://localhost:8080/"
        },
        "id": "F_Twe4b4LLW1",
        "outputId": "1f8a88ff-a55d-4821-c449-7e03eb741498"
      },
      "execution_count": 24,
      "outputs": [
        {
          "output_type": "stream",
          "name": "stdout",
          "text": [
            "2023-09-05 16:39:31.990012: W tensorflow/compiler/tf2tensorrt/utils/py_utils.cc:38] TF-TRT Warning: Could not find TensorRT\n",
            "Collecting en-core-web-md==3.6.0\n",
            "  Downloading https://github.com/explosion/spacy-models/releases/download/en_core_web_md-3.6.0/en_core_web_md-3.6.0-py3-none-any.whl (42.8 MB)\n",
            "\u001b[2K     \u001b[90m━━━━━━━━━━━━━━━━━━━━━━━━━━━━━━━━━━━━━━━━\u001b[0m \u001b[32m42.8/42.8 MB\u001b[0m \u001b[31m26.0 MB/s\u001b[0m eta \u001b[36m0:00:00\u001b[0m\n",
            "\u001b[?25hRequirement already satisfied: spacy<3.7.0,>=3.6.0 in /usr/local/lib/python3.10/dist-packages (from en-core-web-md==3.6.0) (3.6.1)\n",
            "Requirement already satisfied: spacy-legacy<3.1.0,>=3.0.11 in /usr/local/lib/python3.10/dist-packages (from spacy<3.7.0,>=3.6.0->en-core-web-md==3.6.0) (3.0.12)\n",
            "Requirement already satisfied: spacy-loggers<2.0.0,>=1.0.0 in /usr/local/lib/python3.10/dist-packages (from spacy<3.7.0,>=3.6.0->en-core-web-md==3.6.0) (1.0.4)\n",
            "Requirement already satisfied: murmurhash<1.1.0,>=0.28.0 in /usr/local/lib/python3.10/dist-packages (from spacy<3.7.0,>=3.6.0->en-core-web-md==3.6.0) (1.0.9)\n",
            "Requirement already satisfied: cymem<2.1.0,>=2.0.2 in /usr/local/lib/python3.10/dist-packages (from spacy<3.7.0,>=3.6.0->en-core-web-md==3.6.0) (2.0.7)\n",
            "Requirement already satisfied: preshed<3.1.0,>=3.0.2 in /usr/local/lib/python3.10/dist-packages (from spacy<3.7.0,>=3.6.0->en-core-web-md==3.6.0) (3.0.8)\n",
            "Requirement already satisfied: thinc<8.2.0,>=8.1.8 in /usr/local/lib/python3.10/dist-packages (from spacy<3.7.0,>=3.6.0->en-core-web-md==3.6.0) (8.1.12)\n",
            "Requirement already satisfied: wasabi<1.2.0,>=0.9.1 in /usr/local/lib/python3.10/dist-packages (from spacy<3.7.0,>=3.6.0->en-core-web-md==3.6.0) (1.1.2)\n",
            "Requirement already satisfied: srsly<3.0.0,>=2.4.3 in /usr/local/lib/python3.10/dist-packages (from spacy<3.7.0,>=3.6.0->en-core-web-md==3.6.0) (2.4.7)\n",
            "Requirement already satisfied: catalogue<2.1.0,>=2.0.6 in /usr/local/lib/python3.10/dist-packages (from spacy<3.7.0,>=3.6.0->en-core-web-md==3.6.0) (2.0.9)\n",
            "Requirement already satisfied: typer<0.10.0,>=0.3.0 in /usr/local/lib/python3.10/dist-packages (from spacy<3.7.0,>=3.6.0->en-core-web-md==3.6.0) (0.9.0)\n",
            "Requirement already satisfied: pathy>=0.10.0 in /usr/local/lib/python3.10/dist-packages (from spacy<3.7.0,>=3.6.0->en-core-web-md==3.6.0) (0.10.2)\n",
            "Requirement already satisfied: smart-open<7.0.0,>=5.2.1 in /usr/local/lib/python3.10/dist-packages (from spacy<3.7.0,>=3.6.0->en-core-web-md==3.6.0) (6.3.0)\n",
            "Requirement already satisfied: tqdm<5.0.0,>=4.38.0 in /usr/local/lib/python3.10/dist-packages (from spacy<3.7.0,>=3.6.0->en-core-web-md==3.6.0) (4.66.1)\n",
            "Requirement already satisfied: numpy>=1.15.0 in /usr/local/lib/python3.10/dist-packages (from spacy<3.7.0,>=3.6.0->en-core-web-md==3.6.0) (1.23.5)\n",
            "Requirement already satisfied: requests<3.0.0,>=2.13.0 in /usr/local/lib/python3.10/dist-packages (from spacy<3.7.0,>=3.6.0->en-core-web-md==3.6.0) (2.31.0)\n",
            "Requirement already satisfied: pydantic!=1.8,!=1.8.1,<3.0.0,>=1.7.4 in /usr/local/lib/python3.10/dist-packages (from spacy<3.7.0,>=3.6.0->en-core-web-md==3.6.0) (2.2.1)\n",
            "Requirement already satisfied: jinja2 in /usr/local/lib/python3.10/dist-packages (from spacy<3.7.0,>=3.6.0->en-core-web-md==3.6.0) (3.1.2)\n",
            "Requirement already satisfied: setuptools in /usr/local/lib/python3.10/dist-packages (from spacy<3.7.0,>=3.6.0->en-core-web-md==3.6.0) (67.7.2)\n",
            "Requirement already satisfied: packaging>=20.0 in /usr/local/lib/python3.10/dist-packages (from spacy<3.7.0,>=3.6.0->en-core-web-md==3.6.0) (23.1)\n",
            "Requirement already satisfied: langcodes<4.0.0,>=3.2.0 in /usr/local/lib/python3.10/dist-packages (from spacy<3.7.0,>=3.6.0->en-core-web-md==3.6.0) (3.3.0)\n",
            "Requirement already satisfied: annotated-types>=0.4.0 in /usr/local/lib/python3.10/dist-packages (from pydantic!=1.8,!=1.8.1,<3.0.0,>=1.7.4->spacy<3.7.0,>=3.6.0->en-core-web-md==3.6.0) (0.5.0)\n",
            "Requirement already satisfied: pydantic-core==2.6.1 in /usr/local/lib/python3.10/dist-packages (from pydantic!=1.8,!=1.8.1,<3.0.0,>=1.7.4->spacy<3.7.0,>=3.6.0->en-core-web-md==3.6.0) (2.6.1)\n",
            "Requirement already satisfied: typing-extensions>=4.6.1 in /usr/local/lib/python3.10/dist-packages (from pydantic!=1.8,!=1.8.1,<3.0.0,>=1.7.4->spacy<3.7.0,>=3.6.0->en-core-web-md==3.6.0) (4.7.1)\n",
            "Requirement already satisfied: charset-normalizer<4,>=2 in /usr/local/lib/python3.10/dist-packages (from requests<3.0.0,>=2.13.0->spacy<3.7.0,>=3.6.0->en-core-web-md==3.6.0) (3.2.0)\n",
            "Requirement already satisfied: idna<4,>=2.5 in /usr/local/lib/python3.10/dist-packages (from requests<3.0.0,>=2.13.0->spacy<3.7.0,>=3.6.0->en-core-web-md==3.6.0) (3.4)\n",
            "Requirement already satisfied: urllib3<3,>=1.21.1 in /usr/local/lib/python3.10/dist-packages (from requests<3.0.0,>=2.13.0->spacy<3.7.0,>=3.6.0->en-core-web-md==3.6.0) (2.0.4)\n",
            "Requirement already satisfied: certifi>=2017.4.17 in /usr/local/lib/python3.10/dist-packages (from requests<3.0.0,>=2.13.0->spacy<3.7.0,>=3.6.0->en-core-web-md==3.6.0) (2023.7.22)\n",
            "Requirement already satisfied: blis<0.8.0,>=0.7.8 in /usr/local/lib/python3.10/dist-packages (from thinc<8.2.0,>=8.1.8->spacy<3.7.0,>=3.6.0->en-core-web-md==3.6.0) (0.7.10)\n",
            "Requirement already satisfied: confection<1.0.0,>=0.0.1 in /usr/local/lib/python3.10/dist-packages (from thinc<8.2.0,>=8.1.8->spacy<3.7.0,>=3.6.0->en-core-web-md==3.6.0) (0.1.1)\n",
            "Requirement already satisfied: click<9.0.0,>=7.1.1 in /usr/local/lib/python3.10/dist-packages (from typer<0.10.0,>=0.3.0->spacy<3.7.0,>=3.6.0->en-core-web-md==3.6.0) (8.1.7)\n",
            "Requirement already satisfied: MarkupSafe>=2.0 in /usr/local/lib/python3.10/dist-packages (from jinja2->spacy<3.7.0,>=3.6.0->en-core-web-md==3.6.0) (2.1.3)\n",
            "Installing collected packages: en-core-web-md\n",
            "Successfully installed en-core-web-md-3.6.0\n",
            "\u001b[38;5;2m✔ Download and installation successful\u001b[0m\n",
            "You can now load the package via spacy.load('en_core_web_md')\n"
          ]
        }
      ]
    },
    {
      "cell_type": "code",
      "source": [
        "nlp = spacy.load(\"en_core_web_md\")"
      ],
      "metadata": {
        "id": "kFZPATOCNSv0"
      },
      "execution_count": 25,
      "outputs": []
    },
    {
      "cell_type": "code",
      "source": [
        "job_description = \"\"\"\n",
        "Location: Suffolk County, NY\n",
        "\n",
        "Job Duties and Responsibilities:\n",
        "\n",
        " * Delivers revenues and profits by developing, marketing, and providing appealing restaurant service; managing staff.\n",
        " * Elevates restaurant business plan by surveying restaurant demand; conferring with people in the community; identifying and evaluating competitors; preparing financial, marketing, and sales projections, analyses, and estimates.\n",
        " * Meets restaurant financial objectives by preparing strategic and annual forecasts and budgets; establishing and monitoring financial controls; developing and implementing strategies to increase average meal checks.\n",
        " * Attracts patrons by developing and implementing marketing, advertising, public and community relations programs; evaluating program results; identifying and tracking changing demands.\n",
        " * Controls purchases and inventory by meeting with Purchasing Manager; reviewing and evaluating usage reports; analyzing variances; taking corrective actions.\n",
        " * Maintains operations by adhering to policies and standard operating procedures; implementing production, productivity, quality, and patron-service standards; determining and implementing system improvements.\n",
        " * Maintains patron satisfaction by monitoring, evaluating, and auditing food, beverage, and service offerings; initiating improvements; building relationships with preferred patrons.\n",
        " * Accomplishes restaurant and bar human resource objectives by selecting, training, scheduling and disciplining management and staff; communicating job expectations; enforcing policies and procedures.\n",
        " * Maintains safe, secure, and healthy facility environment by establishing, following, and enforcing sanitation standards and procedures; complying with health and legal regulations; maintaining security systems.\n",
        " * Maintains professional and technical knowledge by tracking emerging trends in the restaurant industry; attending educational workshops; reviewing professional publications; establishing personal networks; benchmarking state-of-the-art practices; participating in professional societies.\n",
        " * Accomplishes company goals by accepting ownership for accomplishing new and different requests; exploring opportunities to add value to job accomplishments.\n",
        "\n",
        "Qualifications:\n",
        "\n",
        " * Cost Accounting\n",
        " * Developing Budgets\n",
        " * Financial Planning and Strategy\n",
        " * Decision Making\n",
        " * Process Improvement\n",
        " * Strategic Planning\n",
        " * Verbal Communication\n",
        " * Customer Focus\n",
        " * Management Proficiency\n",
        " * Managing Profitability\n",
        "\n",
        "Qualifications:\n",
        "\n",
        " * Minimum 5 years restaurant management experience in a high volume property\n",
        " * Exemplary leadership and supervision skills\n",
        " * Superior client relations skills\n",
        " * Administrative abilities in budget administration\n",
        " * Must have a keen eye for detail.\n",
        " * Results oriented and enthusiastic.\n",
        " * Must have extremely high standards in all areas and a passion for guest service.\n",
        " * Computer and Internet competency including Excel, Word, and event software.\n",
        " * Excellent oral and written communication skills.\n",
        " \"\"\""
      ],
      "metadata": {
        "id": "FvN25pK6Ny3S"
      },
      "execution_count": 26,
      "outputs": []
    },
    {
      "cell_type": "code",
      "source": [
        "doc = nlp(job_description)"
      ],
      "metadata": {
        "id": "RJc0ZdxDN3Yg"
      },
      "execution_count": 27,
      "outputs": []
    },
    {
      "cell_type": "code",
      "source": [
        "numerical_info = [(ent.text, ent.start, ent.end) for ent in doc.ents if ent.label_ == \"DATE\"]"
      ],
      "metadata": {
        "id": "kDl0C84fN7Pm"
      },
      "execution_count": 28,
      "outputs": []
    },
    {
      "cell_type": "code",
      "source": [
        "greater_keywords = [\"minimum\", \"greater\", \"more than\"]\n",
        "less_keywords = [\"less\", \"fewer\", \"not more than\", \"at most\"]"
      ],
      "metadata": {
        "id": "me_UFIj_OIuB"
      },
      "execution_count": 29,
      "outputs": []
    },
    {
      "cell_type": "code",
      "source": [
        "result = []\n",
        "for numerical_entity, start, end in numerical_info:\n",
        "    preceding_token = doc[start - 1] if start > 0 else None\n",
        "    following_token = doc[end] if end < len(doc) else None\n",
        "\n",
        "    # Calculate semantic similarity based on spaCy word vectors\n",
        "    similarity_greater = max([preceding_token.similarity(nlp(keyword)) for keyword in greater_keywords], default=0) if preceding_token else 0\n",
        "    similarity_less = max([preceding_token.similarity(nlp(keyword)) for keyword in less_keywords], default=0) if preceding_token else 0\n",
        "\n",
        "    # Determine the relationship based on semantic similarity\n",
        "    if similarity_greater > similarity_less:\n",
        "        relationship = \"greater than\"\n",
        "    elif similarity_less > similarity_greater:\n",
        "        relationship = \"less than\"\n",
        "    else:\n",
        "        relationship = \"equal to\"\n",
        "\n",
        "    result.append((preceding_token, numerical_entity, following_token, relationship))"
      ],
      "metadata": {
        "id": "ttf1ShntOZIW"
      },
      "execution_count": 32,
      "outputs": []
    },
    {
      "cell_type": "code",
      "source": [
        "print(\"Extracted Numerical Information with Contextual Relationships:\")\n",
        "for preceding_token, numerical_entity, following_token, relationship in result:\n",
        "    print(f\"Preceding: {preceding_token}, Numerical Entity: {numerical_entity}, Following: {following_token}, Relationship: {relationship}\")"
      ],
      "metadata": {
        "colab": {
          "base_uri": "https://localhost:8080/"
        },
        "id": "RyjE8tzwQRqv",
        "outputId": "05f75236-1f3c-4c97-80cc-a92309046ced"
      },
      "execution_count": 33,
      "outputs": [
        {
          "output_type": "stream",
          "name": "stdout",
          "text": [
            "Extracted Numerical Information with Contextual Relationships:\n",
            "Preceding: and, Numerical Entity: annual, Following: forecasts, Relationship: greater than\n",
            "Preceding: Minimum, Numerical Entity: 5 years, Following: restaurant, Relationship: greater than\n"
          ]
        }
      ]
    },
    {
      "cell_type": "code",
      "source": [
        "experience_categories = []\n",
        "for _, numerical_entity, _, relationship in result:\n",
        "  if relationship == \"greater than\":\n",
        "    experience_categories.append(\"5 + years\")\n",
        "  elif relationship == \"less than\":\n",
        "    experience_categories.append(\"0 - 2 years\")\n",
        "  else:\n",
        "    experience_categories.append(\"3 - 5 years\")"
      ],
      "metadata": {
        "id": "Q7J0lMVwQ8A5"
      },
      "execution_count": 34,
      "outputs": []
    },
    {
      "cell_type": "code",
      "source": [
        "data = {\"Numerical Entity\": [x[1] for x in result], \"Experience Category\": experience_categories}\n",
        "df = pd.DataFrame(data)"
      ],
      "metadata": {
        "id": "tA8rD_2_dXCu"
      },
      "execution_count": 35,
      "outputs": []
    },
    {
      "cell_type": "code",
      "source": [
        "print(df)"
      ],
      "metadata": {
        "colab": {
          "base_uri": "https://localhost:8080/"
        },
        "id": "Pis2NP8xd-qu",
        "outputId": "1837ec1a-60ad-49bf-d793-b17a61eec411"
      },
      "execution_count": 36,
      "outputs": [
        {
          "output_type": "stream",
          "name": "stdout",
          "text": [
            "  Numerical Entity Experience Category\n",
            "0           annual           5 + years\n",
            "1          5 years           5 + years\n"
          ]
        }
      ]
    },
    {
      "cell_type": "code",
      "source": [],
      "metadata": {
        "id": "LWW4O0HveAlF"
      },
      "execution_count": null,
      "outputs": []
    }
  ]
}