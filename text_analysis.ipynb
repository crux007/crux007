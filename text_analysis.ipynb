{
  "nbformat": 4,
  "nbformat_minor": 0,
  "metadata": {
    "colab": {
      "provenance": [],
      "mount_file_id": "1aj7WR2fCdSWIye_N2r4uQlGb6IWGYTQn",
      "authorship_tag": "ABX9TyNQsbhDfRPeFwvfL96uOkCK",
      "include_colab_link": true
    },
    "kernelspec": {
      "name": "python3",
      "display_name": "Python 3"
    },
    "language_info": {
      "name": "python"
    },
    "widgets": {
      "application/vnd.jupyter.widget-state+json": {
        "1967b3c6bef145c5b59cd8904d8abeb4": {
          "model_module": "@jupyter-widgets/controls",
          "model_name": "HBoxModel",
          "model_module_version": "1.5.0",
          "state": {
            "_dom_classes": [],
            "_model_module": "@jupyter-widgets/controls",
            "_model_module_version": "1.5.0",
            "_model_name": "HBoxModel",
            "_view_count": null,
            "_view_module": "@jupyter-widgets/controls",
            "_view_module_version": "1.5.0",
            "_view_name": "HBoxView",
            "box_style": "",
            "children": [
              "IPY_MODEL_f87ead5755244ac998767544b8ce2a88",
              "IPY_MODEL_69f47c6aa91d459a8961f87b13d2ae2a",
              "IPY_MODEL_ea1b7c9ebb474ecf9b74b7764b6ef9da"
            ],
            "layout": "IPY_MODEL_c93e46411d6e4141ad42ec68cd080877"
          }
        },
        "f87ead5755244ac998767544b8ce2a88": {
          "model_module": "@jupyter-widgets/controls",
          "model_name": "HTMLModel",
          "model_module_version": "1.5.0",
          "state": {
            "_dom_classes": [],
            "_model_module": "@jupyter-widgets/controls",
            "_model_module_version": "1.5.0",
            "_model_name": "HTMLModel",
            "_view_count": null,
            "_view_module": "@jupyter-widgets/controls",
            "_view_module_version": "1.5.0",
            "_view_name": "HTMLView",
            "description": "",
            "description_tooltip": null,
            "layout": "IPY_MODEL_42c522763aed4087bccb9267e31e65fe",
            "placeholder": "​",
            "style": "IPY_MODEL_bb7599fd4591472394c8679d2f90c952",
            "value": "Downloading https://raw.githubusercontent.com/stanfordnlp/stanza-resources/main/resources_1.5.0.json: "
          }
        },
        "69f47c6aa91d459a8961f87b13d2ae2a": {
          "model_module": "@jupyter-widgets/controls",
          "model_name": "FloatProgressModel",
          "model_module_version": "1.5.0",
          "state": {
            "_dom_classes": [],
            "_model_module": "@jupyter-widgets/controls",
            "_model_module_version": "1.5.0",
            "_model_name": "FloatProgressModel",
            "_view_count": null,
            "_view_module": "@jupyter-widgets/controls",
            "_view_module_version": "1.5.0",
            "_view_name": "ProgressView",
            "bar_style": "success",
            "description": "",
            "description_tooltip": null,
            "layout": "IPY_MODEL_7a5f544c84a0427bab8f8ef0271b052d",
            "max": 30022,
            "min": 0,
            "orientation": "horizontal",
            "style": "IPY_MODEL_2e0c6f32ed5c411784c864211eeaa0cd",
            "value": 30022
          }
        },
        "ea1b7c9ebb474ecf9b74b7764b6ef9da": {
          "model_module": "@jupyter-widgets/controls",
          "model_name": "HTMLModel",
          "model_module_version": "1.5.0",
          "state": {
            "_dom_classes": [],
            "_model_module": "@jupyter-widgets/controls",
            "_model_module_version": "1.5.0",
            "_model_name": "HTMLModel",
            "_view_count": null,
            "_view_module": "@jupyter-widgets/controls",
            "_view_module_version": "1.5.0",
            "_view_name": "HTMLView",
            "description": "",
            "description_tooltip": null,
            "layout": "IPY_MODEL_7ea9ae01419741bab2a11e45ff083ec8",
            "placeholder": "​",
            "style": "IPY_MODEL_dbdbcca3b682491d92e409cee3dfb3a2",
            "value": " 216k/? [00:00&lt;00:00, 2.58MB/s]"
          }
        },
        "c93e46411d6e4141ad42ec68cd080877": {
          "model_module": "@jupyter-widgets/base",
          "model_name": "LayoutModel",
          "model_module_version": "1.2.0",
          "state": {
            "_model_module": "@jupyter-widgets/base",
            "_model_module_version": "1.2.0",
            "_model_name": "LayoutModel",
            "_view_count": null,
            "_view_module": "@jupyter-widgets/base",
            "_view_module_version": "1.2.0",
            "_view_name": "LayoutView",
            "align_content": null,
            "align_items": null,
            "align_self": null,
            "border": null,
            "bottom": null,
            "display": null,
            "flex": null,
            "flex_flow": null,
            "grid_area": null,
            "grid_auto_columns": null,
            "grid_auto_flow": null,
            "grid_auto_rows": null,
            "grid_column": null,
            "grid_gap": null,
            "grid_row": null,
            "grid_template_areas": null,
            "grid_template_columns": null,
            "grid_template_rows": null,
            "height": null,
            "justify_content": null,
            "justify_items": null,
            "left": null,
            "margin": null,
            "max_height": null,
            "max_width": null,
            "min_height": null,
            "min_width": null,
            "object_fit": null,
            "object_position": null,
            "order": null,
            "overflow": null,
            "overflow_x": null,
            "overflow_y": null,
            "padding": null,
            "right": null,
            "top": null,
            "visibility": null,
            "width": null
          }
        },
        "42c522763aed4087bccb9267e31e65fe": {
          "model_module": "@jupyter-widgets/base",
          "model_name": "LayoutModel",
          "model_module_version": "1.2.0",
          "state": {
            "_model_module": "@jupyter-widgets/base",
            "_model_module_version": "1.2.0",
            "_model_name": "LayoutModel",
            "_view_count": null,
            "_view_module": "@jupyter-widgets/base",
            "_view_module_version": "1.2.0",
            "_view_name": "LayoutView",
            "align_content": null,
            "align_items": null,
            "align_self": null,
            "border": null,
            "bottom": null,
            "display": null,
            "flex": null,
            "flex_flow": null,
            "grid_area": null,
            "grid_auto_columns": null,
            "grid_auto_flow": null,
            "grid_auto_rows": null,
            "grid_column": null,
            "grid_gap": null,
            "grid_row": null,
            "grid_template_areas": null,
            "grid_template_columns": null,
            "grid_template_rows": null,
            "height": null,
            "justify_content": null,
            "justify_items": null,
            "left": null,
            "margin": null,
            "max_height": null,
            "max_width": null,
            "min_height": null,
            "min_width": null,
            "object_fit": null,
            "object_position": null,
            "order": null,
            "overflow": null,
            "overflow_x": null,
            "overflow_y": null,
            "padding": null,
            "right": null,
            "top": null,
            "visibility": null,
            "width": null
          }
        },
        "bb7599fd4591472394c8679d2f90c952": {
          "model_module": "@jupyter-widgets/controls",
          "model_name": "DescriptionStyleModel",
          "model_module_version": "1.5.0",
          "state": {
            "_model_module": "@jupyter-widgets/controls",
            "_model_module_version": "1.5.0",
            "_model_name": "DescriptionStyleModel",
            "_view_count": null,
            "_view_module": "@jupyter-widgets/base",
            "_view_module_version": "1.2.0",
            "_view_name": "StyleView",
            "description_width": ""
          }
        },
        "7a5f544c84a0427bab8f8ef0271b052d": {
          "model_module": "@jupyter-widgets/base",
          "model_name": "LayoutModel",
          "model_module_version": "1.2.0",
          "state": {
            "_model_module": "@jupyter-widgets/base",
            "_model_module_version": "1.2.0",
            "_model_name": "LayoutModel",
            "_view_count": null,
            "_view_module": "@jupyter-widgets/base",
            "_view_module_version": "1.2.0",
            "_view_name": "LayoutView",
            "align_content": null,
            "align_items": null,
            "align_self": null,
            "border": null,
            "bottom": null,
            "display": null,
            "flex": null,
            "flex_flow": null,
            "grid_area": null,
            "grid_auto_columns": null,
            "grid_auto_flow": null,
            "grid_auto_rows": null,
            "grid_column": null,
            "grid_gap": null,
            "grid_row": null,
            "grid_template_areas": null,
            "grid_template_columns": null,
            "grid_template_rows": null,
            "height": null,
            "justify_content": null,
            "justify_items": null,
            "left": null,
            "margin": null,
            "max_height": null,
            "max_width": null,
            "min_height": null,
            "min_width": null,
            "object_fit": null,
            "object_position": null,
            "order": null,
            "overflow": null,
            "overflow_x": null,
            "overflow_y": null,
            "padding": null,
            "right": null,
            "top": null,
            "visibility": null,
            "width": null
          }
        },
        "2e0c6f32ed5c411784c864211eeaa0cd": {
          "model_module": "@jupyter-widgets/controls",
          "model_name": "ProgressStyleModel",
          "model_module_version": "1.5.0",
          "state": {
            "_model_module": "@jupyter-widgets/controls",
            "_model_module_version": "1.5.0",
            "_model_name": "ProgressStyleModel",
            "_view_count": null,
            "_view_module": "@jupyter-widgets/base",
            "_view_module_version": "1.2.0",
            "_view_name": "StyleView",
            "bar_color": null,
            "description_width": ""
          }
        },
        "7ea9ae01419741bab2a11e45ff083ec8": {
          "model_module": "@jupyter-widgets/base",
          "model_name": "LayoutModel",
          "model_module_version": "1.2.0",
          "state": {
            "_model_module": "@jupyter-widgets/base",
            "_model_module_version": "1.2.0",
            "_model_name": "LayoutModel",
            "_view_count": null,
            "_view_module": "@jupyter-widgets/base",
            "_view_module_version": "1.2.0",
            "_view_name": "LayoutView",
            "align_content": null,
            "align_items": null,
            "align_self": null,
            "border": null,
            "bottom": null,
            "display": null,
            "flex": null,
            "flex_flow": null,
            "grid_area": null,
            "grid_auto_columns": null,
            "grid_auto_flow": null,
            "grid_auto_rows": null,
            "grid_column": null,
            "grid_gap": null,
            "grid_row": null,
            "grid_template_areas": null,
            "grid_template_columns": null,
            "grid_template_rows": null,
            "height": null,
            "justify_content": null,
            "justify_items": null,
            "left": null,
            "margin": null,
            "max_height": null,
            "max_width": null,
            "min_height": null,
            "min_width": null,
            "object_fit": null,
            "object_position": null,
            "order": null,
            "overflow": null,
            "overflow_x": null,
            "overflow_y": null,
            "padding": null,
            "right": null,
            "top": null,
            "visibility": null,
            "width": null
          }
        },
        "dbdbcca3b682491d92e409cee3dfb3a2": {
          "model_module": "@jupyter-widgets/controls",
          "model_name": "DescriptionStyleModel",
          "model_module_version": "1.5.0",
          "state": {
            "_model_module": "@jupyter-widgets/controls",
            "_model_module_version": "1.5.0",
            "_model_name": "DescriptionStyleModel",
            "_view_count": null,
            "_view_module": "@jupyter-widgets/base",
            "_view_module_version": "1.2.0",
            "_view_name": "StyleView",
            "description_width": ""
          }
        },
        "5abd531cecdc405d99a4f5b4595036b5": {
          "model_module": "@jupyter-widgets/controls",
          "model_name": "HBoxModel",
          "model_module_version": "1.5.0",
          "state": {
            "_dom_classes": [],
            "_model_module": "@jupyter-widgets/controls",
            "_model_module_version": "1.5.0",
            "_model_name": "HBoxModel",
            "_view_count": null,
            "_view_module": "@jupyter-widgets/controls",
            "_view_module_version": "1.5.0",
            "_view_name": "HBoxView",
            "box_style": "",
            "children": [
              "IPY_MODEL_0f3c4bc9920e46b59c89b41f3724082b",
              "IPY_MODEL_6a55bf9e722c464ebfe5faed35e3490d",
              "IPY_MODEL_a7fd39ec23ab42e1b117cf85b4d7c751"
            ],
            "layout": "IPY_MODEL_879b8167e86c4d86bae29f86a05be90c"
          }
        },
        "0f3c4bc9920e46b59c89b41f3724082b": {
          "model_module": "@jupyter-widgets/controls",
          "model_name": "HTMLModel",
          "model_module_version": "1.5.0",
          "state": {
            "_dom_classes": [],
            "_model_module": "@jupyter-widgets/controls",
            "_model_module_version": "1.5.0",
            "_model_name": "HTMLModel",
            "_view_count": null,
            "_view_module": "@jupyter-widgets/controls",
            "_view_module_version": "1.5.0",
            "_view_name": "HTMLView",
            "description": "",
            "description_tooltip": null,
            "layout": "IPY_MODEL_952ee33f908146ae9056e5cbef1d6190",
            "placeholder": "​",
            "style": "IPY_MODEL_ba3b6e100d2e4b8a8f84b7a046159bb4",
            "value": "Downloading https://huggingface.co/stanfordnlp/stanza-en/resolve/v1.5.0/models/default.zip: 100%"
          }
        },
        "6a55bf9e722c464ebfe5faed35e3490d": {
          "model_module": "@jupyter-widgets/controls",
          "model_name": "FloatProgressModel",
          "model_module_version": "1.5.0",
          "state": {
            "_dom_classes": [],
            "_model_module": "@jupyter-widgets/controls",
            "_model_module_version": "1.5.0",
            "_model_name": "FloatProgressModel",
            "_view_count": null,
            "_view_module": "@jupyter-widgets/controls",
            "_view_module_version": "1.5.0",
            "_view_name": "ProgressView",
            "bar_style": "success",
            "description": "",
            "description_tooltip": null,
            "layout": "IPY_MODEL_1388c5df1d2346a9a20fafbf98fb70ed",
            "max": 594107770,
            "min": 0,
            "orientation": "horizontal",
            "style": "IPY_MODEL_2b96c73318cc44b3be14356102575e8a",
            "value": 594107770
          }
        },
        "a7fd39ec23ab42e1b117cf85b4d7c751": {
          "model_module": "@jupyter-widgets/controls",
          "model_name": "HTMLModel",
          "model_module_version": "1.5.0",
          "state": {
            "_dom_classes": [],
            "_model_module": "@jupyter-widgets/controls",
            "_model_module_version": "1.5.0",
            "_model_name": "HTMLModel",
            "_view_count": null,
            "_view_module": "@jupyter-widgets/controls",
            "_view_module_version": "1.5.0",
            "_view_name": "HTMLView",
            "description": "",
            "description_tooltip": null,
            "layout": "IPY_MODEL_964fe570e49c46458106708d50bd72be",
            "placeholder": "​",
            "style": "IPY_MODEL_8dba84c2de9a415693b46b72e0e38fda",
            "value": " 594M/594M [00:06&lt;00:00, 68.7MB/s]"
          }
        },
        "879b8167e86c4d86bae29f86a05be90c": {
          "model_module": "@jupyter-widgets/base",
          "model_name": "LayoutModel",
          "model_module_version": "1.2.0",
          "state": {
            "_model_module": "@jupyter-widgets/base",
            "_model_module_version": "1.2.0",
            "_model_name": "LayoutModel",
            "_view_count": null,
            "_view_module": "@jupyter-widgets/base",
            "_view_module_version": "1.2.0",
            "_view_name": "LayoutView",
            "align_content": null,
            "align_items": null,
            "align_self": null,
            "border": null,
            "bottom": null,
            "display": null,
            "flex": null,
            "flex_flow": null,
            "grid_area": null,
            "grid_auto_columns": null,
            "grid_auto_flow": null,
            "grid_auto_rows": null,
            "grid_column": null,
            "grid_gap": null,
            "grid_row": null,
            "grid_template_areas": null,
            "grid_template_columns": null,
            "grid_template_rows": null,
            "height": null,
            "justify_content": null,
            "justify_items": null,
            "left": null,
            "margin": null,
            "max_height": null,
            "max_width": null,
            "min_height": null,
            "min_width": null,
            "object_fit": null,
            "object_position": null,
            "order": null,
            "overflow": null,
            "overflow_x": null,
            "overflow_y": null,
            "padding": null,
            "right": null,
            "top": null,
            "visibility": null,
            "width": null
          }
        },
        "952ee33f908146ae9056e5cbef1d6190": {
          "model_module": "@jupyter-widgets/base",
          "model_name": "LayoutModel",
          "model_module_version": "1.2.0",
          "state": {
            "_model_module": "@jupyter-widgets/base",
            "_model_module_version": "1.2.0",
            "_model_name": "LayoutModel",
            "_view_count": null,
            "_view_module": "@jupyter-widgets/base",
            "_view_module_version": "1.2.0",
            "_view_name": "LayoutView",
            "align_content": null,
            "align_items": null,
            "align_self": null,
            "border": null,
            "bottom": null,
            "display": null,
            "flex": null,
            "flex_flow": null,
            "grid_area": null,
            "grid_auto_columns": null,
            "grid_auto_flow": null,
            "grid_auto_rows": null,
            "grid_column": null,
            "grid_gap": null,
            "grid_row": null,
            "grid_template_areas": null,
            "grid_template_columns": null,
            "grid_template_rows": null,
            "height": null,
            "justify_content": null,
            "justify_items": null,
            "left": null,
            "margin": null,
            "max_height": null,
            "max_width": null,
            "min_height": null,
            "min_width": null,
            "object_fit": null,
            "object_position": null,
            "order": null,
            "overflow": null,
            "overflow_x": null,
            "overflow_y": null,
            "padding": null,
            "right": null,
            "top": null,
            "visibility": null,
            "width": null
          }
        },
        "ba3b6e100d2e4b8a8f84b7a046159bb4": {
          "model_module": "@jupyter-widgets/controls",
          "model_name": "DescriptionStyleModel",
          "model_module_version": "1.5.0",
          "state": {
            "_model_module": "@jupyter-widgets/controls",
            "_model_module_version": "1.5.0",
            "_model_name": "DescriptionStyleModel",
            "_view_count": null,
            "_view_module": "@jupyter-widgets/base",
            "_view_module_version": "1.2.0",
            "_view_name": "StyleView",
            "description_width": ""
          }
        },
        "1388c5df1d2346a9a20fafbf98fb70ed": {
          "model_module": "@jupyter-widgets/base",
          "model_name": "LayoutModel",
          "model_module_version": "1.2.0",
          "state": {
            "_model_module": "@jupyter-widgets/base",
            "_model_module_version": "1.2.0",
            "_model_name": "LayoutModel",
            "_view_count": null,
            "_view_module": "@jupyter-widgets/base",
            "_view_module_version": "1.2.0",
            "_view_name": "LayoutView",
            "align_content": null,
            "align_items": null,
            "align_self": null,
            "border": null,
            "bottom": null,
            "display": null,
            "flex": null,
            "flex_flow": null,
            "grid_area": null,
            "grid_auto_columns": null,
            "grid_auto_flow": null,
            "grid_auto_rows": null,
            "grid_column": null,
            "grid_gap": null,
            "grid_row": null,
            "grid_template_areas": null,
            "grid_template_columns": null,
            "grid_template_rows": null,
            "height": null,
            "justify_content": null,
            "justify_items": null,
            "left": null,
            "margin": null,
            "max_height": null,
            "max_width": null,
            "min_height": null,
            "min_width": null,
            "object_fit": null,
            "object_position": null,
            "order": null,
            "overflow": null,
            "overflow_x": null,
            "overflow_y": null,
            "padding": null,
            "right": null,
            "top": null,
            "visibility": null,
            "width": null
          }
        },
        "2b96c73318cc44b3be14356102575e8a": {
          "model_module": "@jupyter-widgets/controls",
          "model_name": "ProgressStyleModel",
          "model_module_version": "1.5.0",
          "state": {
            "_model_module": "@jupyter-widgets/controls",
            "_model_module_version": "1.5.0",
            "_model_name": "ProgressStyleModel",
            "_view_count": null,
            "_view_module": "@jupyter-widgets/base",
            "_view_module_version": "1.2.0",
            "_view_name": "StyleView",
            "bar_color": null,
            "description_width": ""
          }
        },
        "964fe570e49c46458106708d50bd72be": {
          "model_module": "@jupyter-widgets/base",
          "model_name": "LayoutModel",
          "model_module_version": "1.2.0",
          "state": {
            "_model_module": "@jupyter-widgets/base",
            "_model_module_version": "1.2.0",
            "_model_name": "LayoutModel",
            "_view_count": null,
            "_view_module": "@jupyter-widgets/base",
            "_view_module_version": "1.2.0",
            "_view_name": "LayoutView",
            "align_content": null,
            "align_items": null,
            "align_self": null,
            "border": null,
            "bottom": null,
            "display": null,
            "flex": null,
            "flex_flow": null,
            "grid_area": null,
            "grid_auto_columns": null,
            "grid_auto_flow": null,
            "grid_auto_rows": null,
            "grid_column": null,
            "grid_gap": null,
            "grid_row": null,
            "grid_template_areas": null,
            "grid_template_columns": null,
            "grid_template_rows": null,
            "height": null,
            "justify_content": null,
            "justify_items": null,
            "left": null,
            "margin": null,
            "max_height": null,
            "max_width": null,
            "min_height": null,
            "min_width": null,
            "object_fit": null,
            "object_position": null,
            "order": null,
            "overflow": null,
            "overflow_x": null,
            "overflow_y": null,
            "padding": null,
            "right": null,
            "top": null,
            "visibility": null,
            "width": null
          }
        },
        "8dba84c2de9a415693b46b72e0e38fda": {
          "model_module": "@jupyter-widgets/controls",
          "model_name": "DescriptionStyleModel",
          "model_module_version": "1.5.0",
          "state": {
            "_model_module": "@jupyter-widgets/controls",
            "_model_module_version": "1.5.0",
            "_model_name": "DescriptionStyleModel",
            "_view_count": null,
            "_view_module": "@jupyter-widgets/base",
            "_view_module_version": "1.2.0",
            "_view_name": "StyleView",
            "description_width": ""
          }
        },
        "f8750f783ce845dc960747fb65fcc9d6": {
          "model_module": "@jupyter-widgets/controls",
          "model_name": "HBoxModel",
          "model_module_version": "1.5.0",
          "state": {
            "_dom_classes": [],
            "_model_module": "@jupyter-widgets/controls",
            "_model_module_version": "1.5.0",
            "_model_name": "HBoxModel",
            "_view_count": null,
            "_view_module": "@jupyter-widgets/controls",
            "_view_module_version": "1.5.0",
            "_view_name": "HBoxView",
            "box_style": "",
            "children": [
              "IPY_MODEL_2b5e93c6d3eb479ab37f11002416e7a1",
              "IPY_MODEL_3c6b11f29b784fe5ab877a094cb6aedb",
              "IPY_MODEL_bed2594a03834acd877535f64c57d163"
            ],
            "layout": "IPY_MODEL_98caa9b832e943f391cccfd534db48e0"
          }
        },
        "2b5e93c6d3eb479ab37f11002416e7a1": {
          "model_module": "@jupyter-widgets/controls",
          "model_name": "HTMLModel",
          "model_module_version": "1.5.0",
          "state": {
            "_dom_classes": [],
            "_model_module": "@jupyter-widgets/controls",
            "_model_module_version": "1.5.0",
            "_model_name": "HTMLModel",
            "_view_count": null,
            "_view_module": "@jupyter-widgets/controls",
            "_view_module_version": "1.5.0",
            "_view_name": "HTMLView",
            "description": "",
            "description_tooltip": null,
            "layout": "IPY_MODEL_b90f86e5ef484352a203717063ac6371",
            "placeholder": "​",
            "style": "IPY_MODEL_f06c2ee5103a44028abf2ff01db4718a",
            "value": "Downloading https://raw.githubusercontent.com/stanfordnlp/stanza-resources/main/resources_1.5.0.json: "
          }
        },
        "3c6b11f29b784fe5ab877a094cb6aedb": {
          "model_module": "@jupyter-widgets/controls",
          "model_name": "FloatProgressModel",
          "model_module_version": "1.5.0",
          "state": {
            "_dom_classes": [],
            "_model_module": "@jupyter-widgets/controls",
            "_model_module_version": "1.5.0",
            "_model_name": "FloatProgressModel",
            "_view_count": null,
            "_view_module": "@jupyter-widgets/controls",
            "_view_module_version": "1.5.0",
            "_view_name": "ProgressView",
            "bar_style": "success",
            "description": "",
            "description_tooltip": null,
            "layout": "IPY_MODEL_81e617bc299c4fcdb6d79450a8445d7a",
            "max": 30022,
            "min": 0,
            "orientation": "horizontal",
            "style": "IPY_MODEL_be83b62711fc4e08826ad690dde4eacf",
            "value": 30022
          }
        },
        "bed2594a03834acd877535f64c57d163": {
          "model_module": "@jupyter-widgets/controls",
          "model_name": "HTMLModel",
          "model_module_version": "1.5.0",
          "state": {
            "_dom_classes": [],
            "_model_module": "@jupyter-widgets/controls",
            "_model_module_version": "1.5.0",
            "_model_name": "HTMLModel",
            "_view_count": null,
            "_view_module": "@jupyter-widgets/controls",
            "_view_module_version": "1.5.0",
            "_view_name": "HTMLView",
            "description": "",
            "description_tooltip": null,
            "layout": "IPY_MODEL_5aa4badc437a43c280964c48b9a44563",
            "placeholder": "​",
            "style": "IPY_MODEL_adacc02c465446a88595091598c640a5",
            "value": " 216k/? [00:00&lt;00:00, 7.83MB/s]"
          }
        },
        "98caa9b832e943f391cccfd534db48e0": {
          "model_module": "@jupyter-widgets/base",
          "model_name": "LayoutModel",
          "model_module_version": "1.2.0",
          "state": {
            "_model_module": "@jupyter-widgets/base",
            "_model_module_version": "1.2.0",
            "_model_name": "LayoutModel",
            "_view_count": null,
            "_view_module": "@jupyter-widgets/base",
            "_view_module_version": "1.2.0",
            "_view_name": "LayoutView",
            "align_content": null,
            "align_items": null,
            "align_self": null,
            "border": null,
            "bottom": null,
            "display": null,
            "flex": null,
            "flex_flow": null,
            "grid_area": null,
            "grid_auto_columns": null,
            "grid_auto_flow": null,
            "grid_auto_rows": null,
            "grid_column": null,
            "grid_gap": null,
            "grid_row": null,
            "grid_template_areas": null,
            "grid_template_columns": null,
            "grid_template_rows": null,
            "height": null,
            "justify_content": null,
            "justify_items": null,
            "left": null,
            "margin": null,
            "max_height": null,
            "max_width": null,
            "min_height": null,
            "min_width": null,
            "object_fit": null,
            "object_position": null,
            "order": null,
            "overflow": null,
            "overflow_x": null,
            "overflow_y": null,
            "padding": null,
            "right": null,
            "top": null,
            "visibility": null,
            "width": null
          }
        },
        "b90f86e5ef484352a203717063ac6371": {
          "model_module": "@jupyter-widgets/base",
          "model_name": "LayoutModel",
          "model_module_version": "1.2.0",
          "state": {
            "_model_module": "@jupyter-widgets/base",
            "_model_module_version": "1.2.0",
            "_model_name": "LayoutModel",
            "_view_count": null,
            "_view_module": "@jupyter-widgets/base",
            "_view_module_version": "1.2.0",
            "_view_name": "LayoutView",
            "align_content": null,
            "align_items": null,
            "align_self": null,
            "border": null,
            "bottom": null,
            "display": null,
            "flex": null,
            "flex_flow": null,
            "grid_area": null,
            "grid_auto_columns": null,
            "grid_auto_flow": null,
            "grid_auto_rows": null,
            "grid_column": null,
            "grid_gap": null,
            "grid_row": null,
            "grid_template_areas": null,
            "grid_template_columns": null,
            "grid_template_rows": null,
            "height": null,
            "justify_content": null,
            "justify_items": null,
            "left": null,
            "margin": null,
            "max_height": null,
            "max_width": null,
            "min_height": null,
            "min_width": null,
            "object_fit": null,
            "object_position": null,
            "order": null,
            "overflow": null,
            "overflow_x": null,
            "overflow_y": null,
            "padding": null,
            "right": null,
            "top": null,
            "visibility": null,
            "width": null
          }
        },
        "f06c2ee5103a44028abf2ff01db4718a": {
          "model_module": "@jupyter-widgets/controls",
          "model_name": "DescriptionStyleModel",
          "model_module_version": "1.5.0",
          "state": {
            "_model_module": "@jupyter-widgets/controls",
            "_model_module_version": "1.5.0",
            "_model_name": "DescriptionStyleModel",
            "_view_count": null,
            "_view_module": "@jupyter-widgets/base",
            "_view_module_version": "1.2.0",
            "_view_name": "StyleView",
            "description_width": ""
          }
        },
        "81e617bc299c4fcdb6d79450a8445d7a": {
          "model_module": "@jupyter-widgets/base",
          "model_name": "LayoutModel",
          "model_module_version": "1.2.0",
          "state": {
            "_model_module": "@jupyter-widgets/base",
            "_model_module_version": "1.2.0",
            "_model_name": "LayoutModel",
            "_view_count": null,
            "_view_module": "@jupyter-widgets/base",
            "_view_module_version": "1.2.0",
            "_view_name": "LayoutView",
            "align_content": null,
            "align_items": null,
            "align_self": null,
            "border": null,
            "bottom": null,
            "display": null,
            "flex": null,
            "flex_flow": null,
            "grid_area": null,
            "grid_auto_columns": null,
            "grid_auto_flow": null,
            "grid_auto_rows": null,
            "grid_column": null,
            "grid_gap": null,
            "grid_row": null,
            "grid_template_areas": null,
            "grid_template_columns": null,
            "grid_template_rows": null,
            "height": null,
            "justify_content": null,
            "justify_items": null,
            "left": null,
            "margin": null,
            "max_height": null,
            "max_width": null,
            "min_height": null,
            "min_width": null,
            "object_fit": null,
            "object_position": null,
            "order": null,
            "overflow": null,
            "overflow_x": null,
            "overflow_y": null,
            "padding": null,
            "right": null,
            "top": null,
            "visibility": null,
            "width": null
          }
        },
        "be83b62711fc4e08826ad690dde4eacf": {
          "model_module": "@jupyter-widgets/controls",
          "model_name": "ProgressStyleModel",
          "model_module_version": "1.5.0",
          "state": {
            "_model_module": "@jupyter-widgets/controls",
            "_model_module_version": "1.5.0",
            "_model_name": "ProgressStyleModel",
            "_view_count": null,
            "_view_module": "@jupyter-widgets/base",
            "_view_module_version": "1.2.0",
            "_view_name": "StyleView",
            "bar_color": null,
            "description_width": ""
          }
        },
        "5aa4badc437a43c280964c48b9a44563": {
          "model_module": "@jupyter-widgets/base",
          "model_name": "LayoutModel",
          "model_module_version": "1.2.0",
          "state": {
            "_model_module": "@jupyter-widgets/base",
            "_model_module_version": "1.2.0",
            "_model_name": "LayoutModel",
            "_view_count": null,
            "_view_module": "@jupyter-widgets/base",
            "_view_module_version": "1.2.0",
            "_view_name": "LayoutView",
            "align_content": null,
            "align_items": null,
            "align_self": null,
            "border": null,
            "bottom": null,
            "display": null,
            "flex": null,
            "flex_flow": null,
            "grid_area": null,
            "grid_auto_columns": null,
            "grid_auto_flow": null,
            "grid_auto_rows": null,
            "grid_column": null,
            "grid_gap": null,
            "grid_row": null,
            "grid_template_areas": null,
            "grid_template_columns": null,
            "grid_template_rows": null,
            "height": null,
            "justify_content": null,
            "justify_items": null,
            "left": null,
            "margin": null,
            "max_height": null,
            "max_width": null,
            "min_height": null,
            "min_width": null,
            "object_fit": null,
            "object_position": null,
            "order": null,
            "overflow": null,
            "overflow_x": null,
            "overflow_y": null,
            "padding": null,
            "right": null,
            "top": null,
            "visibility": null,
            "width": null
          }
        },
        "adacc02c465446a88595091598c640a5": {
          "model_module": "@jupyter-widgets/controls",
          "model_name": "DescriptionStyleModel",
          "model_module_version": "1.5.0",
          "state": {
            "_model_module": "@jupyter-widgets/controls",
            "_model_module_version": "1.5.0",
            "_model_name": "DescriptionStyleModel",
            "_view_count": null,
            "_view_module": "@jupyter-widgets/base",
            "_view_module_version": "1.2.0",
            "_view_name": "StyleView",
            "description_width": ""
          }
        }
      }
    }
  },
  "cells": [
    {
      "cell_type": "markdown",
      "metadata": {
        "id": "view-in-github",
        "colab_type": "text"
      },
      "source": [
        "<a href=\"https://colab.research.google.com/github/crux007/crux007/blob/main/text_analysis.ipynb\" target=\"_parent\"><img src=\"https://colab.research.google.com/assets/colab-badge.svg\" alt=\"Open In Colab\"/></a>"
      ]
    },
    {
      "cell_type": "code",
      "source": [
        "#we want to be able to combine different table type to enable us perform analysis"
      ],
      "metadata": {
        "id": "1KyYxcOqIK0i"
      },
      "execution_count": null,
      "outputs": []
    },
    {
      "cell_type": "code",
      "source": [
        "# startwith\n",
        "for word in text.split():\n",
        "  if word.startswith(\"o\")\n",
        "  print(word)"
      ],
      "metadata": {
        "id": "C2EduBswd_C1"
      },
      "execution_count": null,
      "outputs": []
    },
    {
      "cell_type": "code",
      "source": [
        "# startwith\n",
        "for word in text.split():\n",
        "  if word[0] == 'o'\n",
        "  print(word)"
      ],
      "metadata": {
        "id": "sSLJOU5ERaXT"
      },
      "execution_count": null,
      "outputs": []
    },
    {
      "cell_type": "code",
      "source": [
        "prefixes = ('ch', 'g', 'th')\n",
        "for word in text.split():\n",
        "  if word.startswith(prefixes):\n",
        "    print(word)"
      ],
      "metadata": {
        "id": "uyEbuZ-vRlE0"
      },
      "execution_count": null,
      "outputs": []
    },
    {
      "cell_type": "code",
      "source": [
        "for word in text.split():\n",
        "  if word.endswith(''s'):\n",
        "    print(word)"
      ],
      "metadata": {
        "id": "2RzQu95JR8me"
      },
      "execution_count": null,
      "outputs": []
    },
    {
      "cell_type": "code",
      "source": [
        "suffixes = (''s', ''re')\n",
        "for word in text.split():\n",
        "  if word.endswith(suffixes):\n",
        "    print(word)"
      ],
      "metadata": {
        "id": "kDVvs0SySP7q"
      },
      "execution_count": null,
      "outputs": []
    },
    {
      "cell_type": "code",
      "source": [
        "#list comprehension\n",
        "found = [word for word in text.split() if word.endswith((''s', ''re))]\n",
        "print(found)"
      ],
      "metadata": {
        "id": "72FGbhdSSn3e"
      },
      "execution_count": null,
      "outputs": []
    },
    {
      "cell_type": "code",
      "source": [
        "#the in operator\n",
        "wanted = ['Chicago', 'London', 'Bradford']\n",
        "for word in text.split():\n",
        "  if word in wanted:\n",
        "    print(word)"
      ],
      "metadata": {
        "id": "nXTumnAYS9t4"
      },
      "execution_count": null,
      "outputs": []
    },
    {
      "cell_type": "code",
      "source": [
        "for word in text.split():\n",
        "  if word not in wanted:\n",
        "    print(word, end = '')"
      ],
      "metadata": {
        "id": "HSn9m6NoTO1i"
      },
      "execution_count": null,
      "outputs": []
    },
    {
      "cell_type": "code",
      "source": [],
      "metadata": {
        "id": "fKxFDRQmTa6B"
      },
      "execution_count": null,
      "outputs": []
    },
    {
      "cell_type": "code",
      "source": [
        "#Number 2"
      ],
      "metadata": {
        "id": "gDlf-1a_TjQw"
      },
      "execution_count": null,
      "outputs": []
    },
    {
      "cell_type": "code",
      "source": [
        "#The most common way is to use replace\n",
        "new_text = text.replace('(', '[').replace()"
      ],
      "metadata": {
        "id": "C45XOnmHTjpe"
      },
      "execution_count": null,
      "outputs": []
    },
    {
      "cell_type": "code",
      "source": [
        "#multiple replace\n",
        "newer_text = text.replace('Chicago', 'Florida').replace('s', '').replace('years', 'decades')\n",
        "print(newer_text)"
      ],
      "metadata": {
        "id": "azf0pk8UT-J5"
      },
      "execution_count": null,
      "outputs": []
    },
    {
      "cell_type": "code",
      "source": [
        "rep_dict = {\n",
        "    'Chicago': 'Florida',\n",
        "    'years': 'decades',\n",
        "    's': ''\n",
        "}\n",
        "for i, j in rep_dict.items():\n",
        "  newest_text = text.replace(i, j)\n",
        "print(newest_text)"
      ],
      "metadata": {
        "id": "EBKASr_NUUaV"
      },
      "execution_count": null,
      "outputs": []
    },
    {
      "cell_type": "code",
      "source": [
        "rep_dict = {\n",
        "    'Chicago': 'Florida',\n",
        "    'years': 'decades',\n",
        "    's': ''\n",
        "}\n",
        "print(rep_dict.items())"
      ],
      "metadata": {
        "id": "oE7KR_J-U0Ae"
      },
      "execution_count": null,
      "outputs": []
    },
    {
      "cell_type": "code",
      "source": [
        "# this concept can be used to go through a csv file and do feature engineering to extract a particular information and create a list of tupple\n",
        "lt = [(1, 2), (2, 3), (6, 9)]"
      ],
      "metadata": {
        "id": "h0dzGAl5VXp2"
      },
      "execution_count": null,
      "outputs": []
    },
    {
      "cell_type": "code",
      "source": [
        "for item in lt:\n",
        "  print(item)"
      ],
      "metadata": {
        "id": "9O1earzHVi1P"
      },
      "execution_count": null,
      "outputs": []
    },
    {
      "cell_type": "code",
      "source": [
        "for a, b in lt:\n",
        "  print(a * 5, b + 5)"
      ],
      "metadata": {
        "id": "zimPEs71WC0K"
      },
      "execution_count": null,
      "outputs": []
    },
    {
      "cell_type": "code",
      "source": [],
      "metadata": {
        "id": "de3o9mukWJm6"
      },
      "execution_count": null,
      "outputs": []
    },
    {
      "cell_type": "code",
      "source": [
        "#number 3"
      ],
      "metadata": {
        "id": "uothH4CHXaCB"
      },
      "execution_count": null,
      "outputs": []
    },
    {
      "cell_type": "code",
      "source": [
        "myrange = range(10)\n",
        "myrange = iter(myrange)"
      ],
      "metadata": {
        "id": "0hqYAzuxXaQj"
      },
      "execution_count": null,
      "outputs": []
    },
    {
      "cell_type": "code",
      "source": [
        "#the zip function takes two iterables and return an iterable itself. Let's start with 2 lists\n",
        "people = ['Jack', 'John', 'Jared', 'James']\n",
        "salaries = [52000, 32000, 41000, 70000]\n",
        "zipped = zip(people, salaries)\n",
        "zipped"
      ],
      "metadata": {
        "id": "bs6VsONDXijC"
      },
      "execution_count": null,
      "outputs": []
    },
    {
      "cell_type": "code",
      "source": [
        "for x, y in zipped:\n",
        "  print(x, y + y * 0.1)"
      ],
      "metadata": {
        "id": "MERy_d5UX-Sj"
      },
      "execution_count": null,
      "outputs": []
    },
    {
      "cell_type": "code",
      "source": [
        "#the zip function takes two iterables and return an iterable itself. Let's start with 2 lists\n",
        "people = ['Jack', 'John', 'Jared', 'James']\n",
        "salaries = [52000, 32000, 41000, 70000]\n",
        "bonuses = [0.1, 0.14, 0.07, 0.0]\n",
        "zipped = zip(people, salaries, bonuses)\n",
        "for person, salaries, bonus in zipped:\n",
        "  print(person, salary, bonus, salary + salary * bonus)"
      ],
      "metadata": {
        "id": "ZMQ9zR4PYG8-"
      },
      "execution_count": null,
      "outputs": []
    },
    {
      "cell_type": "code",
      "source": [
        "# create dictionaries using zip\n",
        "dict(zip(people, salaries))"
      ],
      "metadata": {
        "id": "1Yj37Zy0crZy"
      },
      "execution_count": null,
      "outputs": []
    },
    {
      "cell_type": "code",
      "source": [
        "#zipping two files together\n",
        "f = open('100_female_names.txt')\n",
        "m == open('100_male_names.txt')\n",
        "z = zip(f, m)\n",
        "for x, y in z:\n",
        "  print(y.strip(), x.strip())"
      ],
      "metadata": {
        "id": "8-S9ZmILcyio"
      },
      "execution_count": null,
      "outputs": []
    },
    {
      "cell_type": "code",
      "source": [
        "sent = \"It is a well-known fact that colorless green ideas hardly ever sleep.\".split()\n",
        "ss = zip(sent, sent)\n",
        "for x, y in ss:\n",
        "  print(x, y)"
      ],
      "metadata": {
        "id": "bc4bU0e-fGC3"
      },
      "execution_count": null,
      "outputs": []
    },
    {
      "cell_type": "code",
      "source": [
        "from types import new_class\n",
        "from ast import Num\n",
        "def fill(lst, num):\n",
        "  filler = \"%\"\n",
        "\n",
        "  return lst + [filler] * Num\n",
        "sent = \"Love is mercy and I love so much\".split()\n",
        "new = fill(sent, 4)\n",
        "one = new\n",
        "two = new[1:]"
      ],
      "metadata": {
        "id": "TbMvbih1h93w"
      },
      "execution_count": null,
      "outputs": []
    },
    {
      "cell_type": "code",
      "source": [
        "def make_vector(mylist, num):\n",
        "  filler = ['%'] *"
      ],
      "metadata": {
        "id": "Wij2UsD1ijIo"
      },
      "execution_count": null,
      "outputs": []
    },
    {
      "cell_type": "code",
      "source": [
        "myrange = range(10)\n",
        "\n",
        "myrange"
      ],
      "metadata": {
        "id": "otF-KJu8YQAc"
      },
      "execution_count": null,
      "outputs": []
    },
    {
      "cell_type": "code",
      "source": [
        "range - iter(myrange)\n",
        "\n",
        "next(range)"
      ],
      "metadata": {
        "id": "7nbuhW1eYyhx"
      },
      "execution_count": null,
      "outputs": []
    },
    {
      "cell_type": "code",
      "source": [
        "#it will continue to spit out incremental result within the range defined\n",
        "next(range)"
      ],
      "metadata": {
        "id": "Y5xZ-XeDZJn4"
      },
      "execution_count": null,
      "outputs": []
    },
    {
      "cell_type": "code",
      "source": [
        "people = ['A', 'B', 'M']\n",
        "ages = [25, 53, 82]\n",
        "\n",
        "zip(people, ages)\n",
        "list(zip(people, ages))\n",
        "\n",
        "both = zip(people, ages)\n",
        "\n",
        "list(both)"
      ],
      "metadata": {
        "id": "VswMs26dZVHY"
      },
      "execution_count": null,
      "outputs": []
    },
    {
      "cell_type": "code",
      "source": [
        "# to get result for this iteration, remost 'list' from list(both) and or list(zip(people, ages)) because the data has already being consumed when we ran the initial iteration\n",
        "for x, y in both:\n",
        "  print(x, y)"
      ],
      "metadata": {
        "id": "_YpnRryabPNR"
      },
      "execution_count": null,
      "outputs": []
    },
    {
      "cell_type": "code",
      "source": [
        "#building a vector of previous things\n",
        "new = zip(sent, sent[1:], sent[2:])\n",
        "for a, b, c in new:\n",
        "  print(a, b, c)"
      ],
      "metadata": {
        "id": "kjCXAPxNaxDN"
      },
      "execution_count": null,
      "outputs": []
    },
    {
      "cell_type": "code",
      "source": [],
      "metadata": {
        "id": "azFrKRUEhtWo"
      },
      "execution_count": null,
      "outputs": []
    },
    {
      "cell_type": "code",
      "source": [],
      "metadata": {
        "id": "oDLYq3C7JgFY"
      },
      "execution_count": null,
      "outputs": []
    },
    {
      "cell_type": "code",
      "source": [
        "#lecture 2 for 4Th May"
      ],
      "metadata": {
        "id": "k1YyzAkwJgeK"
      },
      "execution_count": null,
      "outputs": []
    },
    {
      "cell_type": "code",
      "source": [
        "#mnow how can we sort the last name\n",
        "# first create a function to extract the last name\n",
        "def get_last_name"
      ],
      "metadata": {
        "id": "7uf5fi6HJjOp"
      },
      "execution_count": null,
      "outputs": []
    },
    {
      "cell_type": "code",
      "source": [
        "#lambda function\n",
        "sorted(full_name, key lambda x: x.split()[-1])"
      ],
      "metadata": {
        "id": "rroZ-YtZJzQP"
      },
      "execution_count": null,
      "outputs": []
    },
    {
      "cell_type": "code",
      "source": [
        "dates = ['Jan/13', 'Jan/14', 'Jan/1', 'Jan/4']\n",
        "\n",
        "sorted(dates) #this will not sort the list correctly"
      ],
      "metadata": {
        "id": "ymsaiulMJ8S2"
      },
      "execution_count": null,
      "outputs": []
    },
    {
      "cell_type": "code",
      "source": [
        "def get_date(date):\n",
        "  return int(date.split('/')[-1])\n",
        "\n",
        "  sorted(dates, key = get_date)"
      ],
      "metadata": {
        "id": "solJJeBWKRq7"
      },
      "execution_count": null,
      "outputs": []
    },
    {
      "cell_type": "code",
      "source": [
        "nums = [1, 2, 3, 4, 5, 6]\n",
        "\n",
        "nums[0] # this will give us the first element in the list which is 1\n",
        "\n",
        "nums[-1] # will return the last item on the list which is 6 in this list"
      ],
      "metadata": {
        "id": "tRkR_tuzJni3"
      },
      "execution_count": null,
      "outputs": []
    },
    {
      "cell_type": "code",
      "source": [],
      "metadata": {
        "id": "Tq3nkF29K_RT"
      },
      "execution_count": null,
      "outputs": []
    },
    {
      "cell_type": "code",
      "source": [
        "#splitting"
      ],
      "metadata": {
        "id": "NCxp1L-rLtMH"
      },
      "execution_count": null,
      "outputs": []
    },
    {
      "cell_type": "code",
      "source": [
        "sent = '\"Bradford is the greatest city in the world: it has good food, nice people and wonderful schools.\n",
        "It also has a unique university with the best students in UK.\n",
        "I love it\"'"
      ],
      "metadata": {
        "id": "4JDApCelLv8p"
      },
      "execution_count": null,
      "outputs": []
    },
    {
      "cell_type": "code",
      "source": [
        "from re import split\n",
        "print(sent.split(':'))\n",
        "\n",
        "print(split(good))\n"
      ],
      "metadata": {
        "id": "o_SafgyxLtrX"
      },
      "execution_count": null,
      "outputs": []
    },
    {
      "cell_type": "code",
      "source": [
        "sent.split('\\n', maxsplit=1)"
      ],
      "metadata": {
        "id": "wnOxZnrYMqQd"
      },
      "execution_count": null,
      "outputs": []
    },
    {
      "cell_type": "code",
      "source": [
        "sent.split('', maxsplit=1)"
      ],
      "metadata": {
        "id": "M2KCAjuQMypb"
      },
      "execution_count": null,
      "outputs": []
    },
    {
      "cell_type": "code",
      "source": [],
      "metadata": {
        "id": "XaOqycOOM68i"
      },
      "execution_count": null,
      "outputs": []
    },
    {
      "cell_type": "code",
      "source": [
        "#regular expression"
      ],
      "metadata": {
        "id": "KhbZ8SM6ND70"
      },
      "execution_count": null,
      "outputs": []
    },
    {
      "cell_type": "code",
      "source": [
        "import re"
      ],
      "metadata": {
        "id": "H50tMVgBNGE6"
      },
      "execution_count": null,
      "outputs": []
    },
    {
      "cell_type": "code",
      "source": [
        "#we look at 3 things mainly, the but, the + and ?"
      ],
      "metadata": {
        "id": "RMzbF41lNvfP"
      },
      "execution_count": null,
      "outputs": []
    },
    {
      "cell_type": "code",
      "source": [
        "sent = \"the world is a nice place. It#s full of colour wfrkd wmmspd\""
      ],
      "metadata": {
        "id": "n7SNVjP3N05j"
      },
      "execution_count": null,
      "outputs": []
    },
    {
      "cell_type": "code",
      "source": [
        "patt = \"w...d\"  #this means find a piece of word that starts with w, followed by 3 letters then a 'd'"
      ],
      "metadata": {
        "id": "Fj1C4Xx-N9Ig"
      },
      "execution_count": null,
      "outputs": []
    },
    {
      "cell_type": "code",
      "source": [
        "re.findall(patt, sent)"
      ],
      "metadata": {
        "colab": {
          "base_uri": "https://localhost:8080/"
        },
        "id": "tAv75Iv8OSc9",
        "outputId": "7b4218f1-12ed-453c-b2e3-df68cb0b7e71"
      },
      "execution_count": null,
      "outputs": [
        {
          "output_type": "execute_result",
          "data": {
            "text/plain": [
              "['world', 'wfrkd']"
            ]
          },
          "metadata": {},
          "execution_count": 11
        }
      ]
    },
    {
      "cell_type": "code",
      "source": [
        "patt = \"w.+d\" #this means one or more of this character"
      ],
      "metadata": {
        "id": "FTBtitE3OaFw"
      },
      "execution_count": null,
      "outputs": []
    },
    {
      "cell_type": "code",
      "source": [
        "re.findall(patt, sent)"
      ],
      "metadata": {
        "colab": {
          "base_uri": "https://localhost:8080/"
        },
        "id": "TDNMyiS5PJLe",
        "outputId": "715e88c5-164e-4807-c28e-9b64493bcd44"
      },
      "execution_count": null,
      "outputs": [
        {
          "output_type": "execute_result",
          "data": {
            "text/plain": [
              "['world is a nice place. It#s full of colour wfrkd wmmspd']"
            ]
          },
          "metadata": {},
          "execution_count": 13
        }
      ]
    },
    {
      "cell_type": "code",
      "source": [
        "#to make them not to be greedy\n",
        "patt = \"w.+?d\""
      ],
      "metadata": {
        "id": "tuyvId4SPjpU"
      },
      "execution_count": null,
      "outputs": []
    },
    {
      "cell_type": "code",
      "source": [
        "re.findall(patt, sent)"
      ],
      "metadata": {
        "colab": {
          "base_uri": "https://localhost:8080/"
        },
        "id": "07_1WOWCPksm",
        "outputId": "2f404b5f-3b15-4cf2-dd30-72206e7a789f"
      },
      "execution_count": null,
      "outputs": [
        {
          "output_type": "execute_result",
          "data": {
            "text/plain": [
              "['world', 'wfrkd', 'wmmspd']"
            ]
          },
          "metadata": {},
          "execution_count": 15
        }
      ]
    },
    {
      "cell_type": "code",
      "source": [
        "patt = 'colou?r'"
      ],
      "metadata": {
        "id": "ksjRb26iPlBF"
      },
      "execution_count": null,
      "outputs": []
    },
    {
      "cell_type": "code",
      "source": [
        "text = \"Bradford {England} and Mansoura {Egypt} are the best cities in the world. These cities have a different colour.\""
      ],
      "metadata": {
        "id": "bxZvOSkXP5xw"
      },
      "execution_count": null,
      "outputs": []
    },
    {
      "cell_type": "code",
      "source": [
        "re.findall(patt, text)"
      ],
      "metadata": {
        "colab": {
          "base_uri": "https://localhost:8080/"
        },
        "id": "n_jdWpjUP5_y",
        "outputId": "26901d9f-7840-45bd-b252-1f797b526315"
      },
      "execution_count": null,
      "outputs": [
        {
          "output_type": "execute_result",
          "data": {
            "text/plain": [
              "['colour']"
            ]
          },
          "metadata": {},
          "execution_count": 19
        }
      ]
    },
    {
      "cell_type": "code",
      "source": [
        "patt = r\"{.+?}\""
      ],
      "metadata": {
        "id": "gIjZcnnxP6U5"
      },
      "execution_count": null,
      "outputs": []
    },
    {
      "cell_type": "code",
      "source": [
        "from re import findall\n",
        "re.findall(patt, text)"
      ],
      "metadata": {
        "colab": {
          "base_uri": "https://localhost:8080/"
        },
        "id": "bfvh3c67NNTH",
        "outputId": "b874f865-6ff4-4073-9d92-db693547744f"
      },
      "execution_count": null,
      "outputs": [
        {
          "output_type": "execute_result",
          "data": {
            "text/plain": [
              "['{England}', '{Egypt}']"
            ]
          },
          "metadata": {},
          "execution_count": 21
        }
      ]
    },
    {
      "cell_type": "code",
      "source": [
        "#help you extract numbers from text\n",
        "from re import findall\n",
        "sent = \"students with the number 12345 and 65432 should contact the professor\"\n",
        "patt5 = '\\d'\n",
        "re.findall(patt5, sent)"
      ],
      "metadata": {
        "colab": {
          "base_uri": "https://localhost:8080/"
        },
        "id": "_WZDc47aNWDt",
        "outputId": "27ee668a-d178-4133-8420-16fa07146285"
      },
      "execution_count": null,
      "outputs": [
        {
          "output_type": "execute_result",
          "data": {
            "text/plain": [
              "['1', '2', '3', '4', '5', '6', '5', '4', '3', '2']"
            ]
          },
          "metadata": {},
          "execution_count": 22
        }
      ]
    },
    {
      "cell_type": "code",
      "source": [
        "from re import findall\n",
        "patt6 = '\\d{5}'\n",
        "re.findall(patt6, sent)"
      ],
      "metadata": {
        "colab": {
          "base_uri": "https://localhost:8080/"
        },
        "id": "gHaHKlOmR5zV",
        "outputId": "d7b36f21-66b5-425a-ec9c-11857c6ca32d"
      },
      "execution_count": null,
      "outputs": [
        {
          "output_type": "execute_result",
          "data": {
            "text/plain": [
              "['12345', '65432']"
            ]
          },
          "metadata": {},
          "execution_count": 23
        }
      ]
    },
    {
      "cell_type": "code",
      "source": [
        "#if i want to extract all number despite how long they are\n",
        "patt3 = '\\d+'\n",
        "re.findall(patt3, sent)"
      ],
      "metadata": {
        "colab": {
          "base_uri": "https://localhost:8080/"
        },
        "id": "Tn-WIIT3SYyG",
        "outputId": "bf103035-831e-46ed-a99f-b7a0dffc8c9e"
      },
      "execution_count": null,
      "outputs": [
        {
          "output_type": "execute_result",
          "data": {
            "text/plain": [
              "['12345', '65432']"
            ]
          },
          "metadata": {},
          "execution_count": 24
        }
      ]
    },
    {
      "cell_type": "code",
      "source": [
        "#how to find british postal code\n",
        "address = 'I live at 9 Tempest street, WV1 2XM, but I used to live at 5 East Street, BD2 2MB in Bradford'\n",
        "pc_patt = \"[A-Z][A-Z]\\d\\s\\d[A-Z][A-Z]\"\n",
        "re.findall(pc_patt, address)"
      ],
      "metadata": {
        "colab": {
          "base_uri": "https://localhost:8080/"
        },
        "id": "IX1VKTAgSpzj",
        "outputId": "8244b55e-9e68-4817-c0e0-38b6e4a3bd61"
      },
      "execution_count": null,
      "outputs": [
        {
          "output_type": "execute_result",
          "data": {
            "text/plain": [
              "['WV1 2XM', 'BD2 2MB']"
            ]
          },
          "metadata": {},
          "execution_count": 26
        }
      ]
    },
    {
      "cell_type": "code",
      "source": [
        "pc_patt2 = \"[A-Z]{2}\\d\\s\\d[A-Z]{2}\"\n",
        "re.findall(pc_patt2, address)"
      ],
      "metadata": {
        "colab": {
          "base_uri": "https://localhost:8080/"
        },
        "id": "Fnr0z4K2TVRn",
        "outputId": "5db44cc7-e85e-453e-8904-75ca0c4c0cc8"
      },
      "execution_count": null,
      "outputs": [
        {
          "output_type": "execute_result",
          "data": {
            "text/plain": [
              "['WV1 2XM', 'BD2 2MB']"
            ]
          },
          "metadata": {},
          "execution_count": 27
        }
      ]
    },
    {
      "cell_type": "code",
      "source": [],
      "metadata": {
        "id": "3SovmGTjTn5c"
      },
      "execution_count": null,
      "outputs": []
    },
    {
      "cell_type": "code",
      "source": [],
      "metadata": {
        "id": "er6oJAloUHRA"
      },
      "execution_count": null,
      "outputs": []
    },
    {
      "cell_type": "code",
      "source": [
        "# 11 May, 2023.  Stanza basic natural language processing - to turn text into sentence stanza.ipynb\n",
        "\n",
        "# using Transpennine Express\n",
        "!pip install stanza\n",
        "import stanza"
      ],
      "metadata": {
        "colab": {
          "base_uri": "https://localhost:8080/"
        },
        "id": "KMbfaV8_UHff",
        "outputId": "94ae1cb3-0945-4772-b67d-eddc0748eca8"
      },
      "execution_count": null,
      "outputs": [
        {
          "output_type": "stream",
          "name": "stdout",
          "text": [
            "Looking in indexes: https://pypi.org/simple, https://us-python.pkg.dev/colab-wheels/public/simple/\n",
            "Collecting stanza\n",
            "  Downloading stanza-1.5.0-py3-none-any.whl (802 kB)\n",
            "\u001b[2K     \u001b[90m━━━━━━━━━━━━━━━━━━━━━━━━━━━━━━━━━━━━━━\u001b[0m \u001b[32m802.5/802.5 kB\u001b[0m \u001b[31m12.1 MB/s\u001b[0m eta \u001b[36m0:00:00\u001b[0m\n",
            "\u001b[?25hCollecting emoji (from stanza)\n",
            "  Downloading emoji-2.2.0.tar.gz (240 kB)\n",
            "\u001b[2K     \u001b[90m━━━━━━━━━━━━━━━━━━━━━━━━━━━━━━━━━━━━━━\u001b[0m \u001b[32m240.9/240.9 kB\u001b[0m \u001b[31m21.2 MB/s\u001b[0m eta \u001b[36m0:00:00\u001b[0m\n",
            "\u001b[?25h  Preparing metadata (setup.py) ... \u001b[?25l\u001b[?25hdone\n",
            "Requirement already satisfied: numpy in /usr/local/lib/python3.10/dist-packages (from stanza) (1.22.4)\n",
            "Requirement already satisfied: protobuf in /usr/local/lib/python3.10/dist-packages (from stanza) (3.20.3)\n",
            "Requirement already satisfied: requests in /usr/local/lib/python3.10/dist-packages (from stanza) (2.27.1)\n",
            "Requirement already satisfied: six in /usr/local/lib/python3.10/dist-packages (from stanza) (1.16.0)\n",
            "Requirement already satisfied: torch>=1.3.0 in /usr/local/lib/python3.10/dist-packages (from stanza) (2.0.0+cu118)\n",
            "Requirement already satisfied: tqdm in /usr/local/lib/python3.10/dist-packages (from stanza) (4.65.0)\n",
            "Requirement already satisfied: filelock in /usr/local/lib/python3.10/dist-packages (from torch>=1.3.0->stanza) (3.12.0)\n",
            "Requirement already satisfied: typing-extensions in /usr/local/lib/python3.10/dist-packages (from torch>=1.3.0->stanza) (4.5.0)\n",
            "Requirement already satisfied: sympy in /usr/local/lib/python3.10/dist-packages (from torch>=1.3.0->stanza) (1.11.1)\n",
            "Requirement already satisfied: networkx in /usr/local/lib/python3.10/dist-packages (from torch>=1.3.0->stanza) (3.1)\n",
            "Requirement already satisfied: jinja2 in /usr/local/lib/python3.10/dist-packages (from torch>=1.3.0->stanza) (3.1.2)\n",
            "Requirement already satisfied: triton==2.0.0 in /usr/local/lib/python3.10/dist-packages (from torch>=1.3.0->stanza) (2.0.0)\n",
            "Requirement already satisfied: cmake in /usr/local/lib/python3.10/dist-packages (from triton==2.0.0->torch>=1.3.0->stanza) (3.25.2)\n",
            "Requirement already satisfied: lit in /usr/local/lib/python3.10/dist-packages (from triton==2.0.0->torch>=1.3.0->stanza) (16.0.3)\n",
            "Requirement already satisfied: urllib3<1.27,>=1.21.1 in /usr/local/lib/python3.10/dist-packages (from requests->stanza) (1.26.15)\n",
            "Requirement already satisfied: certifi>=2017.4.17 in /usr/local/lib/python3.10/dist-packages (from requests->stanza) (2022.12.7)\n",
            "Requirement already satisfied: charset-normalizer~=2.0.0 in /usr/local/lib/python3.10/dist-packages (from requests->stanza) (2.0.12)\n",
            "Requirement already satisfied: idna<4,>=2.5 in /usr/local/lib/python3.10/dist-packages (from requests->stanza) (3.4)\n",
            "Requirement already satisfied: MarkupSafe>=2.0 in /usr/local/lib/python3.10/dist-packages (from jinja2->torch>=1.3.0->stanza) (2.1.2)\n",
            "Requirement already satisfied: mpmath>=0.19 in /usr/local/lib/python3.10/dist-packages (from sympy->torch>=1.3.0->stanza) (1.3.0)\n",
            "Building wheels for collected packages: emoji\n",
            "  Building wheel for emoji (setup.py) ... \u001b[?25l\u001b[?25hdone\n",
            "  Created wheel for emoji: filename=emoji-2.2.0-py3-none-any.whl size=234911 sha256=4600a5704874a40b7ac21475f5b61798105362ea443bee165c4936a76bc6a3eb\n",
            "  Stored in directory: /root/.cache/pip/wheels/02/3d/88/51a592b9ad17e7899126563698b4e3961983ebe85747228ba6\n",
            "Successfully built emoji\n",
            "Installing collected packages: emoji, stanza\n",
            "Successfully installed emoji-2.2.0 stanza-1.5.0\n"
          ]
        }
      ]
    },
    {
      "cell_type": "code",
      "source": [
        "stanza.download('en') #download English model"
      ],
      "metadata": {
        "colab": {
          "base_uri": "https://localhost:8080/",
          "height": 117,
          "referenced_widgets": [
            "1967b3c6bef145c5b59cd8904d8abeb4",
            "f87ead5755244ac998767544b8ce2a88",
            "69f47c6aa91d459a8961f87b13d2ae2a",
            "ea1b7c9ebb474ecf9b74b7764b6ef9da",
            "c93e46411d6e4141ad42ec68cd080877",
            "42c522763aed4087bccb9267e31e65fe",
            "bb7599fd4591472394c8679d2f90c952",
            "7a5f544c84a0427bab8f8ef0271b052d",
            "2e0c6f32ed5c411784c864211eeaa0cd",
            "7ea9ae01419741bab2a11e45ff083ec8",
            "dbdbcca3b682491d92e409cee3dfb3a2",
            "5abd531cecdc405d99a4f5b4595036b5",
            "0f3c4bc9920e46b59c89b41f3724082b",
            "6a55bf9e722c464ebfe5faed35e3490d",
            "a7fd39ec23ab42e1b117cf85b4d7c751",
            "879b8167e86c4d86bae29f86a05be90c",
            "952ee33f908146ae9056e5cbef1d6190",
            "ba3b6e100d2e4b8a8f84b7a046159bb4",
            "1388c5df1d2346a9a20fafbf98fb70ed",
            "2b96c73318cc44b3be14356102575e8a",
            "964fe570e49c46458106708d50bd72be",
            "8dba84c2de9a415693b46b72e0e38fda"
          ]
        },
        "id": "FniDNsv6JPGU",
        "outputId": "d4c7dde1-c47c-4007-e41c-b6f6d5669105"
      },
      "execution_count": null,
      "outputs": [
        {
          "output_type": "display_data",
          "data": {
            "text/plain": [
              "Downloading https://raw.githubusercontent.com/stanfordnlp/stanza-resources/main/resources_1.5.0.json:   0%|   …"
            ],
            "application/vnd.jupyter.widget-view+json": {
              "version_major": 2,
              "version_minor": 0,
              "model_id": "1967b3c6bef145c5b59cd8904d8abeb4"
            }
          },
          "metadata": {}
        },
        {
          "output_type": "stream",
          "name": "stderr",
          "text": [
            "INFO:stanza:Downloading default packages for language: en (English) ...\n"
          ]
        },
        {
          "output_type": "display_data",
          "data": {
            "text/plain": [
              "Downloading https://huggingface.co/stanfordnlp/stanza-en/resolve/v1.5.0/models/default.zip:   0%|          | 0…"
            ],
            "application/vnd.jupyter.widget-view+json": {
              "version_major": 2,
              "version_minor": 0,
              "model_id": "5abd531cecdc405d99a4f5b4595036b5"
            }
          },
          "metadata": {}
        },
        {
          "output_type": "stream",
          "name": "stderr",
          "text": [
            "INFO:stanza:Finished downloading models and saved to /root/stanza_resources.\n"
          ]
        }
      ]
    },
    {
      "cell_type": "code",
      "source": [
        "nlp = stanza.Pipeline('en') #initialize english neural pipeline"
      ],
      "metadata": {
        "colab": {
          "base_uri": "https://localhost:8080/",
          "height": 480,
          "referenced_widgets": [
            "f8750f783ce845dc960747fb65fcc9d6",
            "2b5e93c6d3eb479ab37f11002416e7a1",
            "3c6b11f29b784fe5ab877a094cb6aedb",
            "bed2594a03834acd877535f64c57d163",
            "98caa9b832e943f391cccfd534db48e0",
            "b90f86e5ef484352a203717063ac6371",
            "f06c2ee5103a44028abf2ff01db4718a",
            "81e617bc299c4fcdb6d79450a8445d7a",
            "be83b62711fc4e08826ad690dde4eacf",
            "5aa4badc437a43c280964c48b9a44563",
            "adacc02c465446a88595091598c640a5"
          ]
        },
        "id": "AKfNyZAFJgI_",
        "outputId": "735b319e-e835-49ed-a932-ccbad3b15d5e"
      },
      "execution_count": null,
      "outputs": [
        {
          "output_type": "stream",
          "name": "stderr",
          "text": [
            "INFO:stanza:Checking for updates to resources.json in case models have been updated.  Note: this behavior can be turned off with download_method=None or download_method=DownloadMethod.REUSE_RESOURCES\n"
          ]
        },
        {
          "output_type": "display_data",
          "data": {
            "text/plain": [
              "Downloading https://raw.githubusercontent.com/stanfordnlp/stanza-resources/main/resources_1.5.0.json:   0%|   …"
            ],
            "application/vnd.jupyter.widget-view+json": {
              "version_major": 2,
              "version_minor": 0,
              "model_id": "f8750f783ce845dc960747fb65fcc9d6"
            }
          },
          "metadata": {}
        },
        {
          "output_type": "stream",
          "name": "stderr",
          "text": [
            "INFO:stanza:Loading these models for language: en (English):\n",
            "============================\n",
            "| Processor    | Package   |\n",
            "----------------------------\n",
            "| tokenize     | combined  |\n",
            "| pos          | combined  |\n",
            "| lemma        | combined  |\n",
            "| constituency | wsj       |\n",
            "| depparse     | combined  |\n",
            "| sentiment    | sstplus   |\n",
            "| ner          | ontonotes |\n",
            "============================\n",
            "\n",
            "INFO:stanza:Using device: cpu\n",
            "INFO:stanza:Loading: tokenize\n",
            "INFO:stanza:Loading: pos\n",
            "INFO:stanza:Loading: lemma\n",
            "INFO:stanza:Loading: constituency\n",
            "INFO:stanza:Loading: depparse\n",
            "INFO:stanza:Loading: sentiment\n",
            "INFO:stanza:Loading: ner\n",
            "INFO:stanza:Done loading processors!\n"
          ]
        }
      ]
    },
    {
      "cell_type": "code",
      "source": [
        "sentence = \"Claire Jenkins uses the resources of the Sheffied archive in the United Kingdom to tell the history of 'the scattered home,' a system\""
      ],
      "metadata": {
        "id": "1wvQHt0OJqhp"
      },
      "execution_count": null,
      "outputs": []
    },
    {
      "cell_type": "code",
      "source": [
        "doc = nlp(sentence)"
      ],
      "metadata": {
        "id": "OwQd8bJ7J-xq"
      },
      "execution_count": null,
      "outputs": []
    },
    {
      "cell_type": "code",
      "source": [
        "doc"
      ],
      "metadata": {
        "colab": {
          "base_uri": "https://localhost:8080/"
        },
        "id": "cFPac2yRKB7E",
        "outputId": "f6f55ec9-4d02-42fc-91ad-317faff635a5"
      },
      "execution_count": null,
      "outputs": [
        {
          "output_type": "execute_result",
          "data": {
            "text/plain": [
              "[\n",
              "  [\n",
              "    {\n",
              "      \"id\": 1,\n",
              "      \"text\": \"Claire\",\n",
              "      \"lemma\": \"Claire\",\n",
              "      \"upos\": \"PROPN\",\n",
              "      \"xpos\": \"NNP\",\n",
              "      \"feats\": \"Number=Sing\",\n",
              "      \"head\": 3,\n",
              "      \"deprel\": \"nsubj\",\n",
              "      \"start_char\": 0,\n",
              "      \"end_char\": 6,\n",
              "      \"ner\": \"B-PERSON\",\n",
              "      \"multi_ner\": [\n",
              "        \"B-PERSON\"\n",
              "      ]\n",
              "    },\n",
              "    {\n",
              "      \"id\": 2,\n",
              "      \"text\": \"Jenkins\",\n",
              "      \"lemma\": \"Jenkins\",\n",
              "      \"upos\": \"PROPN\",\n",
              "      \"xpos\": \"NNP\",\n",
              "      \"feats\": \"Number=Sing\",\n",
              "      \"head\": 1,\n",
              "      \"deprel\": \"flat\",\n",
              "      \"start_char\": 7,\n",
              "      \"end_char\": 14,\n",
              "      \"ner\": \"E-PERSON\",\n",
              "      \"multi_ner\": [\n",
              "        \"E-PERSON\"\n",
              "      ]\n",
              "    },\n",
              "    {\n",
              "      \"id\": 3,\n",
              "      \"text\": \"uses\",\n",
              "      \"lemma\": \"use\",\n",
              "      \"upos\": \"VERB\",\n",
              "      \"xpos\": \"VBZ\",\n",
              "      \"feats\": \"Mood=Ind|Number=Sing|Person=3|Tense=Pres|VerbForm=Fin\",\n",
              "      \"head\": 0,\n",
              "      \"deprel\": \"root\",\n",
              "      \"start_char\": 15,\n",
              "      \"end_char\": 19,\n",
              "      \"ner\": \"O\",\n",
              "      \"multi_ner\": [\n",
              "        \"O\"\n",
              "      ]\n",
              "    },\n",
              "    {\n",
              "      \"id\": 4,\n",
              "      \"text\": \"the\",\n",
              "      \"lemma\": \"the\",\n",
              "      \"upos\": \"DET\",\n",
              "      \"xpos\": \"DT\",\n",
              "      \"feats\": \"Definite=Def|PronType=Art\",\n",
              "      \"head\": 5,\n",
              "      \"deprel\": \"det\",\n",
              "      \"start_char\": 20,\n",
              "      \"end_char\": 23,\n",
              "      \"ner\": \"O\",\n",
              "      \"multi_ner\": [\n",
              "        \"O\"\n",
              "      ]\n",
              "    },\n",
              "    {\n",
              "      \"id\": 5,\n",
              "      \"text\": \"resources\",\n",
              "      \"lemma\": \"resource\",\n",
              "      \"upos\": \"NOUN\",\n",
              "      \"xpos\": \"NNS\",\n",
              "      \"feats\": \"Number=Plur\",\n",
              "      \"head\": 3,\n",
              "      \"deprel\": \"obj\",\n",
              "      \"start_char\": 24,\n",
              "      \"end_char\": 33,\n",
              "      \"ner\": \"O\",\n",
              "      \"multi_ner\": [\n",
              "        \"O\"\n",
              "      ]\n",
              "    },\n",
              "    {\n",
              "      \"id\": 6,\n",
              "      \"text\": \"of\",\n",
              "      \"lemma\": \"of\",\n",
              "      \"upos\": \"ADP\",\n",
              "      \"xpos\": \"IN\",\n",
              "      \"head\": 9,\n",
              "      \"deprel\": \"case\",\n",
              "      \"start_char\": 34,\n",
              "      \"end_char\": 36,\n",
              "      \"ner\": \"O\",\n",
              "      \"multi_ner\": [\n",
              "        \"O\"\n",
              "      ]\n",
              "    },\n",
              "    {\n",
              "      \"id\": 7,\n",
              "      \"text\": \"the\",\n",
              "      \"lemma\": \"the\",\n",
              "      \"upos\": \"DET\",\n",
              "      \"xpos\": \"DT\",\n",
              "      \"feats\": \"Definite=Def|PronType=Art\",\n",
              "      \"head\": 9,\n",
              "      \"deprel\": \"det\",\n",
              "      \"start_char\": 37,\n",
              "      \"end_char\": 40,\n",
              "      \"ner\": \"O\",\n",
              "      \"multi_ner\": [\n",
              "        \"O\"\n",
              "      ]\n",
              "    },\n",
              "    {\n",
              "      \"id\": 8,\n",
              "      \"text\": \"Sheffied\",\n",
              "      \"lemma\": \"Sheffied\",\n",
              "      \"upos\": \"PROPN\",\n",
              "      \"xpos\": \"NNP\",\n",
              "      \"feats\": \"Number=Sing\",\n",
              "      \"head\": 9,\n",
              "      \"deprel\": \"compound\",\n",
              "      \"start_char\": 41,\n",
              "      \"end_char\": 49,\n",
              "      \"ner\": \"S-ORG\",\n",
              "      \"multi_ner\": [\n",
              "        \"S-ORG\"\n",
              "      ]\n",
              "    },\n",
              "    {\n",
              "      \"id\": 9,\n",
              "      \"text\": \"archive\",\n",
              "      \"lemma\": \"archive\",\n",
              "      \"upos\": \"NOUN\",\n",
              "      \"xpos\": \"NN\",\n",
              "      \"feats\": \"Number=Sing\",\n",
              "      \"head\": 5,\n",
              "      \"deprel\": \"nmod\",\n",
              "      \"start_char\": 50,\n",
              "      \"end_char\": 57,\n",
              "      \"ner\": \"O\",\n",
              "      \"multi_ner\": [\n",
              "        \"O\"\n",
              "      ]\n",
              "    },\n",
              "    {\n",
              "      \"id\": 10,\n",
              "      \"text\": \"in\",\n",
              "      \"lemma\": \"in\",\n",
              "      \"upos\": \"ADP\",\n",
              "      \"xpos\": \"IN\",\n",
              "      \"head\": 13,\n",
              "      \"deprel\": \"case\",\n",
              "      \"start_char\": 58,\n",
              "      \"end_char\": 60,\n",
              "      \"ner\": \"O\",\n",
              "      \"multi_ner\": [\n",
              "        \"O\"\n",
              "      ]\n",
              "    },\n",
              "    {\n",
              "      \"id\": 11,\n",
              "      \"text\": \"the\",\n",
              "      \"lemma\": \"the\",\n",
              "      \"upos\": \"DET\",\n",
              "      \"xpos\": \"DT\",\n",
              "      \"feats\": \"Definite=Def|PronType=Art\",\n",
              "      \"head\": 13,\n",
              "      \"deprel\": \"det\",\n",
              "      \"start_char\": 61,\n",
              "      \"end_char\": 64,\n",
              "      \"ner\": \"B-GPE\",\n",
              "      \"multi_ner\": [\n",
              "        \"B-GPE\"\n",
              "      ]\n",
              "    },\n",
              "    {\n",
              "      \"id\": 12,\n",
              "      \"text\": \"United\",\n",
              "      \"lemma\": \"Unite\",\n",
              "      \"upos\": \"VERB\",\n",
              "      \"xpos\": \"NNP\",\n",
              "      \"feats\": \"Tense=Past|VerbForm=Part\",\n",
              "      \"head\": 13,\n",
              "      \"deprel\": \"amod\",\n",
              "      \"start_char\": 65,\n",
              "      \"end_char\": 71,\n",
              "      \"ner\": \"I-GPE\",\n",
              "      \"multi_ner\": [\n",
              "        \"I-GPE\"\n",
              "      ]\n",
              "    },\n",
              "    {\n",
              "      \"id\": 13,\n",
              "      \"text\": \"Kingdom\",\n",
              "      \"lemma\": \"Kingdom\",\n",
              "      \"upos\": \"PROPN\",\n",
              "      \"xpos\": \"NNP\",\n",
              "      \"feats\": \"Number=Sing\",\n",
              "      \"head\": 9,\n",
              "      \"deprel\": \"nmod\",\n",
              "      \"start_char\": 72,\n",
              "      \"end_char\": 79,\n",
              "      \"ner\": \"E-GPE\",\n",
              "      \"multi_ner\": [\n",
              "        \"E-GPE\"\n",
              "      ]\n",
              "    },\n",
              "    {\n",
              "      \"id\": 14,\n",
              "      \"text\": \"to\",\n",
              "      \"lemma\": \"to\",\n",
              "      \"upos\": \"PART\",\n",
              "      \"xpos\": \"TO\",\n",
              "      \"head\": 15,\n",
              "      \"deprel\": \"mark\",\n",
              "      \"start_char\": 80,\n",
              "      \"end_char\": 82,\n",
              "      \"ner\": \"O\",\n",
              "      \"multi_ner\": [\n",
              "        \"O\"\n",
              "      ]\n",
              "    },\n",
              "    {\n",
              "      \"id\": 15,\n",
              "      \"text\": \"tell\",\n",
              "      \"lemma\": \"tell\",\n",
              "      \"upos\": \"VERB\",\n",
              "      \"xpos\": \"VB\",\n",
              "      \"feats\": \"VerbForm=Inf\",\n",
              "      \"head\": 3,\n",
              "      \"deprel\": \"advcl\",\n",
              "      \"start_char\": 83,\n",
              "      \"end_char\": 87,\n",
              "      \"ner\": \"O\",\n",
              "      \"multi_ner\": [\n",
              "        \"O\"\n",
              "      ]\n",
              "    },\n",
              "    {\n",
              "      \"id\": 16,\n",
              "      \"text\": \"the\",\n",
              "      \"lemma\": \"the\",\n",
              "      \"upos\": \"DET\",\n",
              "      \"xpos\": \"DT\",\n",
              "      \"feats\": \"Definite=Def|PronType=Art\",\n",
              "      \"head\": 17,\n",
              "      \"deprel\": \"det\",\n",
              "      \"start_char\": 88,\n",
              "      \"end_char\": 91,\n",
              "      \"ner\": \"O\",\n",
              "      \"multi_ner\": [\n",
              "        \"O\"\n",
              "      ]\n",
              "    },\n",
              "    {\n",
              "      \"id\": 17,\n",
              "      \"text\": \"history\",\n",
              "      \"lemma\": \"history\",\n",
              "      \"upos\": \"NOUN\",\n",
              "      \"xpos\": \"NN\",\n",
              "      \"feats\": \"Number=Sing\",\n",
              "      \"head\": 15,\n",
              "      \"deprel\": \"obj\",\n",
              "      \"start_char\": 92,\n",
              "      \"end_char\": 99,\n",
              "      \"ner\": \"O\",\n",
              "      \"multi_ner\": [\n",
              "        \"O\"\n",
              "      ]\n",
              "    },\n",
              "    {\n",
              "      \"id\": 18,\n",
              "      \"text\": \"of\",\n",
              "      \"lemma\": \"of\",\n",
              "      \"upos\": \"ADP\",\n",
              "      \"xpos\": \"IN\",\n",
              "      \"head\": 22,\n",
              "      \"deprel\": \"case\",\n",
              "      \"start_char\": 100,\n",
              "      \"end_char\": 102,\n",
              "      \"ner\": \"O\",\n",
              "      \"multi_ner\": [\n",
              "        \"O\"\n",
              "      ]\n",
              "    },\n",
              "    {\n",
              "      \"id\": 19,\n",
              "      \"text\": \"'\",\n",
              "      \"lemma\": \"'\",\n",
              "      \"upos\": \"PUNCT\",\n",
              "      \"xpos\": \"``\",\n",
              "      \"head\": 22,\n",
              "      \"deprel\": \"punct\",\n",
              "      \"start_char\": 103,\n",
              "      \"end_char\": 104,\n",
              "      \"ner\": \"O\",\n",
              "      \"multi_ner\": [\n",
              "        \"O\"\n",
              "      ]\n",
              "    },\n",
              "    {\n",
              "      \"id\": 20,\n",
              "      \"text\": \"the\",\n",
              "      \"lemma\": \"the\",\n",
              "      \"upos\": \"DET\",\n",
              "      \"xpos\": \"DT\",\n",
              "      \"feats\": \"Definite=Def|PronType=Art\",\n",
              "      \"head\": 22,\n",
              "      \"deprel\": \"det\",\n",
              "      \"start_char\": 104,\n",
              "      \"end_char\": 107,\n",
              "      \"ner\": \"O\",\n",
              "      \"multi_ner\": [\n",
              "        \"O\"\n",
              "      ]\n",
              "    },\n",
              "    {\n",
              "      \"id\": 21,\n",
              "      \"text\": \"scattered\",\n",
              "      \"lemma\": \"scatter\",\n",
              "      \"upos\": \"VERB\",\n",
              "      \"xpos\": \"VBN\",\n",
              "      \"feats\": \"Tense=Past|VerbForm=Part\",\n",
              "      \"head\": 22,\n",
              "      \"deprel\": \"amod\",\n",
              "      \"start_char\": 108,\n",
              "      \"end_char\": 117,\n",
              "      \"ner\": \"O\",\n",
              "      \"multi_ner\": [\n",
              "        \"O\"\n",
              "      ]\n",
              "    },\n",
              "    {\n",
              "      \"id\": 22,\n",
              "      \"text\": \"home\",\n",
              "      \"lemma\": \"home\",\n",
              "      \"upos\": \"NOUN\",\n",
              "      \"xpos\": \"NN\",\n",
              "      \"feats\": \"Number=Sing\",\n",
              "      \"head\": 17,\n",
              "      \"deprel\": \"nmod\",\n",
              "      \"start_char\": 118,\n",
              "      \"end_char\": 122,\n",
              "      \"ner\": \"O\",\n",
              "      \"multi_ner\": [\n",
              "        \"O\"\n",
              "      ]\n",
              "    },\n",
              "    {\n",
              "      \"id\": 23,\n",
              "      \"text\": \",\",\n",
              "      \"lemma\": \",\",\n",
              "      \"upos\": \"PUNCT\",\n",
              "      \"xpos\": \",\",\n",
              "      \"head\": 22,\n",
              "      \"deprel\": \"punct\",\n",
              "      \"start_char\": 122,\n",
              "      \"end_char\": 123,\n",
              "      \"ner\": \"O\",\n",
              "      \"multi_ner\": [\n",
              "        \"O\"\n",
              "      ]\n",
              "    },\n",
              "    {\n",
              "      \"id\": 24,\n",
              "      \"text\": \"'\",\n",
              "      \"lemma\": \"'\",\n",
              "      \"upos\": \"PUNCT\",\n",
              "      \"xpos\": \"''\",\n",
              "      \"head\": 22,\n",
              "      \"deprel\": \"punct\",\n",
              "      \"start_char\": 123,\n",
              "      \"end_char\": 124,\n",
              "      \"ner\": \"O\",\n",
              "      \"multi_ner\": [\n",
              "        \"O\"\n",
              "      ]\n",
              "    },\n",
              "    {\n",
              "      \"id\": 25,\n",
              "      \"text\": \"a\",\n",
              "      \"lemma\": \"a\",\n",
              "      \"upos\": \"DET\",\n",
              "      \"xpos\": \"DT\",\n",
              "      \"feats\": \"Definite=Ind|PronType=Art\",\n",
              "      \"head\": 26,\n",
              "      \"deprel\": \"det\",\n",
              "      \"start_char\": 125,\n",
              "      \"end_char\": 126,\n",
              "      \"ner\": \"O\",\n",
              "      \"multi_ner\": [\n",
              "        \"O\"\n",
              "      ]\n",
              "    },\n",
              "    {\n",
              "      \"id\": 26,\n",
              "      \"text\": \"system\",\n",
              "      \"lemma\": \"system\",\n",
              "      \"upos\": \"NOUN\",\n",
              "      \"xpos\": \"NN\",\n",
              "      \"feats\": \"Number=Sing\",\n",
              "      \"head\": 22,\n",
              "      \"deprel\": \"appos\",\n",
              "      \"start_char\": 127,\n",
              "      \"end_char\": 133,\n",
              "      \"ner\": \"O\",\n",
              "      \"multi_ner\": [\n",
              "        \"O\"\n",
              "      ]\n",
              "    }\n",
              "  ]\n",
              "]"
            ]
          },
          "metadata": {},
          "execution_count": 7
        }
      ]
    },
    {
      "cell_type": "code",
      "source": [
        "def lemmatise(document):\n",
        "  lemmas = []\n",
        "  doc = nlp(document)\n",
        "  for sent in doc.sentences:\n",
        "    for token in sent.tokens:\n",
        "      tkn = token.to_dict()\n",
        "      lemmas.append((tkn[0].get('lemma'), tkn[0].get('xpos')))\n",
        "  return lemmas"
      ],
      "metadata": {
        "id": "ZR4prx6UKDgu"
      },
      "execution_count": null,
      "outputs": []
    },
    {
      "cell_type": "code",
      "source": [
        "sent = 'this man-made basket is one the best artifacts. It is the fastest'"
      ],
      "metadata": {
        "id": "GKKFpNyPNw7H"
      },
      "execution_count": null,
      "outputs": []
    },
    {
      "cell_type": "code",
      "source": [
        "from os import set_inheritable\n",
        "lemmatise(sent)"
      ],
      "metadata": {
        "colab": {
          "base_uri": "https://localhost:8080/"
        },
        "id": "YrgRRFDQPmSL",
        "outputId": "666773a7-bf04-46b2-a834-ff6c2e855b2a"
      },
      "execution_count": null,
      "outputs": [
        {
          "output_type": "execute_result",
          "data": {
            "text/plain": [
              "[('this', 'DT'),\n",
              " ('man-made', 'JJ'),\n",
              " ('basket', 'NN'),\n",
              " ('be', 'VBZ'),\n",
              " ('one', 'CD'),\n",
              " ('the', 'DT'),\n",
              " ('good', 'JJS'),\n",
              " ('artifact', 'NNS'),\n",
              " ('.', '.'),\n",
              " ('it', 'PRP'),\n",
              " ('be', 'VBZ'),\n",
              " ('the', 'DT'),\n",
              " ('fast', 'JJS')]"
            ]
          },
          "metadata": {},
          "execution_count": 19
        }
      ]
    },
    {
      "cell_type": "code",
      "source": [
        "\n",
        "\n"
      ],
      "metadata": {
        "id": "RH9w9grNPpsN"
      },
      "execution_count": null,
      "outputs": []
    },
    {
      "cell_type": "code",
      "source": [
        "#sentiment analysis with stanza"
      ],
      "metadata": {
        "id": "kLxUT4ZyRD-S"
      },
      "execution_count": null,
      "outputs": []
    },
    {
      "cell_type": "code",
      "source": [
        "text = \"Shares have gone up today. The people are very kind. The weather is the summer is terrible though.\"\n",
        "doc = nlp(text)\n",
        "for i, sentence in enumerate(doc.sentences):\n",
        "  print(\"%d -> %d -> %s\" % (i, sentence.sentiment, sentence.text))"
      ],
      "metadata": {
        "colab": {
          "base_uri": "https://localhost:8080/"
        },
        "id": "zM0ueDodRNVV",
        "outputId": "80bf0c51-c899-4967-d90b-b6856a441afb"
      },
      "execution_count": null,
      "outputs": [
        {
          "output_type": "stream",
          "name": "stdout",
          "text": [
            "0 -> 1 -> Shares have gone up today.\n",
            "1 -> 1 -> The people are very kind.\n",
            "2 -> 0 -> The weather is the summer is terrible though.\n"
          ]
        }
      ]
    },
    {
      "cell_type": "code",
      "source": [
        "text = \"Bradford shares have plummeted. The people are very kind. The weather is the summer is terrible though.\"\n",
        "doc = nlp(text)\n",
        "for i, sentence in enumerate(doc.sentences):\n",
        "  print(\"%d -> %d -> %s\" % (i, sentence.sentiment, sentence.text))"
      ],
      "metadata": {
        "colab": {
          "base_uri": "https://localhost:8080/"
        },
        "id": "aR8fzLOMRoZ4",
        "outputId": "f31be643-1b32-4a50-d291-b117d854fe1b"
      },
      "execution_count": null,
      "outputs": [
        {
          "output_type": "stream",
          "name": "stdout",
          "text": [
            "0 -> 0 -> Bradford shares have plummeted.\n",
            "1 -> 1 -> The people are very kind.\n",
            "2 -> 0 -> The weather is the summer is terrible though.\n"
          ]
        }
      ]
    },
    {
      "cell_type": "code",
      "source": [],
      "metadata": {
        "id": "EsZesih2S0Gg"
      },
      "execution_count": null,
      "outputs": []
    },
    {
      "cell_type": "code",
      "source": [],
      "metadata": {
        "id": "dDeU4CEdTmY9"
      },
      "execution_count": null,
      "outputs": []
    },
    {
      "cell_type": "code",
      "source": [
        "# finding phrases"
      ],
      "metadata": {
        "id": "ELrBnYcfTmeS"
      },
      "execution_count": null,
      "outputs": []
    },
    {
      "cell_type": "code",
      "source": [
        "stop_words = [\"0o\", \"0s\", \"3b\", \"6b\", \"6o\", \"a\", \"a1\"]\n",
        "stop_words = set(stop_words)"
      ],
      "metadata": {
        "id": "CQIW96kfTpRB"
      },
      "execution_count": null,
      "outputs": []
    },
    {
      "cell_type": "code",
      "source": [
        "from logging import basicConfig\n",
        "import logging\n",
        "from gensim.models import phrases\n",
        "import gensim\n",
        "import logging\n",
        "logging.basicConfig(format=\"%(asctime)s : %(levelname)s : %(message)s\", level=logging.INFO)"
      ],
      "metadata": {
        "id": "nohEqIeJUGDG"
      },
      "execution_count": null,
      "outputs": []
    },
    {
      "cell_type": "code",
      "source": [
        "from os import path\n",
        "corpus = path"
      ],
      "metadata": {
        "id": "X3MHM3WPUtL6"
      },
      "execution_count": null,
      "outputs": []
    },
    {
      "cell_type": "code",
      "source": [],
      "metadata": {
        "id": "Kvg6OHg8W0dw"
      },
      "execution_count": null,
      "outputs": []
    },
    {
      "cell_type": "code",
      "source": [
        "two = []\n",
        "for line in new_corpus:\n",
        "  for unit in line:\n",
        "    if len(unit.split('_')) == 2:\n",
        "      two.append(unit)"
      ],
      "metadata": {
        "colab": {
          "base_uri": "https://localhost:8080/",
          "height": 240
        },
        "id": "AWxq4jkdXxGz",
        "outputId": "30da3764-0adf-4a7e-d3c0-1b5200ec1a23"
      },
      "execution_count": null,
      "outputs": [
        {
          "output_type": "error",
          "ename": "NameError",
          "evalue": "ignored",
          "traceback": [
            "\u001b[0;31m---------------------------------------------------------------------------\u001b[0m",
            "\u001b[0;31mNameError\u001b[0m                                 Traceback (most recent call last)",
            "\u001b[0;32m<ipython-input-27-deb711f799e5>\u001b[0m in \u001b[0;36m<cell line: 2>\u001b[0;34m()\u001b[0m\n\u001b[1;32m      1\u001b[0m \u001b[0mtwo\u001b[0m \u001b[0;34m=\u001b[0m \u001b[0;34m[\u001b[0m\u001b[0;34m]\u001b[0m\u001b[0;34m\u001b[0m\u001b[0;34m\u001b[0m\u001b[0m\n\u001b[0;32m----> 2\u001b[0;31m \u001b[0;32mfor\u001b[0m \u001b[0mline\u001b[0m \u001b[0;32min\u001b[0m \u001b[0mnew_corpus\u001b[0m\u001b[0;34m:\u001b[0m\u001b[0;34m\u001b[0m\u001b[0;34m\u001b[0m\u001b[0m\n\u001b[0m\u001b[1;32m      3\u001b[0m   \u001b[0;32mfor\u001b[0m \u001b[0munit\u001b[0m \u001b[0;32min\u001b[0m \u001b[0mline\u001b[0m\u001b[0;34m:\u001b[0m\u001b[0;34m\u001b[0m\u001b[0;34m\u001b[0m\u001b[0m\n\u001b[1;32m      4\u001b[0m     \u001b[0;32mif\u001b[0m \u001b[0mlen\u001b[0m\u001b[0;34m(\u001b[0m\u001b[0munit\u001b[0m\u001b[0;34m.\u001b[0m\u001b[0msplit\u001b[0m\u001b[0;34m(\u001b[0m\u001b[0;34m'_'\u001b[0m\u001b[0;34m)\u001b[0m\u001b[0;34m)\u001b[0m \u001b[0;34m==\u001b[0m \u001b[0;36m2\u001b[0m\u001b[0;34m:\u001b[0m\u001b[0;34m\u001b[0m\u001b[0;34m\u001b[0m\u001b[0m\n\u001b[1;32m      5\u001b[0m       \u001b[0mtwo\u001b[0m\u001b[0;34m.\u001b[0m\u001b[0mappend\u001b[0m\u001b[0;34m(\u001b[0m\u001b[0munit\u001b[0m\u001b[0;34m)\u001b[0m\u001b[0;34m\u001b[0m\u001b[0;34m\u001b[0m\u001b[0m\n",
            "\u001b[0;31mNameError\u001b[0m: name 'new_corpus' is not defined"
          ]
        }
      ]
    },
    {
      "cell_type": "code",
      "source": [
        "two[:10]"
      ],
      "metadata": {
        "id": "MzRtmtE4Xr9X"
      },
      "execution_count": null,
      "outputs": []
    },
    {
      "cell_type": "code",
      "source": [
        "from typing_extensions import Counter\n",
        "from collections import Counter\n",
        "c = Counter(two)\n",
        "print(c.most_common(10))"
      ],
      "metadata": {
        "colab": {
          "base_uri": "https://localhost:8080/"
        },
        "id": "wJd-iLMxXUtq",
        "outputId": "8377b1df-005d-47f9-ede7-9808aec22471"
      },
      "execution_count": null,
      "outputs": [
        {
          "output_type": "stream",
          "name": "stdout",
          "text": [
            "[]\n"
          ]
        }
      ]
    },
    {
      "cell_type": "code",
      "source": [
        "#build vocabulary and train model\n",
        "moel = gensim.models.Word2Vec(\n",
        "    new_corpus,\n",
        "    vector_size = 1000,\n",
        "    window=10, min_count=2,\n",
        "    workers=10\n",
        ")"
      ],
      "metadata": {
        "colab": {
          "base_uri": "https://localhost:8080/",
          "height": 240
        },
        "id": "Lw7xklWuW0gs",
        "outputId": "358a2227-0a0f-4ea9-9b13-f119dbc5c4ea"
      },
      "execution_count": null,
      "outputs": [
        {
          "output_type": "error",
          "ename": "NameError",
          "evalue": "ignored",
          "traceback": [
            "\u001b[0;31m---------------------------------------------------------------------------\u001b[0m",
            "\u001b[0;31mNameError\u001b[0m                                 Traceback (most recent call last)",
            "\u001b[0;32m<ipython-input-29-a96755dcd6ae>\u001b[0m in \u001b[0;36m<cell line: 2>\u001b[0;34m()\u001b[0m\n\u001b[1;32m      1\u001b[0m \u001b[0;31m#build vocabulary and train model\u001b[0m\u001b[0;34m\u001b[0m\u001b[0;34m\u001b[0m\u001b[0m\n\u001b[1;32m      2\u001b[0m moel = gensim.models.Word2Vec(\n\u001b[0;32m----> 3\u001b[0;31m     \u001b[0mnew_corpus\u001b[0m\u001b[0;34m,\u001b[0m\u001b[0;34m\u001b[0m\u001b[0;34m\u001b[0m\u001b[0m\n\u001b[0m\u001b[1;32m      4\u001b[0m     \u001b[0mvector_size\u001b[0m \u001b[0;34m=\u001b[0m \u001b[0;36m1000\u001b[0m\u001b[0;34m,\u001b[0m\u001b[0;34m\u001b[0m\u001b[0;34m\u001b[0m\u001b[0m\n\u001b[1;32m      5\u001b[0m     \u001b[0mwindow\u001b[0m\u001b[0;34m=\u001b[0m\u001b[0;36m10\u001b[0m\u001b[0;34m,\u001b[0m \u001b[0mmin_count\u001b[0m\u001b[0;34m=\u001b[0m\u001b[0;36m2\u001b[0m\u001b[0;34m,\u001b[0m\u001b[0;34m\u001b[0m\u001b[0;34m\u001b[0m\u001b[0m\n",
            "\u001b[0;31mNameError\u001b[0m: name 'new_corpus' is not defined"
          ]
        }
      ]
    },
    {
      "cell_type": "code",
      "source": [
        "model.wv.most_similar(positive= 'food', topn = 50)"
      ],
      "metadata": {
        "id": "5TeHxUIIXKcs"
      },
      "execution_count": null,
      "outputs": []
    },
    {
      "cell_type": "code",
      "source": [],
      "metadata": {
        "id": "zZqjMShyMPns"
      },
      "execution_count": null,
      "outputs": []
    },
    {
      "cell_type": "code",
      "source": [],
      "metadata": {
        "id": "hIdO6gtZYr6t"
      },
      "execution_count": null,
      "outputs": []
    },
    {
      "cell_type": "code",
      "source": [],
      "metadata": {
        "id": "YoCadvVYYsGh"
      },
      "execution_count": null,
      "outputs": []
    },
    {
      "cell_type": "code",
      "source": [],
      "metadata": {
        "id": "fGF1L1QGYsOn"
      },
      "execution_count": null,
      "outputs": []
    },
    {
      "cell_type": "code",
      "source": [],
      "metadata": {
        "id": "WEvpRma1YsXc"
      },
      "execution_count": null,
      "outputs": []
    }
  ]
}