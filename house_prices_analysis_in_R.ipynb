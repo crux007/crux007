{
  "nbformat": 4,
  "nbformat_minor": 0,
  "metadata": {
    "colab": {
      "provenance": [],
      "authorship_tag": "ABX9TyMS2LwOz1+1zesVeUbioqIS",
      "include_colab_link": true
    },
    "kernelspec": {
      "name": "ir",
      "display_name": "R"
    },
    "language_info": {
      "name": "R"
    }
  },
  "cells": [
    {
      "cell_type": "markdown",
      "metadata": {
        "id": "view-in-github",
        "colab_type": "text"
      },
      "source": [
        "<a href=\"https://colab.research.google.com/github/crux007/crux007/blob/main/house_prices_analysis_in_R.ipynb\" target=\"_parent\"><img src=\"https://colab.research.google.com/assets/colab-badge.svg\" alt=\"Open In Colab\"/></a>"
      ]
    },
    {
      "cell_type": "code",
      "execution_count": null,
      "metadata": {
        "colab": {
          "base_uri": "https://localhost:8080/"
        },
        "id": "YIFNG2H-LXy6",
        "outputId": "06d977ed-4eb5-480d-ef6a-9036c5879d4e"
      },
      "outputs": [
        {
          "output_type": "stream",
          "name": "stderr",
          "text": [
            "Installing package into ‘/usr/local/lib/R/site-library’\n",
            "(as ‘lib’ is unspecified)\n",
            "\n"
          ]
        }
      ],
      "source": [
        "install.packages(\"googledrive\")"
      ]
    },
    {
      "cell_type": "code",
      "source": [
        "library(\"googledrive\")"
      ],
      "metadata": {
        "id": "XXaKiFoxL7q6"
      },
      "execution_count": null,
      "outputs": []
    },
    {
      "cell_type": "markdown",
      "source": [
        "# New section"
      ],
      "metadata": {
        "id": "OoemvcOxMJ8G"
      }
    },
    {
      "cell_type": "code",
      "source": [
        "install.packages(\"randomForest\")"
      ],
      "metadata": {
        "colab": {
          "base_uri": "https://localhost:8080/"
        },
        "id": "t_1XW81uMbzS",
        "outputId": "2bd9e40f-93df-4e3a-e360-53b6c4d2f3c4"
      },
      "execution_count": 2,
      "outputs": [
        {
          "output_type": "stream",
          "name": "stderr",
          "text": [
            "Installing package into ‘/usr/local/lib/R/site-library’\n",
            "(as ‘lib’ is unspecified)\n",
            "\n"
          ]
        }
      ]
    },
    {
      "cell_type": "code",
      "source": [
        "library(randomForest)"
      ],
      "metadata": {
        "id": "ThYhR82WNbxq",
        "colab": {
          "base_uri": "https://localhost:8080/"
        },
        "outputId": "193fc45c-32e9-4c3b-e191-de835cd21c2a"
      },
      "execution_count": 3,
      "outputs": [
        {
          "output_type": "stream",
          "name": "stderr",
          "text": [
            "randomForest 4.7-1.1\n",
            "\n",
            "Type rfNews() to see new features/changes/bug fixes.\n",
            "\n"
          ]
        }
      ]
    },
    {
      "cell_type": "code",
      "source": [
        "train_data <- read.csv(\"/msc_training_dataset.csv\")"
      ],
      "metadata": {
        "id": "tEW1E1dzTmxF"
      },
      "execution_count": 5,
      "outputs": []
    },
    {
      "cell_type": "code",
      "source": [
        "test_data <- read.csv(\"/msc_testing_dataset.csv\")"
      ],
      "metadata": {
        "id": "ukFzO9v0Tv9y"
      },
      "execution_count": 6,
      "outputs": []
    },
    {
      "cell_type": "code",
      "source": [
        "head(train_data)"
      ],
      "metadata": {
        "colab": {
          "base_uri": "https://localhost:8080/",
          "height": 286
        },
        "id": "FN7FTX8yUf9i",
        "outputId": "50cd4b11-b972-4c3a-f7f6-d3f45738a9a5"
      },
      "execution_count": 7,
      "outputs": [
        {
          "output_type": "display_data",
          "data": {
            "text/html": [
              "<table class=\"dataframe\">\n",
              "<caption>A data.frame: 6 × 12</caption>\n",
              "<thead>\n",
              "\t<tr><th></th><th scope=col>room</th><th scope=col>bathroom</th><th scope=col>kitchen</th><th scope=col>french_door</th><th scope=col>backyard</th><th scope=col>furnished</th><th scope=col>green_paint</th><th scope=col>solar_power</th><th scope=col>woodfloor</th><th scope=col>qlm_security</th><th scope=col>club_access</th><th scope=col>price</th></tr>\n",
              "\t<tr><th></th><th scope=col>&lt;int&gt;</th><th scope=col>&lt;int&gt;</th><th scope=col>&lt;int&gt;</th><th scope=col>&lt;int&gt;</th><th scope=col>&lt;int&gt;</th><th scope=col>&lt;int&gt;</th><th scope=col>&lt;int&gt;</th><th scope=col>&lt;int&gt;</th><th scope=col>&lt;int&gt;</th><th scope=col>&lt;int&gt;</th><th scope=col>&lt;int&gt;</th><th scope=col>&lt;int&gt;</th></tr>\n",
              "</thead>\n",
              "<tbody>\n",
              "\t<tr><th scope=row>1</th><td>3</td><td>1</td><td>2</td><td>1</td><td>1</td><td>0</td><td>1</td><td>0</td><td>0</td><td>1</td><td>1</td><td>6835</td></tr>\n",
              "\t<tr><th scope=row>2</th><td>5</td><td>2</td><td>2</td><td>2</td><td>1</td><td>0</td><td>0</td><td>0</td><td>0</td><td>1</td><td>1</td><td>9005</td></tr>\n",
              "\t<tr><th scope=row>3</th><td>5</td><td>2</td><td>2</td><td>2</td><td>1</td><td>0</td><td>0</td><td>0</td><td>0</td><td>1</td><td>1</td><td>9005</td></tr>\n",
              "\t<tr><th scope=row>4</th><td>1</td><td>2</td><td>1</td><td>2</td><td>0</td><td>0</td><td>0</td><td>0</td><td>1</td><td>1</td><td>0</td><td>5105</td></tr>\n",
              "\t<tr><th scope=row>5</th><td>2</td><td>1</td><td>2</td><td>3</td><td>1</td><td>1</td><td>0</td><td>0</td><td>1</td><td>1</td><td>0</td><td>9105</td></tr>\n",
              "\t<tr><th scope=row>6</th><td>5</td><td>1</td><td>2</td><td>1</td><td>0</td><td>0</td><td>1</td><td>0</td><td>1</td><td>0</td><td>0</td><td>8995</td></tr>\n",
              "</tbody>\n",
              "</table>\n"
            ],
            "text/markdown": "\nA data.frame: 6 × 12\n\n| <!--/--> | room &lt;int&gt; | bathroom &lt;int&gt; | kitchen &lt;int&gt; | french_door &lt;int&gt; | backyard &lt;int&gt; | furnished &lt;int&gt; | green_paint &lt;int&gt; | solar_power &lt;int&gt; | woodfloor &lt;int&gt; | qlm_security &lt;int&gt; | club_access &lt;int&gt; | price &lt;int&gt; |\n|---|---|---|---|---|---|---|---|---|---|---|---|---|\n| 1 | 3 | 1 | 2 | 1 | 1 | 0 | 1 | 0 | 0 | 1 | 1 | 6835 |\n| 2 | 5 | 2 | 2 | 2 | 1 | 0 | 0 | 0 | 0 | 1 | 1 | 9005 |\n| 3 | 5 | 2 | 2 | 2 | 1 | 0 | 0 | 0 | 0 | 1 | 1 | 9005 |\n| 4 | 1 | 2 | 1 | 2 | 0 | 0 | 0 | 0 | 1 | 1 | 0 | 5105 |\n| 5 | 2 | 1 | 2 | 3 | 1 | 1 | 0 | 0 | 1 | 1 | 0 | 9105 |\n| 6 | 5 | 1 | 2 | 1 | 0 | 0 | 1 | 0 | 1 | 0 | 0 | 8995 |\n\n",
            "text/latex": "A data.frame: 6 × 12\n\\begin{tabular}{r|llllllllllll}\n  & room & bathroom & kitchen & french\\_door & backyard & furnished & green\\_paint & solar\\_power & woodfloor & qlm\\_security & club\\_access & price\\\\\n  & <int> & <int> & <int> & <int> & <int> & <int> & <int> & <int> & <int> & <int> & <int> & <int>\\\\\n\\hline\n\t1 & 3 & 1 & 2 & 1 & 1 & 0 & 1 & 0 & 0 & 1 & 1 & 6835\\\\\n\t2 & 5 & 2 & 2 & 2 & 1 & 0 & 0 & 0 & 0 & 1 & 1 & 9005\\\\\n\t3 & 5 & 2 & 2 & 2 & 1 & 0 & 0 & 0 & 0 & 1 & 1 & 9005\\\\\n\t4 & 1 & 2 & 1 & 2 & 0 & 0 & 0 & 0 & 1 & 1 & 0 & 5105\\\\\n\t5 & 2 & 1 & 2 & 3 & 1 & 1 & 0 & 0 & 1 & 1 & 0 & 9105\\\\\n\t6 & 5 & 1 & 2 & 1 & 0 & 0 & 1 & 0 & 1 & 0 & 0 & 8995\\\\\n\\end{tabular}\n",
            "text/plain": [
              "  room bathroom kitchen french_door backyard furnished green_paint solar_power\n",
              "1 3    1        2       1           1        0         1           0          \n",
              "2 5    2        2       2           1        0         0           0          \n",
              "3 5    2        2       2           1        0         0           0          \n",
              "4 1    2        1       2           0        0         0           0          \n",
              "5 2    1        2       3           1        1         0           0          \n",
              "6 5    1        2       1           0        0         1           0          \n",
              "  woodfloor qlm_security club_access price\n",
              "1 0         1            1           6835 \n",
              "2 0         1            1           9005 \n",
              "3 0         1            1           9005 \n",
              "4 1         1            0           5105 \n",
              "5 1         1            0           9105 \n",
              "6 1         0            0           8995 "
            ]
          },
          "metadata": {}
        }
      ]
    },
    {
      "cell_type": "code",
      "source": [
        "str(train_data)"
      ],
      "metadata": {
        "colab": {
          "base_uri": "https://localhost:8080/"
        },
        "id": "YMdsVqgKUjZP",
        "outputId": "884945f2-d736-477a-9ff3-87b31f01a424"
      },
      "execution_count": 8,
      "outputs": [
        {
          "output_type": "stream",
          "name": "stdout",
          "text": [
            "'data.frame':\t3000 obs. of  12 variables:\n",
            " $ room        : int  3 5 5 1 2 5 3 1 5 3 ...\n",
            " $ bathroom    : int  1 2 2 2 1 1 1 1 1 1 ...\n",
            " $ kitchen     : int  2 2 2 1 2 2 1 1 1 1 ...\n",
            " $ french_door : int  1 2 2 2 3 1 3 1 2 2 ...\n",
            " $ backyard    : int  1 1 1 0 1 0 1 0 0 0 ...\n",
            " $ furnished   : int  0 0 0 0 1 0 0 0 0 0 ...\n",
            " $ green_paint : int  1 0 0 0 0 1 0 0 0 0 ...\n",
            " $ solar_power : int  0 0 0 0 0 0 1 1 1 0 ...\n",
            " $ woodfloor   : int  0 0 0 1 1 1 0 0 1 1 ...\n",
            " $ qlm_security: int  1 1 1 1 1 0 0 1 0 0 ...\n",
            " $ club_access : int  1 1 1 0 0 0 0 1 0 0 ...\n",
            " $ price       : int  6835 9005 9005 5105 9105 8995 6805 4935 9895 6365 ...\n"
          ]
        }
      ]
    },
    {
      "cell_type": "code",
      "source": [
        "summary(train_data)"
      ],
      "metadata": {
        "colab": {
          "base_uri": "https://localhost:8080/",
          "height": 392
        },
        "id": "UyoXZ1GXUoMC",
        "outputId": "a77a15ab-15be-42b2-b838-0cfd3f787769"
      },
      "execution_count": 9,
      "outputs": [
        {
          "output_type": "display_data",
          "data": {
            "text/plain": [
              "      room         bathroom        kitchen       french_door   \n",
              " Min.   :1.00   Min.   :1.000   Min.   :1.000   Min.   :1.000  \n",
              " 1st Qu.:2.00   1st Qu.:1.000   1st Qu.:1.000   1st Qu.:1.000  \n",
              " Median :3.00   Median :1.000   Median :2.000   Median :2.000  \n",
              " Mean   :2.99   Mean   :1.489   Mean   :1.522   Mean   :1.998  \n",
              " 3rd Qu.:4.00   3rd Qu.:2.000   3rd Qu.:2.000   3rd Qu.:3.000  \n",
              " Max.   :5.00   Max.   :2.000   Max.   :2.000   Max.   :3.000  \n",
              "    backyard        furnished       green_paint     solar_power    \n",
              " Min.   :0.0000   Min.   :0.0000   Min.   :0.000   Min.   :0.0000  \n",
              " 1st Qu.:0.0000   1st Qu.:0.0000   1st Qu.:0.000   1st Qu.:0.0000  \n",
              " Median :0.0000   Median :0.0000   Median :0.000   Median :0.0000  \n",
              " Mean   :0.4903   Mean   :0.4887   Mean   :0.485   Mean   :0.4957  \n",
              " 3rd Qu.:1.0000   3rd Qu.:1.0000   3rd Qu.:1.000   3rd Qu.:1.0000  \n",
              " Max.   :1.0000   Max.   :1.0000   Max.   :1.000   Max.   :1.0000  \n",
              "   woodfloor       qlm_security     club_access         price      \n",
              " Min.   :0.0000   Min.   :0.0000   Min.   :0.0000   Min.   : 2235  \n",
              " 1st Qu.:0.0000   1st Qu.:0.0000   1st Qu.:0.0000   1st Qu.: 7005  \n",
              " Median :1.0000   Median :0.0000   Median :0.0000   Median : 8615  \n",
              " Mean   :0.5123   Mean   :0.4807   Mean   :0.4997   Mean   : 8607  \n",
              " 3rd Qu.:1.0000   3rd Qu.:1.0000   3rd Qu.:1.0000   3rd Qu.:10215  \n",
              " Max.   :1.0000   Max.   :1.0000   Max.   :1.0000   Max.   :15035  "
            ]
          },
          "metadata": {}
        }
      ]
    },
    {
      "cell_type": "code",
      "source": [
        "min(train_data$price)"
      ],
      "metadata": {
        "colab": {
          "base_uri": "https://localhost:8080/",
          "height": 34
        },
        "id": "Z_uvYd_eUttd",
        "outputId": "b00a0acf-1e9e-4522-ef5d-1c3a68128a1e"
      },
      "execution_count": 10,
      "outputs": [
        {
          "output_type": "display_data",
          "data": {
            "text/html": [
              "2235"
            ],
            "text/markdown": "2235",
            "text/latex": "2235",
            "text/plain": [
              "[1] 2235"
            ]
          },
          "metadata": {}
        }
      ]
    },
    {
      "cell_type": "code",
      "source": [
        "max(train_data$price)"
      ],
      "metadata": {
        "colab": {
          "base_uri": "https://localhost:8080/",
          "height": 34
        },
        "id": "RTfSwiVbU7XN",
        "outputId": "b774b841-67aa-4440-8ef6-6fe6a3c9f4df"
      },
      "execution_count": 11,
      "outputs": [
        {
          "output_type": "display_data",
          "data": {
            "text/html": [
              "15035"
            ],
            "text/markdown": "15035",
            "text/latex": "15035",
            "text/plain": [
              "[1] 15035"
            ]
          },
          "metadata": {}
        }
      ]
    },
    {
      "cell_type": "code",
      "source": [
        "library(ggplot2)"
      ],
      "metadata": {
        "colab": {
          "base_uri": "https://localhost:8080/"
        },
        "id": "gLc0dU-VaIEF",
        "outputId": "bbe65769-9d79-4c28-bb7d-74ffe1800cd2"
      },
      "execution_count": 31,
      "outputs": [
        {
          "output_type": "stream",
          "name": "stderr",
          "text": [
            "\n",
            "Attaching package: ‘ggplot2’\n",
            "\n",
            "\n",
            "The following object is masked from ‘package:randomForest’:\n",
            "\n",
            "    margin\n",
            "\n",
            "\n"
          ]
        }
      ]
    },
    {
      "cell_type": "code",
      "source": [
        "ggplot(train_data, aes(y = price)) +\n",
        "  geom_boxplot()+\n",
        "  ylab(\"Price\")"
      ],
      "metadata": {
        "colab": {
          "base_uri": "https://localhost:8080/",
          "height": 437
        },
        "id": "Dk14v8m9aaVt",
        "outputId": "1e044d10-5e51-4de4-c5d6-a465001c22eb"
      },
      "execution_count": 32,
      "outputs": [
        {
          "output_type": "display_data",
          "data": {
            "text/plain": [
              "plot without title"
            ],
            "image/png": "[encoded data removed]"
          },
          "metadata": {
            "image/png": {
              "width": 420,
              "height": 420
            }
          }
        }
      ]
    },
    {
      "cell_type": "code",
      "source": [
        "ggplot(train_data, aes(y = room)) +\n",
        "  geom_boxplot()+\n",
        "  ylab(\"Room\")"
      ],
      "metadata": {
        "colab": {
          "base_uri": "https://localhost:8080/",
          "height": 437
        },
        "id": "oZKzGgw_ayvp",
        "outputId": "63a1e65c-89f3-4451-c613-45e98c22f728"
      },
      "execution_count": 33,
      "outputs": [
        {
          "output_type": "display_data",
          "data": {
            "text/plain": [
              "plot without title"
            ],
            "image/png": "[encoded data removed]"
          },
          "metadata": {
            "image/png": {
              "width": 420,
              "height": 420
            }
          }
        }
      ]
    },
    {
      "cell_type": "code",
      "source": [
        "ggplot(train_data, aes(y = furnished)) +\n",
        "  geom_boxplot()+\n",
        "  ylab(\"Furnished\")"
      ],
      "metadata": {
        "colab": {
          "base_uri": "https://localhost:8080/",
          "height": 437
        },
        "id": "8Qpf3bhNa4Ux",
        "outputId": "ca13c190-eb99-40ff-f4cf-23806143cd26"
      },
      "execution_count": 34,
      "outputs": [
        {
          "output_type": "display_data",
          "data": {
            "text/plain": [
              "plot without title"
            ],
            "image/png": "[encoded data removed]"
          },
          "metadata": {
            "image/png": {
              "width": 420,
              "height": 420
            }
          }
        }
      ]
    },
    {
      "cell_type": "code",
      "source": [
        "train_predictors <- train_data[, -ncol(train_data)]"
      ],
      "metadata": {
        "id": "YnWlesHrU_lb"
      },
      "execution_count": 12,
      "outputs": []
    },
    {
      "cell_type": "code",
      "source": [
        "train_target <- train_data$price"
      ],
      "metadata": {
        "id": "u8szpND2VhED"
      },
      "execution_count": 13,
      "outputs": []
    },
    {
      "cell_type": "code",
      "source": [
        "test_predictors <- test_data[, -ncol(test_data)]"
      ],
      "metadata": {
        "id": "KNPPSG_pVnRF"
      },
      "execution_count": 14,
      "outputs": []
    },
    {
      "cell_type": "code",
      "source": [
        "test_target <- test_data$price"
      ],
      "metadata": {
        "id": "wmgZmZYuVyxA"
      },
      "execution_count": 15,
      "outputs": []
    },
    {
      "cell_type": "code",
      "source": [
        "set.seed(123)"
      ],
      "metadata": {
        "id": "mcjAPZ66V4jy"
      },
      "execution_count": 16,
      "outputs": []
    },
    {
      "cell_type": "code",
      "source": [
        "tune_params <- tuneRF(train_predictors, train_target, ntreeTry = 500, stepFactor = 1.5, improve = 0.01, trace = TRUE)"
      ],
      "metadata": {
        "colab": {
          "base_uri": "https://localhost:8080/",
          "height": 633
        },
        "id": "7xDsJm6nV88k",
        "outputId": "a3991a13-d7b5-424c-ec3a-107e2d01d52d"
      },
      "execution_count": 17,
      "outputs": [
        {
          "output_type": "stream",
          "name": "stdout",
          "text": [
            "mtry = 3  OOB error = 157015.1 \n",
            "Searching left ...\n",
            "mtry = 2 \tOOB error = 563033.1 \n",
            "-2.585852 0.01 \n",
            "Searching right ...\n",
            "mtry = 4 \tOOB error = 77826.06 \n",
            "0.5043404 0.01 \n",
            "mtry = 6 \tOOB error = 62645.93 \n",
            "0.195052 0.01 \n",
            "mtry = 9 \tOOB error = 66084.53 \n",
            "-0.05488942 0.01 \n"
          ]
        },
        {
          "output_type": "display_data",
          "data": {
            "text/plain": [
              "plot without title"
            ],
            "image/png": "[encoded data removed]"
          },
          "metadata": {
            "image/png": {
              "width": 420,
              "height": 420
            }
          }
        }
      ]
    },
    {
      "cell_type": "code",
      "source": [
        "rf_model <- randomForest(price ~ ., data = train_data, ntree = tune_params[1], mtry = tune_params[2])"
      ],
      "metadata": {
        "id": "GJf9LkUHWTkg"
      },
      "execution_count": 18,
      "outputs": []
    },
    {
      "cell_type": "code",
      "source": [
        "predictions <- predict(rf_model, newdata = test_predictors)"
      ],
      "metadata": {
        "id": "m-iYJq79W-B0"
      },
      "execution_count": 19,
      "outputs": []
    },
    {
      "cell_type": "code",
      "source": [
        "mse <- mean((test_target - predictions)^2)"
      ],
      "metadata": {
        "id": "nRNLy-8XXJ-G"
      },
      "execution_count": 20,
      "outputs": []
    },
    {
      "cell_type": "code",
      "source": [
        "print(paste0(\"Prediction performance: \", round(100 - 100 * mse / var(test_target), 2), \"%\"))"
      ],
      "metadata": {
        "colab": {
          "base_uri": "https://localhost:8080/"
        },
        "id": "Vm0FAPpsXSb9",
        "outputId": "02ff5b40-b8d8-4153-83f7-e59d5bf8b7e0"
      },
      "execution_count": 21,
      "outputs": [
        {
          "output_type": "stream",
          "name": "stdout",
          "text": [
            "[1] \"Prediction performance: 89.62%\"\n"
          ]
        }
      ]
    },
    {
      "cell_type": "code",
      "source": [
        "print(paste0(\"MSE: \", round(mse, 2)))"
      ],
      "metadata": {
        "colab": {
          "base_uri": "https://localhost:8080/"
        },
        "id": "teRaIVNYXqhM",
        "outputId": "7282188c-3a40-46ca-cb3f-4f85cc5ad1e1"
      },
      "execution_count": 22,
      "outputs": [
        {
          "output_type": "stream",
          "name": "stdout",
          "text": [
            "[1] \"MSE: 510480.09\"\n"
          ]
        }
      ]
    },
    {
      "cell_type": "code",
      "source": [
        "rf_model <- randomForest(price ~ ., data = train_data, ntree = tune_params[1], mtry = tune_params[2])"
      ],
      "metadata": {
        "id": "gXVCo-PwX3xZ"
      },
      "execution_count": 23,
      "outputs": []
    },
    {
      "cell_type": "code",
      "source": [
        "print(importance(rf_model))"
      ],
      "metadata": {
        "colab": {
          "base_uri": "https://localhost:8080/"
        },
        "id": "H8mwE862YL3U",
        "outputId": "34caff1a-8cd7-4faf-c969-2d53ea35e88c"
      },
      "execution_count": 24,
      "outputs": [
        {
          "output_type": "stream",
          "name": "stdout",
          "text": [
            "             IncNodePurity\n",
            "room            5610592573\n",
            "bathroom         123470072\n",
            "kitchen          195737636\n",
            "french_door      200516395\n",
            "backyard         226259881\n",
            "furnished       2868396138\n",
            "green_paint      141961431\n",
            "solar_power     1521867578\n",
            "woodfloor       2507582310\n",
            "qlm_security     175282051\n",
            "club_access      303090407\n"
          ]
        }
      ]
    },
    {
      "cell_type": "code",
      "source": [
        "predictions <- predict(rf_model, newdata = test_data)"
      ],
      "metadata": {
        "id": "jDXar0XfYSCw"
      },
      "execution_count": 25,
      "outputs": []
    },
    {
      "cell_type": "code",
      "source": [
        "print(predictions)"
      ],
      "metadata": {
        "colab": {
          "base_uri": "https://localhost:8080/"
        },
        "id": "npjzGJJwYdFZ",
        "outputId": "84f44f7b-e13e-4686-920d-82ae55d28334"
      },
      "execution_count": 26,
      "outputs": [
        {
          "output_type": "stream",
          "name": "stdout",
          "text": [
            "        1         2         3         4         5         6         7         8 \n",
            " 5021.667  7909.000 10962.179  9176.625 10888.500 10825.405 11927.500  7270.000 \n",
            "        9        10        11        12        13        14        15        16 \n",
            " 8064.500  6046.667 10332.333  8480.000  7426.000 11107.418  7677.500  7849.066 \n",
            "       17        18        19        20        21        22        23        24 \n",
            " 8813.625 12786.136  9365.444  6205.903  9272.222  7320.000  6169.000  4290.000 \n",
            "       25        26        27        28        29        30        31        32 \n",
            " 9307.250  7109.807  6511.000  9040.500  7220.000  9685.000  6315.000  9919.545 \n",
            "       33        34        35        36        37        38        39        40 \n",
            "10886.000  9221.667  7730.278 10301.667 10140.278 10433.875  9940.000 10752.333 \n",
            "       41        42        43        44        45        46        47        48 \n",
            " 6989.143  5017.750  9355.000  8156.125 10944.704  5895.917  5050.000 11415.265 \n",
            "       49        50        51        52        53        54        55        56 \n",
            " 9916.333  6362.917 11590.227 10563.571  5013.750  7277.500 12134.000  9364.375 \n",
            "       57        58        59        60        61        62        63        64 \n",
            " 6692.000  9280.143 10042.500  7711.000  9693.750 12638.636  7056.429  8963.333 \n",
            "       65        66        67        68        69        70        71        72 \n",
            "12175.065  6054.583 10366.071 10169.231  9595.208  5399.250  8826.786 11703.500 \n",
            "       73        74        75        76        77        78        79        80 \n",
            " 5554.167  6215.778  8953.214  9719.515  7610.000 10414.044 11257.429 11293.914 \n",
            "       81        82        83        84        85        86        87        88 \n",
            " 9041.000  6894.608 10814.545  8840.000 11589.848  6127.500  8775.000  8326.667 \n",
            "       89        90        91        92        93        94        95        96 \n",
            " 6967.500  8951.250  7443.333 10591.515 11834.444  7848.333  6315.000 11248.333 \n",
            "       97        98        99       100       101       102       103       104 \n",
            "11058.333  8151.000  8812.842  7727.000  7375.000  9852.857  4397.000  9340.625 \n",
            "      105       106       107       108       109       110       111       112 \n",
            " 5255.500  6209.500  9548.500  9447.667  8618.625 11383.889  9836.429  5457.500 \n",
            "      113       114       115       116       117       118       119       120 \n",
            " 9447.000  6438.917 10927.000  9323.168  8446.667  7860.333  8011.000  7697.097 \n",
            "      121       122       123       124       125       126       127       128 \n",
            " 9557.500  6169.000  7079.167  8341.923 11888.730 10020.294  9805.417  6154.833 \n",
            "      129       130       131       132       133       134       135       136 \n",
            " 6045.441  5593.000  4051.875  6392.000 10258.704  6150.000 11559.857  7186.000 \n",
            "      137       138       139       140       141       142       143       144 \n",
            " 6127.500 11590.227  8082.500  9826.429 10373.611 11316.746  6389.167  7485.000 \n",
            "      145       146       147       148       149       150       151       152 \n",
            " 9826.429  9985.750  4460.417  8025.750  5229.667 11293.914 11753.194  9643.222 \n",
            "      153       154       155       156       157       158       159       160 \n",
            "11263.750  9755.256  7917.000 10591.515  8318.000  8372.857 11711.250  9345.000 \n",
            "      161       162       163       164       165       166       167       168 \n",
            "10684.848  8213.750 10454.000  7149.000  9120.000  8981.125 12183.036  8958.000 \n",
            "      169       170       171       172       173       174       175       176 \n",
            "10944.704  5545.000  7892.000  8632.667 10214.848  6046.667  5738.182  7686.250 \n",
            "      177       178       179       180       181       182       183       184 \n",
            " 7756.929  9765.500  8748.750  9633.397 11293.914  8162.000  9756.000  7996.250 \n",
            "      185       186       187       188       189       190       191       192 \n",
            " 5690.000  8671.852  8035.878  7900.602  9790.278  8288.000  6215.778  9836.429 \n",
            "      193       194       195       196       197       198       199       200 \n",
            " 6245.643  6799.214  7573.036  7860.333 11163.333  8853.215  6362.788 10750.370 \n",
            "      201       202       203       204       205       206       207       208 \n",
            " 8853.215  7838.646 12645.636  6245.643  8348.667  7256.538  9137.000  8618.625 \n",
            "      209       210       211       212       213       214       215       216 \n",
            "10301.591 11144.905 10510.429  8645.000  9135.185  9030.818  9200.214 10828.571 \n",
            "      217       218       219       220       221       222       223       224 \n",
            " 9167.708  6747.778  6327.500  7421.833 11753.194  4922.917  5755.000  8748.333 \n",
            "      225       226       227       228       229       230       231       232 \n",
            " 8865.000  5943.000  8089.167  6572.500  7697.097  3810.000 12290.513  8243.333 \n",
            "      233       234       235       236       237       238       239       240 \n",
            " 7780.000  8867.250  7114.143 12950.303  8022.500 10322.727  7740.378  7136.364 \n",
            "      241       242       243       244       245       246       247       248 \n",
            " 5777.727  7793.352  6380.000  9041.000  8475.000 12448.011  8825.897 10685.000 \n",
            "      249       250       251       252       253       254       255       256 \n",
            "11071.591  7464.394  9340.625  8840.000  6526.667  4957.500  6500.000  7639.000 \n",
            "      257       258       259       260       261       262       263       264 \n",
            " 8906.708  7686.250  6821.500  6899.571  9949.583 10612.250  6560.833  8459.167 \n",
            "      265       266       267       268       269       270       271       272 \n",
            "11357.765  7357.500  8766.852 10014.000  8886.250 10053.538 11337.500  7001.538 \n",
            "      273       274       275       276       277       278       279       280 \n",
            " 6525.000 10106.667  7875.833  9340.625  9760.000  4377.500 10373.611  8186.250 \n",
            "      281       282       283       284       285       286       287       288 \n",
            " 3163.929  9881.111 11616.944 10431.923  5413.250 12064.908 11503.125  7912.841 \n",
            "      289       290       291       292       293       294       295       296 \n",
            "11559.857 10576.333 10608.591  9485.897 11540.536 10140.167  8480.000 10544.500 \n",
            "      297       298       299       300       301       302       303       304 \n",
            " 9374.000  6205.000  9619.167 10216.591  8611.263 10659.591  7401.667  8774.167 \n",
            "      305       306       307       308       309       310       311       312 \n",
            " 6956.667  9041.607  8722.000 10384.000  8772.500 10975.833 11092.051  9985.750 \n",
            "      313       314       315       316       317       318       319       320 \n",
            " 8174.231  7950.000  8167.708  4466.250  9836.429  8205.000  9331.346  7369.762 \n",
            "      321       322       323       324       325       326       327       328 \n",
            " 7624.333  7393.500  9637.500  7635.000  8981.125  5924.630  9330.481  7375.000 \n",
            "      329       330       331       332       333       334       335       336 \n",
            " 8480.128  5918.000  8741.000  8445.897  8826.786  6881.513  8151.097  9136.929 \n",
            "      337       338       339       340       341       342       343       344 \n",
            " 7131.000 10197.000  7538.333  5625.000  9661.000  7320.000  3919.500 12175.065 \n",
            "      345       346       347       348       349       350       351       352 \n",
            " 8501.500 13168.636 11559.857  9191.250  7482.500  5924.630 11295.000 11316.333 \n",
            "      353       354       355       356       357       358       359       360 \n",
            " 5777.727  7742.097  9713.929  5619.444  6899.571  9436.923 12248.636  8618.625 \n",
            "      361       362       363       364       365       366       367       368 \n",
            " 6209.500  6362.917  8283.000  7786.500  9953.333 10696.190  5747.917  6174.167 \n",
            "      369       370       371       372       373       374       375       376 \n",
            " 6607.250  9675.625 10197.000 11191.136  9531.923  9310.000  8474.696  8618.625 \n",
            "      377       378       379       380       381       382       383       384 \n",
            " 8700.625  4051.875  9340.625  5142.000  8564.167  7635.000  5755.833  7970.583 \n",
            "      385       386       387       388       389       390       391       392 \n",
            " 8326.167  5334.167  8618.625  8530.000  5255.500  5210.556  8155.263  5331.875 \n",
            "      393       394       395       396       397       398       399       400 \n",
            " 9538.750  7430.000  8393.333  8224.000  5737.500  7594.583  8560.214  8956.364 \n",
            "      401       402       403       404       405       406       407       408 \n",
            " 8039.805  6705.000  5071.250  9210.833  8011.000  9983.810 10697.179  8246.250 \n",
            "      409       410       411       412       413       414       415       416 \n",
            " 6518.254  7201.250  9193.000  8907.667  5060.000  4957.500  9221.667 12029.286 \n",
            "      417       418       419       420       421       422       423       424 \n",
            " 8248.333 10191.667  5591.875 10814.545  8610.897 11888.730 11367.051  9318.750 \n",
            "      425       426       427       428       429       430       431       432 \n",
            "10301.370 10335.000 12294.886  7870.000 10502.000 11305.000  8853.333  7704.851 \n",
            "      433       434       435       436       437       438       439       440 \n",
            "12226.136  6301.963 10051.842  6604.250 10865.920  7765.000  6015.000  8891.250 \n",
            "      441       442       443       444       445       446       447       448 \n",
            " 6197.963  6360.000  8456.214  8028.182  8362.097  9016.429 10643.333 12183.000 \n",
            "      449       450       451       452       453       454       455       456 \n",
            " 8544.231  6262.167  6985.500 10309.167  8773.167  8265.000  9156.182  7353.000 \n",
            "      457       458       459       460       461       462       463       464 \n",
            " 9335.278  5898.571  8978.929  7806.667 10041.000  8758.606  5619.444  5631.818 \n",
            "      465       466       467       468       469       470       471       472 \n",
            " 6555.000  9446.250  7685.000  7291.167  5906.250  7245.000  8522.111  9280.143 \n",
            "      473       474       475       476       477       478       479       480 \n",
            " 8377.667 10065.000  5637.778  8285.000  9532.708  6432.963  7662.143 10072.794 \n",
            "      481       482       483       484       485       486       487       488 \n",
            " 9307.250 10162.000  6462.500  8753.750  8520.000  9020.222  4739.167 10386.429 \n",
            "      489       490       491       492       493       494       495       496 \n",
            " 6638.750  8587.147 11293.914  8587.147  7686.250  8837.000  6045.441  5145.833 \n",
            "      497       498       499       500       501       502       503       504 \n",
            " 9489.333  5562.000 10214.848  8096.250  9548.750  9682.500  7970.583  6604.250 \n",
            "      505       506       507       508       509       510       511       512 \n",
            " 8326.667  7679.091  9179.375  9852.857  9428.000  8584.091  8727.250  9966.250 \n",
            "      513       514       515       516       517       518       519       520 \n",
            " 8971.667  5560.833  9233.929  5174.167 11590.227  4396.818  4938.750  9767.000 \n",
            "      521       522       523       524       525       526       527       528 \n",
            "12448.750 13407.636  6043.125 11821.375 11316.333  5812.321  8639.167  9120.571 \n",
            "      529       530       531       532       533       534       535       536 \n",
            " 8274.444 10193.367  9908.000  4806.818  7374.000  9127.083 10070.000  7248.333 \n",
            "      537       538       539       540       541       542       543       544 \n",
            " 5174.167  9120.571  8858.250  9113.846  7872.716 11220.333  8220.397 12064.908 \n",
            "      545       546       547       548       549       550       551       552 \n",
            " 6556.466 12183.000 11538.667  8773.167  6169.000  6123.542  3342.143 13242.636 \n",
            "      553       554       555       556       557       558       559       560 \n",
            "10410.889  8502.125  6308.611 11622.000  9760.000  8243.333 12183.000  9875.000 \n",
            "      561       562       563       564       565       566       567       568 \n",
            " 9675.625 10193.367  7463.333  9456.818  3919.500  5941.944 10193.367  6526.667 \n",
            "      569       570       571       572       573       574       575       576 \n",
            " 7433.000  5073.000  7870.000  5175.000  9270.000  8398.750 10453.778  9072.143 \n",
            "      577       578       579       580       581       582       583       584 \n",
            " 8886.250  7746.786  7069.167  8053.333  9167.375 11163.333  9114.318  9958.799 \n",
            "      585       586       587       588       589       590       591       592 \n",
            " 9487.500  9949.583 10825.405  9045.000  9483.182  9345.000  9272.897  7114.143 \n",
            "      593       594       595       596       597       598       599       600 \n",
            "10865.920  6064.250 10906.098  7040.000  7875.833  7563.833  8886.250  8579.500 \n",
            "      601       602       603       604       605       606       607       608 \n",
            " 9551.842 10767.143  7022.500  9280.143  5554.167  7824.583  8830.000  7600.216 \n",
            "      609       610       611       612       613       614       615       616 \n",
            "10082.000 10414.044  5040.000  9127.083 10661.704  9135.000  7426.000  5175.000 \n",
            "      617       618       619       620       621       622       623       624 \n",
            "10865.920 10661.704  7836.429  8560.333  9432.564  8863.125  9737.857  8758.606 \n",
            "      625       626       627       628       629       630       631       632 \n",
            " 9786.071  9904.167  8151.097  7955.000  8513.214  6740.000 10301.370  8833.333 \n",
            "      633       634       635       636       637       638       639       640 \n",
            " 8082.500  7789.846  8035.878  9318.750  7103.333  6827.500  6293.750  5550.000 \n",
            "      641       642       643       644       645       646       647       648 \n",
            "10952.348  9054.375  7149.333 11897.500  8162.000  8552.000 10711.071  5645.000 \n",
            "      649       650       651       652       653       654       655       656 \n",
            " 9127.083  7094.214 12330.303  8863.125  9671.704  9670.000  6411.000  8103.500 \n",
            "      657       658       659       660       661       662       663       664 \n",
            " 6142.500  7334.500  9401.190  7094.214  3545.375  7311.429  9947.500  6290.682 \n",
            "      665       666       667       668       669       670       671       672 \n",
            "11316.333  9391.944  8523.000  5752.500  6897.222  9957.857  9061.667 10865.920 \n",
            "      673       674       675       676       677       678       679       680 \n",
            " 7402.750  9991.000  9432.564  9119.318  4430.000  4953.778 11907.727  8555.417 \n",
            "      681       682       683       684       685       686       687       688 \n",
            " 7296.667 10938.333  8676.019  9340.852  4721.042  6985.500  9308.750  8348.000 \n",
            "      689       690       691       692       693       694       695       696 \n",
            " 6667.667  8883.500  9294.375 11559.857 11751.299  4888.750  7315.750 10063.333 \n",
            "      697       698       699       700       701       702       703       704 \n",
            " 8618.625  9949.583  9570.750  5009.667  9538.750 10962.179  6483.963  7806.667 \n",
            "      705       706       707       708       709       710       711       712 \n",
            " 8035.878  6573.167  8886.250  9340.625  3728.095 10865.920 10607.704 12281.750 \n",
            "      713       714       715       716       717       718       719       720 \n",
            " 9052.500  5050.000 11029.318  4919.167  8459.250  6186.111  9976.587  6209.500 \n",
            "      721       722       723       724       725       726       727       728 \n",
            "10076.111  6404.091  8587.500  7485.000  5562.500  7756.000  9535.000  7299.000 \n",
            "      729       730       731       732       733       734       735       736 \n",
            "10381.786 10394.722 11428.000 10035.000  4335.000  9100.263 12666.970  8479.318 \n",
            "      737       738       739       740       741       742       743       744 \n",
            " 7921.500  9052.500  8501.500  9643.222  9412.708  8741.000  8553.214  3638.750 \n",
            "      745       746       747       748       749       750       751       752 \n",
            " 5690.000  7838.646 10038.977 10938.333  7756.000 10614.924 11888.730  6844.206 \n",
            "      753       754       755       756       757       758       759       760 \n",
            " 5547.222  9045.000  9365.444  9456.818  7833.750 10373.818  8584.091 10418.333 \n",
            "      761       762       763       764       765       766       767       768 \n",
            "10410.889  9548.500 10362.111  6360.000 10162.667 11560.801  7875.833 12380.051 \n",
            "      769       770       771       772       773       774       775       776 \n",
            " 9054.182  6308.611 11888.730 10065.000  9476.250  4331.667 12183.036  6860.000 \n",
            "      777       778       779       780       781       782       783       784 \n",
            "10576.333 11316.333 10443.712  9765.500  8753.750 12358.636  8461.000  9769.000 \n",
            "      785       786       787       788       789       790       791       792 \n",
            " 7720.208  8801.125  7186.000  7936.000  8500.000 10077.071  8479.318  7765.000 \n",
            "      793       794       795       796       797       798       799       800 \n",
            " 9455.385  9655.727  6713.333  5986.000 13542.000  9031.538  8544.231  9756.000 \n",
            "      801       802       803       804       805       806       807       808 \n",
            " 9179.375  7118.466  5521.750  5637.778  9326.786  7893.525  8336.000 10510.667 \n",
            "      809       810       811       812       813       814       815       816 \n",
            " 9976.587 11956.071  5752.500  8248.333  7926.667  6853.333  6435.000 12142.051 \n",
            "      817       818       819       820       821       822       823       824 \n",
            " 4828.167 11293.914 10759.167  8356.000  9991.000 10556.204 12252.000  8978.929 \n",
            "      825       826       827       828       829       830       831       832 \n",
            "10447.727  6404.333  9300.929  7751.500  6238.036 10977.857  8131.000 10658.333 \n",
            "      833       834       835       836       837       838       839       840 \n",
            " 8017.000  3391.500 10418.333  7935.833  7794.444  9678.704  6858.182 11092.051 \n",
            "      841       842       843       844       845       846       847       848 \n",
            " 7463.378 11393.333 10433.875  6536.000 11821.375 10193.367  5436.500  9054.375 \n",
            "      849       850       851       852       853       854       855       856 \n",
            " 7740.263  4960.000 11897.500  7393.500  7778.333 10366.250  8459.000  9432.000 \n",
            "      857       858       859       860       861       862       863       864 \n",
            " 8742.500  6240.000  7148.667  5990.000  8285.000  5637.778 10929.444  9128.250 \n",
            "      865       866       867       868       869       870       871       872 \n",
            "12793.636  5752.500  5210.750  5489.000  3391.500  9040.000  7690.000 10944.704 \n",
            "      873       874       875       876       877       878       879       880 \n",
            " 4530.000  7187.500  7673.378  7040.000  9196.042 10301.370  8070.125  5738.182 \n",
            "      881       882       883       884       885       886       887       888 \n",
            " 7555.000 10370.000  6184.500  6897.222  8028.194  9915.000  8492.792  6002.500 \n",
            "      889       890       891       892       893       894       895       896 \n",
            " 6540.444  9953.000 11393.636  5465.455  8151.097 12638.636  4721.042 10352.000 \n",
            "      897       898       899       900       901       902       903       904 \n",
            "10945.000  8238.750  7625.312 10650.000  9775.812  6301.963  9380.000 10825.405 \n",
            "      905       906       907       908       909       910       911       912 \n",
            " 8145.000  8391.111  9661.000  9335.000  5285.417  8676.019 11703.500  4854.500 \n",
            "      913       914       915       916       917       918       919       920 \n",
            " 7386.000 10140.167  7849.066  9371.667  8878.194  6363.000  7201.250  4966.250 \n",
            "      921       922       923       924       925       926       927       928 \n",
            " 7615.000  9219.667  9120.571  8512.500 10998.704  8479.318  9030.818  9096.125 \n",
            "      929       930       931       932       933       934       935       936 \n",
            " 5435.833  9323.168  8482.000  8060.000  9986.000  6618.333  9780.682 10065.000 \n",
            "      937       938       939       940       941       942       943       944 \n",
            " 6090.556 10698.000  6375.000  6794.444 10562.143 12305.536 12358.636 11590.227 \n",
            "      945       946       947       948       949       950       951       952 \n",
            " 8475.000  7780.000  9585.357 10888.500  8843.000 12844.051  7731.667  8560.214 \n",
            "      953       954       955       956       957       958       959       960 \n",
            "10383.667 11089.722  5430.000  5752.500  8579.500  6262.167 10071.667 12191.970 \n",
            "      961       962       963       964       965       966       967       968 \n",
            " 8558.750  6540.444  6671.538  7313.934 12638.636  9195.536  9113.846  5738.182 \n",
            "      969       970       971       972       973       974       975       976 \n",
            " 6482.778 10318.667 13168.636 11564.333 10376.000  8953.667  9542.000  8544.231 \n",
            "      977       978       979       980       981       982       983       984 \n",
            "10366.071  8677.000  6552.000  5477.917 10661.704  8788.120  8634.000  5302.222 \n",
            "      985       986       987       988       989       990       991       992 \n",
            " 9242.875  5465.455  3545.375  7751.500 10182.143  8174.231  9272.897 10911.111 \n",
            "      993       994       995       996       997       998       999 \n",
            "10100.000  6184.500  9403.000  9054.182  7793.352  8715.556  7549.848 \n"
          ]
        }
      ]
    },
    {
      "cell_type": "code",
      "source": [
        "varImpPlot(rf_model)"
      ],
      "metadata": {
        "colab": {
          "base_uri": "https://localhost:8080/",
          "height": 437
        },
        "id": "SKAZUtMJYgGT",
        "outputId": "c22056be-0b29-475d-8016-70ed63d10f8c"
      },
      "execution_count": 27,
      "outputs": [
        {
          "output_type": "display_data",
          "data": {
            "text/plain": [
              "Plot with title “rf_model”"
            ],
            "image/png": "[encoded data removed]"
          },
          "metadata": {
            "image/png": {
              "width": 420,
              "height": 420
            }
          }
        }
      ]
    },
    {
      "cell_type": "code",
      "source": [],
      "metadata": {
        "id": "KddMk90LYl6C"
      },
      "execution_count": null,
      "outputs": []
    }
  ]
}