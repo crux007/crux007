{
  "nbformat": 4,
  "nbformat_minor": 0,
  "metadata": {
    "colab": {
      "provenance": [],
      "authorship_tag": "ABX9TyN/HdNxm9fBjqYaleckinyc",
      "include_colab_link": true
    },
    "kernelspec": {
      "name": "python3",
      "display_name": "Python 3"
    },
    "language_info": {
      "name": "python"
    }
  },
  "cells": [
    {
      "cell_type": "markdown",
      "metadata": {
        "id": "view-in-github",
        "colab_type": "text"
      },
      "source": [
        "<a href=\"https://colab.research.google.com/github/crux007/crux007/blob/main/Chatbot_with_NLP.ipynb\" target=\"_parent\"><img src=\"https://colab.research.google.com/assets/colab-badge.svg\" alt=\"Open In Colab\"/></a>"
      ]
    },
    {
      "cell_type": "code",
      "execution_count": 1,
      "metadata": {
        "id": "KfxHNa66A617"
      },
      "outputs": [],
      "source": [
        "import nltk\n",
        "from nltk.chat.util import Chat, reflections"
      ]
    },
    {
      "cell_type": "code",
      "source": [
        "# Define the chatbot's pairs of patterns and responses\n",
        "pairs = [\n",
        "    [\n",
        "        r\"hi|hello|hey\",\n",
        "        [\"Hello!\", \"Hi there!\", \"Greetings!\"]\n",
        "    ],\n",
        "    [\n",
        "        r\"what is your name?\",\n",
        "        [\"My name is ChatBot.\", \"You can call me ChatBot.\", \"I'm ChatBot, nice to meet you!\"]\n",
        "    ],\n",
        "    [\n",
        "        r\"how are you?\",\n",
        "        [\"I'm doing well, thank you!\", \"I'm fine, how about you?\"]\n",
        "    ],\n",
        "    [\n",
        "        r\"quit\",\n",
        "        [\"Goodbye!\", \"It was nice talking to you. See you later!\"]\n",
        "    ]\n",
        "]"
      ],
      "metadata": {
        "id": "Q8FTNi5AB5Kq"
      },
      "execution_count": 2,
      "outputs": []
    },
    {
      "cell_type": "code",
      "source": [
        "# Create a chatbot using the defined pairs\n",
        "chatbot = Chat(pairs, reflections)\n",
        "\n",
        "# Start the chatbot conversation\n",
        "print(\"ChatBot: Hello! How can I assist you today?\")\n",
        "chatbot.converse()"
      ],
      "metadata": {
        "colab": {
          "base_uri": "https://localhost:8080/"
        },
        "id": "AE21fTbEB8KD",
        "outputId": "92008472-2b76-46fc-e85d-05baca0f4a95"
      },
      "execution_count": 3,
      "outputs": [
        {
          "output_type": "stream",
          "name": "stdout",
          "text": [
            "ChatBot: Hello! How can I assist you today?\n",
            ">I will like to know what the time is in London\n",
            "None\n",
            ">Greetings\n",
            "None\n",
            ">hi\n",
            "Greetings!\n",
            ">what is your name?\n",
            "I'm ChatBot, nice to meet you!\n",
            ">how are you?\n",
            "I'm fine, how about you?\n",
            ">quit\n",
            "It was nice talking to you. See you later!\n"
          ]
        }
      ]
    },
    {
      "cell_type": "markdown",
      "source": [],
      "metadata": {
        "id": "RLZxFKObCYp4"
      }
    },
    {
      "cell_type": "code",
      "source": [],
      "metadata": {
        "id": "vQHjSjXlB_qA"
      },
      "execution_count": null,
      "outputs": []
    },
    {
      "cell_type": "markdown",
      "source": [
        "In this example, the chatbot uses the nltk library to process natural language and engage in a conversation. The pairs variable consists of a list of patterns and corresponding responses. The patterns are regular expressions that match user inputs, while the responses are pre-defined messages from the chatbot.\n",
        "\n",
        "The reflections variable is a dictionary that allows the chatbot to transform user inputs for more natural-sounding responses. For example, if the user inputs \"I am happy,\" the chatbot can use reflection to transform it into \"You are happy\" for its response.\n",
        "\n",
        "The Chat class from nltk.chat.util is used to create an instance of the chatbot with the defined pairs and reflections. The converse() method initiates the chatbot conversation, where it prompts the user for input and responds accordingly.\n",
        "\n"
      ],
      "metadata": {
        "id": "JBWUNMb2CfB0"
      }
    }
  ]
}