{
  "nbformat": 4,
  "nbformat_minor": 0,
  "metadata": {
    "colab": {
      "provenance": [],
      "mount_file_id": "1ml3rnuNkaER1J4uUzNlOhE9YdMv00zki",
      "authorship_tag": "ABX9TyNuYbB7M+RgWdHy4Xnmy0Cc",
      "include_colab_link": true
    },
    "kernelspec": {
      "name": "python3",
      "display_name": "Python 3"
    },
    "language_info": {
      "name": "python"
    }
  },
  "cells": [
    {
      "cell_type": "markdown",
      "metadata": {
        "id": "view-in-github",
        "colab_type": "text"
      },
      "source": [
        "<a href=\"https://colab.research.google.com/github/crux007/crux007/blob/main/sentiment_for_airline_review.ipynb\" target=\"_parent\"><img src=\"https://colab.research.google.com/assets/colab-badge.svg\" alt=\"Open In Colab\"/></a>"
      ]
    },
    {
      "cell_type": "code",
      "execution_count": 1,
      "metadata": {
        "id": "ROXVtUlYlmiy"
      },
      "outputs": [],
      "source": [
        "import pandas as pd\n",
        "import nltk\n",
        "from nltk.sentiment import SentimentIntensityAnalyzer\n",
        "import numpy as np"
      ]
    },
    {
      "cell_type": "code",
      "source": [
        "df = pd.read_csv('/content/drive/MyDrive/airline_review_2.csv')"
      ],
      "metadata": {
        "id": "1NbDJ6Z3lpUq"
      },
      "execution_count": 3,
      "outputs": []
    },
    {
      "cell_type": "code",
      "source": [
        "df['customer_review'].head(5)"
      ],
      "metadata": {
        "colab": {
          "base_uri": "https://localhost:8080/"
        },
        "id": "TasNZ5ZnpSi2",
        "outputId": "fa7f1362-5f2e-42b8-d72b-5821b6dcc932"
      },
      "execution_count": 6,
      "outputs": [
        {
          "output_type": "execute_result",
          "data": {
            "text/plain": [
              "1        trip verified   london to izmir via istanb...\n",
              "3        trip verified   istanbul to bucharest  we ...\n",
              "5        trip verified   rome to prishtina via ista...\n",
              "7        trip verified   flew on turkish airlines i...\n",
              "9        trip verified   mumbai to dublin via istan...\n",
              "Name: customer_review, dtype: object"
            ]
          },
          "metadata": {},
          "execution_count": 6
        }
      ]
    },
    {
      "cell_type": "code",
      "source": [
        "df.dropna(subset=['customer_review'], inplace=True)"
      ],
      "metadata": {
        "id": "w-sjVJ4umWWC"
      },
      "execution_count": 4,
      "outputs": []
    },
    {
      "cell_type": "code",
      "source": [
        "df['customer_review'] = df['customer_review'].str.replace(\"[^a-zA-Z#]\", \" \")\n",
        "df['customer_review'] = df['customer_review'].str.lower()"
      ],
      "metadata": {
        "colab": {
          "base_uri": "https://localhost:8080/"
        },
        "id": "AyPPb3aBpAGa",
        "outputId": "6d2e3f51-8561-4a00-853e-e68acd517178"
      },
      "execution_count": 5,
      "outputs": [
        {
          "output_type": "stream",
          "name": "stderr",
          "text": [
            "<ipython-input-5-e1051d2d2ebd>:1: FutureWarning: The default value of regex will change from True to False in a future version.\n",
            "  df['customer_review'] = df['customer_review'].str.replace(\"[^a-zA-Z#]\", \" \")\n"
          ]
        }
      ]
    },
    {
      "cell_type": "code",
      "source": [
        "nltk.download('vader_lexicon')"
      ],
      "metadata": {
        "colab": {
          "base_uri": "https://localhost:8080/"
        },
        "id": "-ojBNLjjpPzq",
        "outputId": "bf0f70b3-8e19-4b98-ee6f-54c3f59be947"
      },
      "execution_count": 7,
      "outputs": [
        {
          "output_type": "stream",
          "name": "stderr",
          "text": [
            "[nltk_data] Downloading package vader_lexicon to /root/nltk_data...\n"
          ]
        },
        {
          "output_type": "execute_result",
          "data": {
            "text/plain": [
              "True"
            ]
          },
          "metadata": {},
          "execution_count": 7
        }
      ]
    },
    {
      "cell_type": "code",
      "source": [
        "sia = SentimentIntensityAnalyzer()"
      ],
      "metadata": {
        "id": "AxWqr0YQp3B1"
      },
      "execution_count": 8,
      "outputs": []
    },
    {
      "cell_type": "code",
      "source": [
        "df['Sentiment'] = df['customer_review'].apply(lambda x: sia.polarity_scores(x)['compound'])"
      ],
      "metadata": {
        "id": "TUc1Us72p6-i"
      },
      "execution_count": 10,
      "outputs": []
    },
    {
      "cell_type": "code",
      "source": [
        "df['Sentiment_Label'] = df['Sentiment'].apply(lambda x: 'Positive' if x >= 0 else 'Negative')"
      ],
      "metadata": {
        "id": "Du5dydv6qGAf"
      },
      "execution_count": 11,
      "outputs": []
    },
    {
      "cell_type": "code",
      "source": [
        "print(df[['customer_review', 'Sentiment', 'Sentiment_Label']])"
      ],
      "metadata": {
        "colab": {
          "base_uri": "https://localhost:8080/"
        },
        "id": "o_gqvmgoqfuW",
        "outputId": "73d029c7-19f9-4da3-b84d-32262bc38cec"
      },
      "execution_count": 12,
      "outputs": [
        {
          "output_type": "stream",
          "name": "stdout",
          "text": [
            "                                          customer_review  Sentiment  \\\n",
            "1           trip verified   london to izmir via istanb...     0.9365   \n",
            "3           trip verified   istanbul to bucharest  we ...     0.2732   \n",
            "5           trip verified   rome to prishtina via ista...    -0.9539   \n",
            "7           trip verified   flew on turkish airlines i...     0.9718   \n",
            "9           trip verified   mumbai to dublin via istan...    -0.7599   \n",
            "...                                                   ...        ...   \n",
            "131886  two domestic flights between kiev and lviv las...     0.8721   \n",
            "131888  i had a good flight from london to kiev with u...     0.8042   \n",
            "131890  kiev   london  gatwick  in business class  in ...    -0.6549   \n",
            "131892  several flights   kbp to ams    times one way ...     0.5267   \n",
            "131894  kbp ams with uia  although it was a relatively...     0.8834   \n",
            "\n",
            "       Sentiment_Label  \n",
            "1             Positive  \n",
            "3             Positive  \n",
            "5             Negative  \n",
            "7             Positive  \n",
            "9             Negative  \n",
            "...                ...  \n",
            "131886        Positive  \n",
            "131888        Positive  \n",
            "131890        Negative  \n",
            "131892        Positive  \n",
            "131894        Positive  \n",
            "\n",
            "[65947 rows x 3 columns]\n"
          ]
        }
      ]
    },
    {
      "cell_type": "code",
      "source": [
        "new_df = df[['customer_review', 'Sentiment', 'Sentiment_Label']].copy()"
      ],
      "metadata": {
        "id": "KONxepcqql30"
      },
      "execution_count": 13,
      "outputs": []
    },
    {
      "cell_type": "code",
      "source": [
        "new_df.to_csv('/content/drive/MyDrive/new_dataframe_with_sentiments.csv', index=False)"
      ],
      "metadata": {
        "id": "wm--bLONtK46"
      },
      "execution_count": 14,
      "outputs": []
    },
    {
      "cell_type": "code",
      "source": [
        "print(new_df)"
      ],
      "metadata": {
        "colab": {
          "base_uri": "https://localhost:8080/"
        },
        "id": "TnA75IvotYFc",
        "outputId": "a1962170-2f67-41ba-eece-b700a1f659c2"
      },
      "execution_count": 15,
      "outputs": [
        {
          "output_type": "stream",
          "name": "stdout",
          "text": [
            "                                          customer_review  Sentiment  \\\n",
            "1           trip verified   london to izmir via istanb...     0.9365   \n",
            "3           trip verified   istanbul to bucharest  we ...     0.2732   \n",
            "5           trip verified   rome to prishtina via ista...    -0.9539   \n",
            "7           trip verified   flew on turkish airlines i...     0.9718   \n",
            "9           trip verified   mumbai to dublin via istan...    -0.7599   \n",
            "...                                                   ...        ...   \n",
            "131886  two domestic flights between kiev and lviv las...     0.8721   \n",
            "131888  i had a good flight from london to kiev with u...     0.8042   \n",
            "131890  kiev   london  gatwick  in business class  in ...    -0.6549   \n",
            "131892  several flights   kbp to ams    times one way ...     0.5267   \n",
            "131894  kbp ams with uia  although it was a relatively...     0.8834   \n",
            "\n",
            "       Sentiment_Label  \n",
            "1             Positive  \n",
            "3             Positive  \n",
            "5             Negative  \n",
            "7             Positive  \n",
            "9             Negative  \n",
            "...                ...  \n",
            "131886        Positive  \n",
            "131888        Positive  \n",
            "131890        Negative  \n",
            "131892        Positive  \n",
            "131894        Positive  \n",
            "\n",
            "[65947 rows x 3 columns]\n"
          ]
        }
      ]
    },
    {
      "cell_type": "code",
      "source": [],
      "metadata": {
        "id": "PrCzvGPrtfr8"
      },
      "execution_count": null,
      "outputs": []
    }
  ]
}