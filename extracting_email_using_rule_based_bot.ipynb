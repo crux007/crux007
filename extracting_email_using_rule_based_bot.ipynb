{
  "nbformat": 4,
  "nbformat_minor": 0,
  "metadata": {
    "colab": {
      "provenance": [],
      "authorship_tag": "ABX9TyNpAH7vBiMZs3tmrbqX9UvR",
      "include_colab_link": true
    },
    "kernelspec": {
      "name": "python3",
      "display_name": "Python 3"
    },
    "language_info": {
      "name": "python"
    }
  },
  "cells": [
    {
      "cell_type": "markdown",
      "metadata": {
        "id": "view-in-github",
        "colab_type": "text"
      },
      "source": [
        "<a href=\"https://colab.research.google.com/github/crux007/crux007/blob/main/extracting_email_using_rule_based_bot.ipynb\" target=\"_parent\"><img src=\"https://colab.research.google.com/assets/colab-badge.svg\" alt=\"Open In Colab\"/></a>"
      ]
    },
    {
      "cell_type": "code",
      "execution_count": 2,
      "metadata": {
        "id": "1WSDvibq_PYn"
      },
      "outputs": [],
      "source": [
        "import re"
      ]
    },
    {
      "cell_type": "code",
      "source": [
        "\n",
        "def extract_emails(text):\n",
        "    # Regular expression pattern to match email addresses\n",
        "    email_pattern = r'\\b[A-Za-z0-9._%+-]+@[A-Za-z0-9.-]+\\.[A-Za-z]{2,}\\b'\n",
        "     # Find all matches of email addresses in the text\n",
        "    emails = re.findall(email_pattern, text)\n",
        "    \n",
        "    return emails\n"
      ],
      "metadata": {
        "id": "H0Sz_CSs_UEr"
      },
      "execution_count": 3,
      "outputs": []
    },
    {
      "cell_type": "code",
      "source": [
        "example_text = \"Contact us at info@example.com or support@example.com for assistance.\""
      ],
      "metadata": {
        "id": "oPDiEcuj_do5"
      },
      "execution_count": 4,
      "outputs": []
    },
    {
      "cell_type": "code",
      "source": [
        "# Extract email addresses using the rule-based bot\n",
        "extracted_emails = extract_emails(example_text)"
      ],
      "metadata": {
        "id": "kylfqdU__hJv"
      },
      "execution_count": 5,
      "outputs": []
    },
    {
      "cell_type": "code",
      "source": [
        "# Print the extracted email addresses\n",
        "for email in extracted_emails:\n",
        "    print(email)"
      ],
      "metadata": {
        "colab": {
          "base_uri": "https://localhost:8080/"
        },
        "id": "BEKJPC7M_lm2",
        "outputId": "2203c789-02e0-4877-d09c-a22654bd62b7"
      },
      "execution_count": 6,
      "outputs": [
        {
          "output_type": "stream",
          "name": "stdout",
          "text": [
            "info@example.com\n",
            "support@example.com\n"
          ]
        }
      ]
    },
    {
      "cell_type": "code",
      "source": [],
      "metadata": {
        "id": "eviVTW3t_olj"
      },
      "execution_count": null,
      "outputs": []
    }
  ]
}