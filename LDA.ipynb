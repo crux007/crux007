{
  "nbformat": 4,
  "nbformat_minor": 0,
  "metadata": {
    "colab": {
      "provenance": [],
      "mount_file_id": "1W3pwEkMFyD6sj-057KW7s0evgqBDUG__",
      "authorship_tag": "ABX9TyPPh0qcLKYIOXZAZXTZE/F7",
      "include_colab_link": true
    },
    "kernelspec": {
      "name": "python3",
      "display_name": "Python 3"
    },
    "language_info": {
      "name": "python"
    }
  },
  "cells": [
    {
      "cell_type": "markdown",
      "metadata": {
        "id": "view-in-github",
        "colab_type": "text"
      },
      "source": [
        "<a href=\"https://colab.research.google.com/github/crux007/crux007/blob/main/LDA.ipynb\" target=\"_parent\"><img src=\"https://colab.research.google.com/assets/colab-badge.svg\" alt=\"Open In Colab\"/></a>"
      ]
    },
    {
      "cell_type": "code",
      "execution_count": 62,
      "metadata": {
        "id": "hXGO6ZoblEg8"
      },
      "outputs": [],
      "source": [
        "import numpy as np\n",
        "import pandas as pd\n",
        "import re\n",
        "from sklearn.feature_extraction.text import TfidfVectorizer\n",
        "from sklearn.decomposition import LatentDirichletAllocation"
      ]
    },
    {
      "cell_type": "code",
      "source": [
        "df = pd.read_csv('/content/drive/MyDrive/airline_review.csv')"
      ],
      "metadata": {
        "id": "5IY6l5HaoQbs"
      },
      "execution_count": 71,
      "outputs": []
    },
    {
      "cell_type": "code",
      "source": [
        "df.head(5)"
      ],
      "metadata": {
        "colab": {
          "base_uri": "https://localhost:8080/",
          "height": 455
        },
        "id": "bC3snoTmutJv",
        "outputId": "505def02-0669-44a2-cad6-b60f95485f8c"
      },
      "execution_count": 72,
      "outputs": [
        {
          "output_type": "execute_result",
          "data": {
            "text/plain": [
              "         airline  overall        author        review_date  \\\n",
              "0  Adria Airways        8       M Jager  12th October 2018   \n",
              "1  Adria Airways        1  Giulia Rossi   5th October 2018   \n",
              "2  Adria Airways        1  Galya Slavov     29th July 2018   \n",
              "3  Adria Airways        2    Loic Jouan     19th July 2018   \n",
              "4  Adria Airways        2      P Gamirj     30th June 2018   \n",
              "\n",
              "                                     customer_review aircraft  traveller_type  \\\n",
              "0  âœ… Trip Verified | Ljubljana to Munich. The h...      NaN  Family Leisure   \n",
              "1  Not Verified | Zurich to Ljubljana. Very poor ...      NaN        Business   \n",
              "2  âœ… Trip Verified | Vienna to Sofia. The fligh...      NaN  Family Leisure   \n",
              "3  âœ… Trip Verified | We were traveling from Par...      NaN    Solo Leisure   \n",
              "4  âœ… Trip Verified | Ljubljana to Munich. Adria...      NaN        Business   \n",
              "\n",
              "           cabin                          route    date_flown  seat_comfort  \\\n",
              "0  Economy Class            Ljubljana to Munich  October 2018             4   \n",
              "1  Economy Class            Zurich to Ljubljana  October 2018             2   \n",
              "2  Economy Class                Vienna to Sofia     July 2018             4   \n",
              "3  Economy Class  Paris to Skopje via Ljubljana        May-18             3   \n",
              "4  Economy Class            Ljubljana to Munich     June 2018             1   \n",
              "\n",
              "   cabin_service  food_bev  entertainment  ground_service  value_for_money  \\\n",
              "0              4         3              0               5                5   \n",
              "1              1         0              1               1                1   \n",
              "2              1         1              0               4                1   \n",
              "3              3         0              0               3                2   \n",
              "4              2         2              0               2                1   \n",
              "\n",
              "  recommended  \n",
              "0         yes  \n",
              "1          no  \n",
              "2          no  \n",
              "3          no  \n",
              "4          no  "
            ],
            "text/html": [
              "\n",
              "\n",
              "  <div id=\"df-40fafc6f-05bf-4602-958b-024c0435db2f\">\n",
              "    <div class=\"colab-df-container\">\n",
              "      <div>\n",
              "<style scoped>\n",
              "    .dataframe tbody tr th:only-of-type {\n",
              "        vertical-align: middle;\n",
              "    }\n",
              "\n",
              "    .dataframe tbody tr th {\n",
              "        vertical-align: top;\n",
              "    }\n",
              "\n",
              "    .dataframe thead th {\n",
              "        text-align: right;\n",
              "    }\n",
              "</style>\n",
              "<table border=\"1\" class=\"dataframe\">\n",
              "  <thead>\n",
              "    <tr style=\"text-align: right;\">\n",
              "      <th></th>\n",
              "      <th>airline</th>\n",
              "      <th>overall</th>\n",
              "      <th>author</th>\n",
              "      <th>review_date</th>\n",
              "      <th>customer_review</th>\n",
              "      <th>aircraft</th>\n",
              "      <th>traveller_type</th>\n",
              "      <th>cabin</th>\n",
              "      <th>route</th>\n",
              "      <th>date_flown</th>\n",
              "      <th>seat_comfort</th>\n",
              "      <th>cabin_service</th>\n",
              "      <th>food_bev</th>\n",
              "      <th>entertainment</th>\n",
              "      <th>ground_service</th>\n",
              "      <th>value_for_money</th>\n",
              "      <th>recommended</th>\n",
              "    </tr>\n",
              "  </thead>\n",
              "  <tbody>\n",
              "    <tr>\n",
              "      <th>0</th>\n",
              "      <td>Adria Airways</td>\n",
              "      <td>8</td>\n",
              "      <td>M Jager</td>\n",
              "      <td>12th October 2018</td>\n",
              "      <td>âœ… Trip Verified | Ljubljana to Munich. The h...</td>\n",
              "      <td>NaN</td>\n",
              "      <td>Family Leisure</td>\n",
              "      <td>Economy Class</td>\n",
              "      <td>Ljubljana to Munich</td>\n",
              "      <td>October 2018</td>\n",
              "      <td>4</td>\n",
              "      <td>4</td>\n",
              "      <td>3</td>\n",
              "      <td>0</td>\n",
              "      <td>5</td>\n",
              "      <td>5</td>\n",
              "      <td>yes</td>\n",
              "    </tr>\n",
              "    <tr>\n",
              "      <th>1</th>\n",
              "      <td>Adria Airways</td>\n",
              "      <td>1</td>\n",
              "      <td>Giulia Rossi</td>\n",
              "      <td>5th October 2018</td>\n",
              "      <td>Not Verified | Zurich to Ljubljana. Very poor ...</td>\n",
              "      <td>NaN</td>\n",
              "      <td>Business</td>\n",
              "      <td>Economy Class</td>\n",
              "      <td>Zurich to Ljubljana</td>\n",
              "      <td>October 2018</td>\n",
              "      <td>2</td>\n",
              "      <td>1</td>\n",
              "      <td>0</td>\n",
              "      <td>1</td>\n",
              "      <td>1</td>\n",
              "      <td>1</td>\n",
              "      <td>no</td>\n",
              "    </tr>\n",
              "    <tr>\n",
              "      <th>2</th>\n",
              "      <td>Adria Airways</td>\n",
              "      <td>1</td>\n",
              "      <td>Galya Slavov</td>\n",
              "      <td>29th July 2018</td>\n",
              "      <td>âœ… Trip Verified | Vienna to Sofia. The fligh...</td>\n",
              "      <td>NaN</td>\n",
              "      <td>Family Leisure</td>\n",
              "      <td>Economy Class</td>\n",
              "      <td>Vienna to Sofia</td>\n",
              "      <td>July 2018</td>\n",
              "      <td>4</td>\n",
              "      <td>1</td>\n",
              "      <td>1</td>\n",
              "      <td>0</td>\n",
              "      <td>4</td>\n",
              "      <td>1</td>\n",
              "      <td>no</td>\n",
              "    </tr>\n",
              "    <tr>\n",
              "      <th>3</th>\n",
              "      <td>Adria Airways</td>\n",
              "      <td>2</td>\n",
              "      <td>Loic Jouan</td>\n",
              "      <td>19th July 2018</td>\n",
              "      <td>âœ… Trip Verified | We were traveling from Par...</td>\n",
              "      <td>NaN</td>\n",
              "      <td>Solo Leisure</td>\n",
              "      <td>Economy Class</td>\n",
              "      <td>Paris to Skopje via Ljubljana</td>\n",
              "      <td>May-18</td>\n",
              "      <td>3</td>\n",
              "      <td>3</td>\n",
              "      <td>0</td>\n",
              "      <td>0</td>\n",
              "      <td>3</td>\n",
              "      <td>2</td>\n",
              "      <td>no</td>\n",
              "    </tr>\n",
              "    <tr>\n",
              "      <th>4</th>\n",
              "      <td>Adria Airways</td>\n",
              "      <td>2</td>\n",
              "      <td>P Gamirj</td>\n",
              "      <td>30th June 2018</td>\n",
              "      <td>âœ… Trip Verified | Ljubljana to Munich. Adria...</td>\n",
              "      <td>NaN</td>\n",
              "      <td>Business</td>\n",
              "      <td>Economy Class</td>\n",
              "      <td>Ljubljana to Munich</td>\n",
              "      <td>June 2018</td>\n",
              "      <td>1</td>\n",
              "      <td>2</td>\n",
              "      <td>2</td>\n",
              "      <td>0</td>\n",
              "      <td>2</td>\n",
              "      <td>1</td>\n",
              "      <td>no</td>\n",
              "    </tr>\n",
              "  </tbody>\n",
              "</table>\n",
              "</div>\n",
              "      <button class=\"colab-df-convert\" onclick=\"convertToInteractive('df-40fafc6f-05bf-4602-958b-024c0435db2f')\"\n",
              "              title=\"Convert this dataframe to an interactive table.\"\n",
              "              style=\"display:none;\">\n",
              "\n",
              "  <svg xmlns=\"http://www.w3.org/2000/svg\" height=\"24px\"viewBox=\"0 0 24 24\"\n",
              "       width=\"24px\">\n",
              "    <path d=\"M0 0h24v24H0V0z\" fill=\"none\"/>\n",
              "    <path d=\"M18.56 5.44l.94 2.06.94-2.06 2.06-.94-2.06-.94-.94-2.06-.94 2.06-2.06.94zm-11 1L8.5 8.5l.94-2.06 2.06-.94-2.06-.94L8.5 2.5l-.94 2.06-2.06.94zm10 10l.94 2.06.94-2.06 2.06-.94-2.06-.94-.94-2.06-.94 2.06-2.06.94z\"/><path d=\"M17.41 7.96l-1.37-1.37c-.4-.4-.92-.59-1.43-.59-.52 0-1.04.2-1.43.59L10.3 9.45l-7.72 7.72c-.78.78-.78 2.05 0 2.83L4 21.41c.39.39.9.59 1.41.59.51 0 1.02-.2 1.41-.59l7.78-7.78 2.81-2.81c.8-.78.8-2.07 0-2.86zM5.41 20L4 18.59l7.72-7.72 1.47 1.35L5.41 20z\"/>\n",
              "  </svg>\n",
              "      </button>\n",
              "\n",
              "\n",
              "\n",
              "    <div id=\"df-c13615ca-dd2d-4bd6-aec4-e181685478dd\">\n",
              "      <button class=\"colab-df-quickchart\" onclick=\"quickchart('df-c13615ca-dd2d-4bd6-aec4-e181685478dd')\"\n",
              "              title=\"Suggest charts.\"\n",
              "              style=\"display:none;\">\n",
              "\n",
              "<svg xmlns=\"http://www.w3.org/2000/svg\" height=\"24px\"viewBox=\"0 0 24 24\"\n",
              "     width=\"24px\">\n",
              "    <g>\n",
              "        <path d=\"M19 3H5c-1.1 0-2 .9-2 2v14c0 1.1.9 2 2 2h14c1.1 0 2-.9 2-2V5c0-1.1-.9-2-2-2zM9 17H7v-7h2v7zm4 0h-2V7h2v10zm4 0h-2v-4h2v4z\"/>\n",
              "    </g>\n",
              "</svg>\n",
              "      </button>\n",
              "    </div>\n",
              "\n",
              "<style>\n",
              "  .colab-df-quickchart {\n",
              "    background-color: #E8F0FE;\n",
              "    border: none;\n",
              "    border-radius: 50%;\n",
              "    cursor: pointer;\n",
              "    display: none;\n",
              "    fill: #1967D2;\n",
              "    height: 32px;\n",
              "    padding: 0 0 0 0;\n",
              "    width: 32px;\n",
              "  }\n",
              "\n",
              "  .colab-df-quickchart:hover {\n",
              "    background-color: #E2EBFA;\n",
              "    box-shadow: 0px 1px 2px rgba(60, 64, 67, 0.3), 0px 1px 3px 1px rgba(60, 64, 67, 0.15);\n",
              "    fill: #174EA6;\n",
              "  }\n",
              "\n",
              "  [theme=dark] .colab-df-quickchart {\n",
              "    background-color: #3B4455;\n",
              "    fill: #D2E3FC;\n",
              "  }\n",
              "\n",
              "  [theme=dark] .colab-df-quickchart:hover {\n",
              "    background-color: #434B5C;\n",
              "    box-shadow: 0px 1px 3px 1px rgba(0, 0, 0, 0.15);\n",
              "    filter: drop-shadow(0px 1px 2px rgba(0, 0, 0, 0.3));\n",
              "    fill: #FFFFFF;\n",
              "  }\n",
              "</style>\n",
              "\n",
              "    <script>\n",
              "      async function quickchart(key) {\n",
              "        const containerElement = document.querySelector('#' + key);\n",
              "        const charts = await google.colab.kernel.invokeFunction(\n",
              "            'suggestCharts', [key], {});\n",
              "      }\n",
              "    </script>\n",
              "\n",
              "      <script>\n",
              "\n",
              "function displayQuickchartButton(domScope) {\n",
              "  let quickchartButtonEl =\n",
              "    domScope.querySelector('#df-c13615ca-dd2d-4bd6-aec4-e181685478dd button.colab-df-quickchart');\n",
              "  quickchartButtonEl.style.display =\n",
              "    google.colab.kernel.accessAllowed ? 'block' : 'none';\n",
              "}\n",
              "\n",
              "        displayQuickchartButton(document);\n",
              "      </script>\n",
              "      <style>\n",
              "    .colab-df-container {\n",
              "      display:flex;\n",
              "      flex-wrap:wrap;\n",
              "      gap: 12px;\n",
              "    }\n",
              "\n",
              "    .colab-df-convert {\n",
              "      background-color: #E8F0FE;\n",
              "      border: none;\n",
              "      border-radius: 50%;\n",
              "      cursor: pointer;\n",
              "      display: none;\n",
              "      fill: #1967D2;\n",
              "      height: 32px;\n",
              "      padding: 0 0 0 0;\n",
              "      width: 32px;\n",
              "    }\n",
              "\n",
              "    .colab-df-convert:hover {\n",
              "      background-color: #E2EBFA;\n",
              "      box-shadow: 0px 1px 2px rgba(60, 64, 67, 0.3), 0px 1px 3px 1px rgba(60, 64, 67, 0.15);\n",
              "      fill: #174EA6;\n",
              "    }\n",
              "\n",
              "    [theme=dark] .colab-df-convert {\n",
              "      background-color: #3B4455;\n",
              "      fill: #D2E3FC;\n",
              "    }\n",
              "\n",
              "    [theme=dark] .colab-df-convert:hover {\n",
              "      background-color: #434B5C;\n",
              "      box-shadow: 0px 1px 3px 1px rgba(0, 0, 0, 0.15);\n",
              "      filter: drop-shadow(0px 1px 2px rgba(0, 0, 0, 0.3));\n",
              "      fill: #FFFFFF;\n",
              "    }\n",
              "  </style>\n",
              "\n",
              "      <script>\n",
              "        const buttonEl =\n",
              "          document.querySelector('#df-40fafc6f-05bf-4602-958b-024c0435db2f button.colab-df-convert');\n",
              "        buttonEl.style.display =\n",
              "          google.colab.kernel.accessAllowed ? 'block' : 'none';\n",
              "\n",
              "        async function convertToInteractive(key) {\n",
              "          const element = document.querySelector('#df-40fafc6f-05bf-4602-958b-024c0435db2f');\n",
              "          const dataTable =\n",
              "            await google.colab.kernel.invokeFunction('convertToInteractive',\n",
              "                                                     [key], {});\n",
              "          if (!dataTable) return;\n",
              "\n",
              "          const docLinkHtml = 'Like what you see? Visit the ' +\n",
              "            '<a target=\"_blank\" href=https://colab.research.google.com/notebooks/data_table.ipynb>data table notebook</a>'\n",
              "            + ' to learn more about interactive tables.';\n",
              "          element.innerHTML = '';\n",
              "          dataTable['output_type'] = 'display_data';\n",
              "          await google.colab.output.renderOutput(dataTable, element);\n",
              "          const docLink = document.createElement('div');\n",
              "          docLink.innerHTML = docLinkHtml;\n",
              "          element.appendChild(docLink);\n",
              "        }\n",
              "      </script>\n",
              "    </div>\n",
              "  </div>\n"
            ]
          },
          "metadata": {},
          "execution_count": 72
        }
      ]
    },
    {
      "cell_type": "code",
      "source": [
        "df.shape"
      ],
      "metadata": {
        "colab": {
          "base_uri": "https://localhost:8080/"
        },
        "id": "VgTO9maWr_Ar",
        "outputId": "29228a47-186f-4ca4-ee9a-ef59490c2bfa"
      },
      "execution_count": 73,
      "outputs": [
        {
          "output_type": "execute_result",
          "data": {
            "text/plain": [
              "(61183, 17)"
            ]
          },
          "metadata": {},
          "execution_count": 73
        }
      ]
    },
    {
      "cell_type": "code",
      "source": [
        "customer_review = 'customer_review'\n",
        "\n",
        "num_empty_cells = df['customer_review'].isnull().sum()\n",
        "\n",
        "print(f\"Number of empty cells in '{customer_review}': {num_empty_cells}\")"
      ],
      "metadata": {
        "colab": {
          "base_uri": "https://localhost:8080/"
        },
        "id": "_pVO9Fp8ujUa",
        "outputId": "11cea07b-91b6-4fca-e2d2-a211b654aaa4"
      },
      "execution_count": 74,
      "outputs": [
        {
          "output_type": "stream",
          "name": "stdout",
          "text": [
            "Number of empty cells in 'customer_review': 0\n"
          ]
        }
      ]
    },
    {
      "cell_type": "code",
      "source": [
        "data = df[df['customer_review'].apply(lambda x: len(x) > 0)]"
      ],
      "metadata": {
        "id": "v4jrr0uLquoJ"
      },
      "execution_count": 75,
      "outputs": []
    },
    {
      "cell_type": "code",
      "source": [
        "df['customer_review'] = df['customer_review'].apply(lambda x: re.sub('[^\\w\\s]', '', x))"
      ],
      "metadata": {
        "id": "YsC1G9psomt9"
      },
      "execution_count": 76,
      "outputs": []
    },
    {
      "cell_type": "code",
      "source": [
        "vectorizer = TfidfVectorizer(stop_words='english')"
      ],
      "metadata": {
        "id": "CYbavperpX2q"
      },
      "execution_count": 77,
      "outputs": []
    },
    {
      "cell_type": "code",
      "source": [
        "# Create a LDA model\n",
        "lda_model = LatentDirichletAllocation(n_components=10, random_state=0)"
      ],
      "metadata": {
        "id": "DakPlHL5qJze"
      },
      "execution_count": 78,
      "outputs": []
    },
    {
      "cell_type": "code",
      "source": [
        "# Fit the model to the data\n",
        "topic_distributions = lda_model.fit_transform(vectorizer.fit_transform(data['customer_review']))"
      ],
      "metadata": {
        "id": "kIZ90aSjqMw-"
      },
      "execution_count": 79,
      "outputs": []
    },
    {
      "cell_type": "code",
      "source": [
        "# Create a sentiment analysis model\n",
        "class SentimentAnalysisModel:\n",
        "    def __init__(self):\n",
        "        pass\n",
        "\n",
        "    def predict(self, topic_distribution):\n",
        "        if topic_distribution[0] > 0.5:\n",
        "            return \"positive\"\n",
        "        else:\n",
        "            return \"negative\""
      ],
      "metadata": {
        "id": "cSoOXXQrqUWq"
      },
      "execution_count": 80,
      "outputs": []
    },
    {
      "cell_type": "code",
      "source": [
        "# Create an instance of the SentimentAnalysisModel\n",
        "sentiment_analysis_model = SentimentAnalysisModel()"
      ],
      "metadata": {
        "id": "ipW7mIdJ0gW4"
      },
      "execution_count": 81,
      "outputs": []
    },
    {
      "cell_type": "code",
      "source": [
        "# Get the sentiment for each document\n",
        "sentiments = [sentiment_analysis_model.predict(topic_distribution) for topic_distribution in topic_distributions]"
      ],
      "metadata": {
        "id": "e1dBdvNx00nf"
      },
      "execution_count": 82,
      "outputs": []
    },
    {
      "cell_type": "code",
      "source": [
        "# Add the 'sentiment' column to the DataFrame\n",
        "data['sentiment'] = sentiments"
      ],
      "metadata": {
        "id": "GVZU8qcO1LxT"
      },
      "execution_count": 83,
      "outputs": []
    },
    {
      "cell_type": "code",
      "source": [
        "# Display the DataFrame with the 'sentiment' column\n",
        "print(data.head())"
      ],
      "metadata": {
        "colab": {
          "base_uri": "https://localhost:8080/"
        },
        "id": "PLSWhbxi66RM",
        "outputId": "5db43657-4eb3-4362-e0f3-9858eb95b240"
      },
      "execution_count": 84,
      "outputs": [
        {
          "output_type": "stream",
          "name": "stdout",
          "text": [
            "         airline  overall        author        review_date  \\\n",
            "0  Adria Airways        8       M Jager  12th October 2018   \n",
            "1  Adria Airways        1  Giulia Rossi   5th October 2018   \n",
            "2  Adria Airways        1  Galya Slavov     29th July 2018   \n",
            "3  Adria Airways        2    Loic Jouan     19th July 2018   \n",
            "4  Adria Airways        2      P Gamirj     30th June 2018   \n",
            "\n",
            "                                     customer_review aircraft  traveller_type  \\\n",
            "0  âœ… Trip Verified | Ljubljana to Munich. The h...      NaN  Family Leisure   \n",
            "1  Not Verified | Zurich to Ljubljana. Very poor ...      NaN        Business   \n",
            "2  âœ… Trip Verified | Vienna to Sofia. The fligh...      NaN  Family Leisure   \n",
            "3  âœ… Trip Verified | We were traveling from Par...      NaN    Solo Leisure   \n",
            "4  âœ… Trip Verified | Ljubljana to Munich. Adria...      NaN        Business   \n",
            "\n",
            "           cabin                          route    date_flown  seat_comfort  \\\n",
            "0  Economy Class            Ljubljana to Munich  October 2018             4   \n",
            "1  Economy Class            Zurich to Ljubljana  October 2018             2   \n",
            "2  Economy Class                Vienna to Sofia     July 2018             4   \n",
            "3  Economy Class  Paris to Skopje via Ljubljana        May-18             3   \n",
            "4  Economy Class            Ljubljana to Munich     June 2018             1   \n",
            "\n",
            "   cabin_service  food_bev  entertainment  ground_service  value_for_money  \\\n",
            "0              4         3              0               5                5   \n",
            "1              1         0              1               1                1   \n",
            "2              1         1              0               4                1   \n",
            "3              3         0              0               3                2   \n",
            "4              2         2              0               2                1   \n",
            "\n",
            "  recommended sentiment  \n",
            "0         yes  negative  \n",
            "1          no  negative  \n",
            "2          no  negative  \n",
            "3          no  negative  \n",
            "4          no  negative  \n"
          ]
        }
      ]
    },
    {
      "cell_type": "markdown",
      "source": [
        "To extract the top words associated with positive sentiment or words that indicate \"happy\" from each topic\n"
      ],
      "metadata": {
        "id": "kplsGNJ9Bjjn"
      }
    },
    {
      "cell_type": "code",
      "source": [
        "# Fit the vectorizer and transform the data\n",
        "tfidf_matrix = vectorizer.fit_transform(data['customer_review'])"
      ],
      "metadata": {
        "id": "wlVjeYLS687h"
      },
      "execution_count": 94,
      "outputs": []
    },
    {
      "cell_type": "code",
      "source": [
        "# Create the LDA model\n",
        "lda_model = LatentDirichletAllocation(n_components=10, random_state=0)"
      ],
      "metadata": {
        "id": "8Jmwk8oXB_m1"
      },
      "execution_count": 95,
      "outputs": []
    },
    {
      "cell_type": "code",
      "source": [
        "# Fit the LDA model to the TF-IDF data\n",
        "topic_distributions = lda_model.fit_transform(tfidf_matrix)"
      ],
      "metadata": {
        "id": "paf3WKr-CCok"
      },
      "execution_count": 96,
      "outputs": []
    },
    {
      "cell_type": "code",
      "source": [
        "# Get the top N words for each topic associated with \"happy\" sentiment\n",
        "def get_top_happy_words(model, feature_names, n_words):\n",
        "    topic_top_happy_words = []\n",
        "    for topic_idx, topic in enumerate(model.components_):\n",
        "        # Sort the word indices in descending order of topic probabilities\n",
        "        top_word_indices = topic.argsort()[::-1]\n",
        "        # Find the top N words that are associated with positive sentiment (happy)\n",
        "        top_happy_words = [feature_names[i] for i in top_word_indices if sentiment_analysis_model.predict(topic_distributions[i]) == \"positive\"][:n_words]\n",
        "        topic_top_happy_words.append(top_happy_words)\n",
        "    return topic_top_happy_words\n"
      ],
      "metadata": {
        "id": "vAvBeGlcCFcW"
      },
      "execution_count": 97,
      "outputs": []
    },
    {
      "cell_type": "code",
      "source": [
        "# Get the feature names (i.e., words) from the vectorizer\n",
        "feature_names = np.array(vectorizer.get_feature_names_out())\n",
        "\n",
        "# Number of top words to display for each topic\n",
        "num_top_words = 10"
      ],
      "metadata": {
        "id": "JFBQc9d3CLAw"
      },
      "execution_count": 98,
      "outputs": []
    },
    {
      "cell_type": "code",
      "source": [
        "# Initialize the Sentiment Analysis Model\n",
        "sentiment_analysis_model = SentimentAnalysisModel()"
      ],
      "metadata": {
        "id": "XtokWEuHCO0q"
      },
      "execution_count": 99,
      "outputs": []
    },
    {
      "cell_type": "code",
      "source": [
        "# Get the top N words associated with \"happy\" sentiment for each topic\n",
        "top_happy_words_per_topic = get_top_happy_words(lda_model, feature_names, num_top_words)"
      ],
      "metadata": {
        "id": "JPTw8e46CPqJ"
      },
      "execution_count": 100,
      "outputs": []
    },
    {
      "cell_type": "code",
      "source": [
        "# Display the top happy words for each topic\n",
        "for topic_idx, top_words in enumerate(top_happy_words_per_topic):\n",
        "    print(f\"Topic {topic_idx}: {', '.join(top_words)}\")"
      ],
      "metadata": {
        "colab": {
          "base_uri": "https://localhost:8080/"
        },
        "id": "GJbozERsDAYq",
        "outputId": "83135b36-66b8-4aaf-82bb-093b322caf13"
      },
      "execution_count": 101,
      "outputs": [
        {
          "output_type": "stream",
          "name": "stdout",
          "text": [
            "Topic 0: economy, excellent, meal, airways, time, staff, emirates, kong, aircraft, london\n",
            "Topic 1: llw, lemak, la, justfly, miri, mi, xna, takeover, experiencia, wilkes\n",
            "Topic 2: airline, time, airport, ticket, worst, said, las, charge, experience, minutes\n",
            "Topic 3: air, westjet, cramped, nassau, las, kilimanjaro, victoria, yul, maui, kingston\n",
            "Topic 4: time, staff, airline, low, baggage, price, aircraft, airport, early, minutes\n",
            "Topic 5: airport, staff, airline, time, air, minutes, said, late, experience, worst\n",
            "Topic 6: paolo, ko, wars, nanchang, sukhothai, ketchikan, eaters, laughs, w6, degradation\n",
            "Topic 7: minh, et, sanya, sarajevo, les, shreveport, krasnodar, pas, dã, mfr\n",
            "Topic 8: time, staff, economy, excellent, aircraft, drinks, meal, experience, attendants, air\n",
            "Topic 9: mombasa, svg, dresden, sxm, mke, intelligent, di, disorderly, albury, ayers\n"
          ]
        }
      ]
    },
    {
      "cell_type": "code",
      "source": [],
      "metadata": {
        "id": "9ZX1ekezHece"
      },
      "execution_count": null,
      "outputs": []
    }
  ]
}