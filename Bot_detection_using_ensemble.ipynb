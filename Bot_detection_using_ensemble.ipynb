{
  "nbformat": 4,
  "nbformat_minor": 0,
  "metadata": {
    "colab": {
      "provenance": [],
      "mount_file_id": "1_KNgHk2dzePpHUKaIqilmmhthcmzGX4Z",
      "authorship_tag": "ABX9TyNiNPkmG0RDjJZroIhPC3sW",
      "include_colab_link": true
    },
    "kernelspec": {
      "name": "python3",
      "display_name": "Python 3"
    },
    "language_info": {
      "name": "python"
    }
  },
  "cells": [
    {
      "cell_type": "markdown",
      "metadata": {
        "id": "view-in-github",
        "colab_type": "text"
      },
      "source": [
        "<a href=\"https://colab.research.google.com/github/crux007/crux007/blob/main/Bot_detection_using_ensemble.ipynb\" target=\"_parent\"><img src=\"https://colab.research.google.com/assets/colab-badge.svg\" alt=\"Open In Colab\"/></a>"
      ]
    },
    {
      "cell_type": "code",
      "source": [
        "import pandas as pd\n",
        "from sklearn.cluster import KMeans\n",
        "from sklearn.preprocessing import StandardScaler\n",
        "import seaborn as sns\n",
        "from sklearn.preprocessing import RobustScaler\n",
        "from sklearn.metrics import classification_report, confusion_matrix\n",
        "from sklearn.model_selection import GridSearchCV, train_test_split\n",
        "import re\n",
        "import datetime as datetime\n",
        "import ipaddress\n",
        "from sklearn.impute import SimpleImputer\n",
        "from sklearn.ensemble import RandomForestClassifier\n",
        "from sklearn.metrics import accuracy_score, precision_score, recall_score, f1_score\n",
        "from sklearn.neighbors import LocalOutlierFactor\n",
        "from sklearn.metrics import silhouette_score, homogeneity_score, completeness_score, adjusted_rand_score"
      ],
      "metadata": {
        "id": "2jkvUZtEYmGB"
      },
      "execution_count": 2,
      "outputs": []
    },
    {
      "cell_type": "code",
      "source": [
        "df = pd.read_csv(\"/content/drive/MyDrive/deforb.csv\")"
      ],
      "metadata": {
        "id": "lj4N9gtVYnWF"
      },
      "execution_count": 3,
      "outputs": []
    },
    {
      "cell_type": "code",
      "source": [
        "df.head()"
      ],
      "metadata": {
        "colab": {
          "base_uri": "https://localhost:8080/",
          "height": 478
        },
        "id": "NxrkRbCajkq4",
        "outputId": "ca7f81d2-dc39-4363-9b07-96f4afa564c1"
      },
      "execution_count": 4,
      "outputs": [
        {
          "output_type": "execute_result",
          "data": {
            "text/plain": [
              "    timestamp             c-ip  time-to-first-byte  sc-status  sc-bytes  \\\n",
              "0  1680273117   52.167.144.170               0.097        200      4940   \n",
              "1  1680273115      66.249.66.3               0.038        308       421   \n",
              "2  1680273117  185.138.241.168               0.710        200      5109   \n",
              "3  1680273118   52.167.144.170               0.082        200      5465   \n",
              "4  1680273119    50.62.147.101               0.003        200       405   \n",
              "\n",
              "   cs-method  cs-protocol  cs-host  \\\n",
              "0          0            1        0   \n",
              "1          0            1        1   \n",
              "2          0            1        1   \n",
              "3          0            1        0   \n",
              "4          1            1        1   \n",
              "\n",
              "                                         cs-uri-stem  cs-bytes-request  \\\n",
              "0  /job/809046540-clinical-nurse-consultant-digit...               281   \n",
              "1                                           /weblog/               250   \n",
              "2  /job/812455770-ft-patient-scheduling-represent...               492   \n",
              "3  /job/810286523-registered-nurses-rual-and-remo...               243   \n",
              "4                                                  /               146   \n",
              "\n",
              "   time-taken  cs-protocol-version  x-edge-response-result-type  ssl2protocol  \\\n",
              "0       0.097                    0                            0             0   \n",
              "1       0.038                    1                            0             0   \n",
              "2       0.710                    1                            0             0   \n",
              "3       0.082                    0                            0             0   \n",
              "4       0.003                    0                            1             0   \n",
              "\n",
              "   ssl0cipher  x-edge-result-type  c-port x-edge-detailed-result-page  \n",
              "0           2                   0   21251                           0  \n",
              "1           2                   0   37691                           0  \n",
              "2           2                   0   56324                           0  \n",
              "3           2                   0   21250                           0  \n",
              "4           2                   1   63740                           1  "
            ],
            "text/html": [
              "\n",
              "  <div id=\"df-4743b8af-1889-4631-bec4-9525f550140f\">\n",
              "    <div class=\"colab-df-container\">\n",
              "      <div>\n",
              "<style scoped>\n",
              "    .dataframe tbody tr th:only-of-type {\n",
              "        vertical-align: middle;\n",
              "    }\n",
              "\n",
              "    .dataframe tbody tr th {\n",
              "        vertical-align: top;\n",
              "    }\n",
              "\n",
              "    .dataframe thead th {\n",
              "        text-align: right;\n",
              "    }\n",
              "</style>\n",
              "<table border=\"1\" class=\"dataframe\">\n",
              "  <thead>\n",
              "    <tr style=\"text-align: right;\">\n",
              "      <th></th>\n",
              "      <th>timestamp</th>\n",
              "      <th>c-ip</th>\n",
              "      <th>time-to-first-byte</th>\n",
              "      <th>sc-status</th>\n",
              "      <th>sc-bytes</th>\n",
              "      <th>cs-method</th>\n",
              "      <th>cs-protocol</th>\n",
              "      <th>cs-host</th>\n",
              "      <th>cs-uri-stem</th>\n",
              "      <th>cs-bytes-request</th>\n",
              "      <th>time-taken</th>\n",
              "      <th>cs-protocol-version</th>\n",
              "      <th>x-edge-response-result-type</th>\n",
              "      <th>ssl2protocol</th>\n",
              "      <th>ssl0cipher</th>\n",
              "      <th>x-edge-result-type</th>\n",
              "      <th>c-port</th>\n",
              "      <th>x-edge-detailed-result-page</th>\n",
              "    </tr>\n",
              "  </thead>\n",
              "  <tbody>\n",
              "    <tr>\n",
              "      <th>0</th>\n",
              "      <td>1680273117</td>\n",
              "      <td>52.167.144.170</td>\n",
              "      <td>0.097</td>\n",
              "      <td>200</td>\n",
              "      <td>4940</td>\n",
              "      <td>0</td>\n",
              "      <td>1</td>\n",
              "      <td>0</td>\n",
              "      <td>/job/809046540-clinical-nurse-consultant-digit...</td>\n",
              "      <td>281</td>\n",
              "      <td>0.097</td>\n",
              "      <td>0</td>\n",
              "      <td>0</td>\n",
              "      <td>0</td>\n",
              "      <td>2</td>\n",
              "      <td>0</td>\n",
              "      <td>21251</td>\n",
              "      <td>0</td>\n",
              "    </tr>\n",
              "    <tr>\n",
              "      <th>1</th>\n",
              "      <td>1680273115</td>\n",
              "      <td>66.249.66.3</td>\n",
              "      <td>0.038</td>\n",
              "      <td>308</td>\n",
              "      <td>421</td>\n",
              "      <td>0</td>\n",
              "      <td>1</td>\n",
              "      <td>1</td>\n",
              "      <td>/weblog/</td>\n",
              "      <td>250</td>\n",
              "      <td>0.038</td>\n",
              "      <td>1</td>\n",
              "      <td>0</td>\n",
              "      <td>0</td>\n",
              "      <td>2</td>\n",
              "      <td>0</td>\n",
              "      <td>37691</td>\n",
              "      <td>0</td>\n",
              "    </tr>\n",
              "    <tr>\n",
              "      <th>2</th>\n",
              "      <td>1680273117</td>\n",
              "      <td>185.138.241.168</td>\n",
              "      <td>0.710</td>\n",
              "      <td>200</td>\n",
              "      <td>5109</td>\n",
              "      <td>0</td>\n",
              "      <td>1</td>\n",
              "      <td>1</td>\n",
              "      <td>/job/812455770-ft-patient-scheduling-represent...</td>\n",
              "      <td>492</td>\n",
              "      <td>0.710</td>\n",
              "      <td>1</td>\n",
              "      <td>0</td>\n",
              "      <td>0</td>\n",
              "      <td>2</td>\n",
              "      <td>0</td>\n",
              "      <td>56324</td>\n",
              "      <td>0</td>\n",
              "    </tr>\n",
              "    <tr>\n",
              "      <th>3</th>\n",
              "      <td>1680273118</td>\n",
              "      <td>52.167.144.170</td>\n",
              "      <td>0.082</td>\n",
              "      <td>200</td>\n",
              "      <td>5465</td>\n",
              "      <td>0</td>\n",
              "      <td>1</td>\n",
              "      <td>0</td>\n",
              "      <td>/job/810286523-registered-nurses-rual-and-remo...</td>\n",
              "      <td>243</td>\n",
              "      <td>0.082</td>\n",
              "      <td>0</td>\n",
              "      <td>0</td>\n",
              "      <td>0</td>\n",
              "      <td>2</td>\n",
              "      <td>0</td>\n",
              "      <td>21250</td>\n",
              "      <td>0</td>\n",
              "    </tr>\n",
              "    <tr>\n",
              "      <th>4</th>\n",
              "      <td>1680273119</td>\n",
              "      <td>50.62.147.101</td>\n",
              "      <td>0.003</td>\n",
              "      <td>200</td>\n",
              "      <td>405</td>\n",
              "      <td>1</td>\n",
              "      <td>1</td>\n",
              "      <td>1</td>\n",
              "      <td>/</td>\n",
              "      <td>146</td>\n",
              "      <td>0.003</td>\n",
              "      <td>0</td>\n",
              "      <td>1</td>\n",
              "      <td>0</td>\n",
              "      <td>2</td>\n",
              "      <td>1</td>\n",
              "      <td>63740</td>\n",
              "      <td>1</td>\n",
              "    </tr>\n",
              "  </tbody>\n",
              "</table>\n",
              "</div>\n",
              "      <button class=\"colab-df-convert\" onclick=\"convertToInteractive('df-4743b8af-1889-4631-bec4-9525f550140f')\"\n",
              "              title=\"Convert this dataframe to an interactive table.\"\n",
              "              style=\"display:none;\">\n",
              "        \n",
              "  <svg xmlns=\"http://www.w3.org/2000/svg\" height=\"24px\"viewBox=\"0 0 24 24\"\n",
              "       width=\"24px\">\n",
              "    <path d=\"M0 0h24v24H0V0z\" fill=\"none\"/>\n",
              "    <path d=\"M18.56 5.44l.94 2.06.94-2.06 2.06-.94-2.06-.94-.94-2.06-.94 2.06-2.06.94zm-11 1L8.5 8.5l.94-2.06 2.06-.94-2.06-.94L8.5 2.5l-.94 2.06-2.06.94zm10 10l.94 2.06.94-2.06 2.06-.94-2.06-.94-.94-2.06-.94 2.06-2.06.94z\"/><path d=\"M17.41 7.96l-1.37-1.37c-.4-.4-.92-.59-1.43-.59-.52 0-1.04.2-1.43.59L10.3 9.45l-7.72 7.72c-.78.78-.78 2.05 0 2.83L4 21.41c.39.39.9.59 1.41.59.51 0 1.02-.2 1.41-.59l7.78-7.78 2.81-2.81c.8-.78.8-2.07 0-2.86zM5.41 20L4 18.59l7.72-7.72 1.47 1.35L5.41 20z\"/>\n",
              "  </svg>\n",
              "      </button>\n",
              "      \n",
              "  <style>\n",
              "    .colab-df-container {\n",
              "      display:flex;\n",
              "      flex-wrap:wrap;\n",
              "      gap: 12px;\n",
              "    }\n",
              "\n",
              "    .colab-df-convert {\n",
              "      background-color: #E8F0FE;\n",
              "      border: none;\n",
              "      border-radius: 50%;\n",
              "      cursor: pointer;\n",
              "      display: none;\n",
              "      fill: #1967D2;\n",
              "      height: 32px;\n",
              "      padding: 0 0 0 0;\n",
              "      width: 32px;\n",
              "    }\n",
              "\n",
              "    .colab-df-convert:hover {\n",
              "      background-color: #E2EBFA;\n",
              "      box-shadow: 0px 1px 2px rgba(60, 64, 67, 0.3), 0px 1px 3px 1px rgba(60, 64, 67, 0.15);\n",
              "      fill: #174EA6;\n",
              "    }\n",
              "\n",
              "    [theme=dark] .colab-df-convert {\n",
              "      background-color: #3B4455;\n",
              "      fill: #D2E3FC;\n",
              "    }\n",
              "\n",
              "    [theme=dark] .colab-df-convert:hover {\n",
              "      background-color: #434B5C;\n",
              "      box-shadow: 0px 1px 3px 1px rgba(0, 0, 0, 0.15);\n",
              "      filter: drop-shadow(0px 1px 2px rgba(0, 0, 0, 0.3));\n",
              "      fill: #FFFFFF;\n",
              "    }\n",
              "  </style>\n",
              "\n",
              "      <script>\n",
              "        const buttonEl =\n",
              "          document.querySelector('#df-4743b8af-1889-4631-bec4-9525f550140f button.colab-df-convert');\n",
              "        buttonEl.style.display =\n",
              "          google.colab.kernel.accessAllowed ? 'block' : 'none';\n",
              "\n",
              "        async function convertToInteractive(key) {\n",
              "          const element = document.querySelector('#df-4743b8af-1889-4631-bec4-9525f550140f');\n",
              "          const dataTable =\n",
              "            await google.colab.kernel.invokeFunction('convertToInteractive',\n",
              "                                                     [key], {});\n",
              "          if (!dataTable) return;\n",
              "\n",
              "          const docLinkHtml = 'Like what you see? Visit the ' +\n",
              "            '<a target=\"_blank\" href=https://colab.research.google.com/notebooks/data_table.ipynb>data table notebook</a>'\n",
              "            + ' to learn more about interactive tables.';\n",
              "          element.innerHTML = '';\n",
              "          dataTable['output_type'] = 'display_data';\n",
              "          await google.colab.output.renderOutput(dataTable, element);\n",
              "          const docLink = document.createElement('div');\n",
              "          docLink.innerHTML = docLinkHtml;\n",
              "          element.appendChild(docLink);\n",
              "        }\n",
              "      </script>\n",
              "    </div>\n",
              "  </div>\n",
              "  "
            ]
          },
          "metadata": {},
          "execution_count": 4
        }
      ]
    },
    {
      "cell_type": "code",
      "source": [
        "df['timestamp'] = pd.to_numeric(df['timestamp'], errors='coerce')\n",
        "df.dropna(subset=['timestamp'], inplace=True)\n",
        "df['timestamp'] = pd.to_datetime(df['timestamp'], unit='s')\n",
        "df['time_of_day'] = df['timestamp'].dt.time\n",
        "df['day_of_week'] = df['timestamp'].dt.day_name()\n",
        "df = df.drop(['timestamp', 'cs-uri-stem'], axis=1)"
      ],
      "metadata": {
        "id": "QGnxm8CfZm6Y"
      },
      "execution_count": 5,
      "outputs": []
    },
    {
      "cell_type": "code",
      "source": [
        "def ip_to_int(c_ip):\n",
        "    return int(ipaddress.IPv4Address(c_ip))\n",
        "\n",
        "df['c-ip-int'] = df['c-ip'].apply(ip_to_int)\n",
        "unique_ips = df['c-ip'].unique()"
      ],
      "metadata": {
        "id": "MbHPM_lcZqTa"
      },
      "execution_count": 6,
      "outputs": []
    },
    {
      "cell_type": "code",
      "source": [
        "df['day_of_week'] = df['day_of_week'].replace({\n",
        "    'Mon': 1,\n",
        "    'Tue': 2,\n",
        "    'Wed': 3,\n",
        "    'Thu': 4,\n",
        "    'Fri': 5,\n",
        "    'Sat': 6,\n",
        "    'Sun': 7\n",
        "})"
      ],
      "metadata": {
        "id": "ebd-Y3ZXZvDy"
      },
      "execution_count": 7,
      "outputs": []
    },
    {
      "cell_type": "code",
      "source": [
        "df['time_of_day'] = pd.to_datetime(df['time_of_day'], format='%H:%M:%S')\n",
        "df['hour_int'] = df['time_of_day'].dt.hour\n",
        "df['minute_int'] = df['time_of_day'].dt.minute\n",
        "df['second_int'] = df['time_of_day'].dt.second"
      ],
      "metadata": {
        "id": "CHjrJdnvZyk7"
      },
      "execution_count": 8,
      "outputs": []
    },
    {
      "cell_type": "code",
      "source": [
        "df.head()"
      ],
      "metadata": {
        "colab": {
          "base_uri": "https://localhost:8080/",
          "height": 438
        },
        "id": "jviLq2zYbi-L",
        "outputId": "deca2159-4d9f-4edd-f94f-194988642946"
      },
      "execution_count": 9,
      "outputs": [
        {
          "output_type": "execute_result",
          "data": {
            "text/plain": [
              "              c-ip  time-to-first-byte  sc-status  sc-bytes  cs-method  \\\n",
              "0   52.167.144.170               0.097        200      4940          0   \n",
              "1      66.249.66.3               0.038        308       421          0   \n",
              "2  185.138.241.168               0.710        200      5109          0   \n",
              "3   52.167.144.170               0.082        200      5465          0   \n",
              "4    50.62.147.101               0.003        200       405          1   \n",
              "\n",
              "   cs-protocol  cs-host  cs-bytes-request  time-taken  cs-protocol-version  \\\n",
              "0            1        0               281       0.097                    0   \n",
              "1            1        1               250       0.038                    1   \n",
              "2            1        1               492       0.710                    1   \n",
              "3            1        0               243       0.082                    0   \n",
              "4            1        1               146       0.003                    0   \n",
              "\n",
              "   ...  ssl0cipher  x-edge-result-type  c-port  x-edge-detailed-result-page  \\\n",
              "0  ...           2                   0   21251                            0   \n",
              "1  ...           2                   0   37691                            0   \n",
              "2  ...           2                   0   56324                            0   \n",
              "3  ...           2                   0   21250                            0   \n",
              "4  ...           2                   1   63740                            1   \n",
              "\n",
              "          time_of_day day_of_week    c-ip-int hour_int  minute_int  second_int  \n",
              "0 1900-01-01 14:31:57      Friday   883396778       14          31          57  \n",
              "1 1900-01-01 14:31:55      Friday  1123631619       14          31          55  \n",
              "2 1900-01-01 14:31:57      Friday  3112890792       14          31          57  \n",
              "3 1900-01-01 14:31:58      Friday   883396778       14          31          58  \n",
              "4 1900-01-01 14:31:59      Friday   842961765       14          31          59  \n",
              "\n",
              "[5 rows x 22 columns]"
            ],
            "text/html": [
              "\n",
              "  <div id=\"df-f5d85b2d-bd03-4a18-9666-6569541bdf0f\">\n",
              "    <div class=\"colab-df-container\">\n",
              "      <div>\n",
              "<style scoped>\n",
              "    .dataframe tbody tr th:only-of-type {\n",
              "        vertical-align: middle;\n",
              "    }\n",
              "\n",
              "    .dataframe tbody tr th {\n",
              "        vertical-align: top;\n",
              "    }\n",
              "\n",
              "    .dataframe thead th {\n",
              "        text-align: right;\n",
              "    }\n",
              "</style>\n",
              "<table border=\"1\" class=\"dataframe\">\n",
              "  <thead>\n",
              "    <tr style=\"text-align: right;\">\n",
              "      <th></th>\n",
              "      <th>c-ip</th>\n",
              "      <th>time-to-first-byte</th>\n",
              "      <th>sc-status</th>\n",
              "      <th>sc-bytes</th>\n",
              "      <th>cs-method</th>\n",
              "      <th>cs-protocol</th>\n",
              "      <th>cs-host</th>\n",
              "      <th>cs-bytes-request</th>\n",
              "      <th>time-taken</th>\n",
              "      <th>cs-protocol-version</th>\n",
              "      <th>...</th>\n",
              "      <th>ssl0cipher</th>\n",
              "      <th>x-edge-result-type</th>\n",
              "      <th>c-port</th>\n",
              "      <th>x-edge-detailed-result-page</th>\n",
              "      <th>time_of_day</th>\n",
              "      <th>day_of_week</th>\n",
              "      <th>c-ip-int</th>\n",
              "      <th>hour_int</th>\n",
              "      <th>minute_int</th>\n",
              "      <th>second_int</th>\n",
              "    </tr>\n",
              "  </thead>\n",
              "  <tbody>\n",
              "    <tr>\n",
              "      <th>0</th>\n",
              "      <td>52.167.144.170</td>\n",
              "      <td>0.097</td>\n",
              "      <td>200</td>\n",
              "      <td>4940</td>\n",
              "      <td>0</td>\n",
              "      <td>1</td>\n",
              "      <td>0</td>\n",
              "      <td>281</td>\n",
              "      <td>0.097</td>\n",
              "      <td>0</td>\n",
              "      <td>...</td>\n",
              "      <td>2</td>\n",
              "      <td>0</td>\n",
              "      <td>21251</td>\n",
              "      <td>0</td>\n",
              "      <td>1900-01-01 14:31:57</td>\n",
              "      <td>Friday</td>\n",
              "      <td>883396778</td>\n",
              "      <td>14</td>\n",
              "      <td>31</td>\n",
              "      <td>57</td>\n",
              "    </tr>\n",
              "    <tr>\n",
              "      <th>1</th>\n",
              "      <td>66.249.66.3</td>\n",
              "      <td>0.038</td>\n",
              "      <td>308</td>\n",
              "      <td>421</td>\n",
              "      <td>0</td>\n",
              "      <td>1</td>\n",
              "      <td>1</td>\n",
              "      <td>250</td>\n",
              "      <td>0.038</td>\n",
              "      <td>1</td>\n",
              "      <td>...</td>\n",
              "      <td>2</td>\n",
              "      <td>0</td>\n",
              "      <td>37691</td>\n",
              "      <td>0</td>\n",
              "      <td>1900-01-01 14:31:55</td>\n",
              "      <td>Friday</td>\n",
              "      <td>1123631619</td>\n",
              "      <td>14</td>\n",
              "      <td>31</td>\n",
              "      <td>55</td>\n",
              "    </tr>\n",
              "    <tr>\n",
              "      <th>2</th>\n",
              "      <td>185.138.241.168</td>\n",
              "      <td>0.710</td>\n",
              "      <td>200</td>\n",
              "      <td>5109</td>\n",
              "      <td>0</td>\n",
              "      <td>1</td>\n",
              "      <td>1</td>\n",
              "      <td>492</td>\n",
              "      <td>0.710</td>\n",
              "      <td>1</td>\n",
              "      <td>...</td>\n",
              "      <td>2</td>\n",
              "      <td>0</td>\n",
              "      <td>56324</td>\n",
              "      <td>0</td>\n",
              "      <td>1900-01-01 14:31:57</td>\n",
              "      <td>Friday</td>\n",
              "      <td>3112890792</td>\n",
              "      <td>14</td>\n",
              "      <td>31</td>\n",
              "      <td>57</td>\n",
              "    </tr>\n",
              "    <tr>\n",
              "      <th>3</th>\n",
              "      <td>52.167.144.170</td>\n",
              "      <td>0.082</td>\n",
              "      <td>200</td>\n",
              "      <td>5465</td>\n",
              "      <td>0</td>\n",
              "      <td>1</td>\n",
              "      <td>0</td>\n",
              "      <td>243</td>\n",
              "      <td>0.082</td>\n",
              "      <td>0</td>\n",
              "      <td>...</td>\n",
              "      <td>2</td>\n",
              "      <td>0</td>\n",
              "      <td>21250</td>\n",
              "      <td>0</td>\n",
              "      <td>1900-01-01 14:31:58</td>\n",
              "      <td>Friday</td>\n",
              "      <td>883396778</td>\n",
              "      <td>14</td>\n",
              "      <td>31</td>\n",
              "      <td>58</td>\n",
              "    </tr>\n",
              "    <tr>\n",
              "      <th>4</th>\n",
              "      <td>50.62.147.101</td>\n",
              "      <td>0.003</td>\n",
              "      <td>200</td>\n",
              "      <td>405</td>\n",
              "      <td>1</td>\n",
              "      <td>1</td>\n",
              "      <td>1</td>\n",
              "      <td>146</td>\n",
              "      <td>0.003</td>\n",
              "      <td>0</td>\n",
              "      <td>...</td>\n",
              "      <td>2</td>\n",
              "      <td>1</td>\n",
              "      <td>63740</td>\n",
              "      <td>1</td>\n",
              "      <td>1900-01-01 14:31:59</td>\n",
              "      <td>Friday</td>\n",
              "      <td>842961765</td>\n",
              "      <td>14</td>\n",
              "      <td>31</td>\n",
              "      <td>59</td>\n",
              "    </tr>\n",
              "  </tbody>\n",
              "</table>\n",
              "<p>5 rows × 22 columns</p>\n",
              "</div>\n",
              "      <button class=\"colab-df-convert\" onclick=\"convertToInteractive('df-f5d85b2d-bd03-4a18-9666-6569541bdf0f')\"\n",
              "              title=\"Convert this dataframe to an interactive table.\"\n",
              "              style=\"display:none;\">\n",
              "        \n",
              "  <svg xmlns=\"http://www.w3.org/2000/svg\" height=\"24px\"viewBox=\"0 0 24 24\"\n",
              "       width=\"24px\">\n",
              "    <path d=\"M0 0h24v24H0V0z\" fill=\"none\"/>\n",
              "    <path d=\"M18.56 5.44l.94 2.06.94-2.06 2.06-.94-2.06-.94-.94-2.06-.94 2.06-2.06.94zm-11 1L8.5 8.5l.94-2.06 2.06-.94-2.06-.94L8.5 2.5l-.94 2.06-2.06.94zm10 10l.94 2.06.94-2.06 2.06-.94-2.06-.94-.94-2.06-.94 2.06-2.06.94z\"/><path d=\"M17.41 7.96l-1.37-1.37c-.4-.4-.92-.59-1.43-.59-.52 0-1.04.2-1.43.59L10.3 9.45l-7.72 7.72c-.78.78-.78 2.05 0 2.83L4 21.41c.39.39.9.59 1.41.59.51 0 1.02-.2 1.41-.59l7.78-7.78 2.81-2.81c.8-.78.8-2.07 0-2.86zM5.41 20L4 18.59l7.72-7.72 1.47 1.35L5.41 20z\"/>\n",
              "  </svg>\n",
              "      </button>\n",
              "      \n",
              "  <style>\n",
              "    .colab-df-container {\n",
              "      display:flex;\n",
              "      flex-wrap:wrap;\n",
              "      gap: 12px;\n",
              "    }\n",
              "\n",
              "    .colab-df-convert {\n",
              "      background-color: #E8F0FE;\n",
              "      border: none;\n",
              "      border-radius: 50%;\n",
              "      cursor: pointer;\n",
              "      display: none;\n",
              "      fill: #1967D2;\n",
              "      height: 32px;\n",
              "      padding: 0 0 0 0;\n",
              "      width: 32px;\n",
              "    }\n",
              "\n",
              "    .colab-df-convert:hover {\n",
              "      background-color: #E2EBFA;\n",
              "      box-shadow: 0px 1px 2px rgba(60, 64, 67, 0.3), 0px 1px 3px 1px rgba(60, 64, 67, 0.15);\n",
              "      fill: #174EA6;\n",
              "    }\n",
              "\n",
              "    [theme=dark] .colab-df-convert {\n",
              "      background-color: #3B4455;\n",
              "      fill: #D2E3FC;\n",
              "    }\n",
              "\n",
              "    [theme=dark] .colab-df-convert:hover {\n",
              "      background-color: #434B5C;\n",
              "      box-shadow: 0px 1px 3px 1px rgba(0, 0, 0, 0.15);\n",
              "      filter: drop-shadow(0px 1px 2px rgba(0, 0, 0, 0.3));\n",
              "      fill: #FFFFFF;\n",
              "    }\n",
              "  </style>\n",
              "\n",
              "      <script>\n",
              "        const buttonEl =\n",
              "          document.querySelector('#df-f5d85b2d-bd03-4a18-9666-6569541bdf0f button.colab-df-convert');\n",
              "        buttonEl.style.display =\n",
              "          google.colab.kernel.accessAllowed ? 'block' : 'none';\n",
              "\n",
              "        async function convertToInteractive(key) {\n",
              "          const element = document.querySelector('#df-f5d85b2d-bd03-4a18-9666-6569541bdf0f');\n",
              "          const dataTable =\n",
              "            await google.colab.kernel.invokeFunction('convertToInteractive',\n",
              "                                                     [key], {});\n",
              "          if (!dataTable) return;\n",
              "\n",
              "          const docLinkHtml = 'Like what you see? Visit the ' +\n",
              "            '<a target=\"_blank\" href=https://colab.research.google.com/notebooks/data_table.ipynb>data table notebook</a>'\n",
              "            + ' to learn more about interactive tables.';\n",
              "          element.innerHTML = '';\n",
              "          dataTable['output_type'] = 'display_data';\n",
              "          await google.colab.output.renderOutput(dataTable, element);\n",
              "          const docLink = document.createElement('div');\n",
              "          docLink.innerHTML = docLinkHtml;\n",
              "          element.appendChild(docLink);\n",
              "        }\n",
              "      </script>\n",
              "    </div>\n",
              "  </div>\n",
              "  "
            ]
          },
          "metadata": {},
          "execution_count": 9
        }
      ]
    },
    {
      "cell_type": "code",
      "source": [
        "features = ['c-ip-int', 'time-to-first-byte', 'sc-status', 'sc-bytes', 'cs-method', 'cs-protocol',\n",
        "            'cs-bytes-request', 'time-taken', 'cs-protocol-version', 'x-edge-response-result-type',\n",
        "            'hour_int', 'minute_int', 'second_int', 'ssl0cipher', 'c-port', 'cs-host']\n",
        "data = df[features]"
      ],
      "metadata": {
        "id": "N51ggyp0juqZ"
      },
      "execution_count": 10,
      "outputs": []
    },
    {
      "cell_type": "code",
      "source": [
        "scaler = StandardScaler()\n",
        "scaled_data = scaler.fit_transform(data)"
      ],
      "metadata": {
        "id": "NSUwSQzzj7hu"
      },
      "execution_count": 12,
      "outputs": []
    },
    {
      "cell_type": "code",
      "source": [
        "n_clusters = 2  # Number of clusters\n",
        "kmeans = KMeans(n_clusters=n_clusters, random_state=42)\n",
        "kmeans.fit(scaled_data)"
      ],
      "metadata": {
        "colab": {
          "base_uri": "https://localhost:8080/",
          "height": 130
        },
        "id": "EDIhER8Dj_6q",
        "outputId": "43dd2d31-3920-4f0b-dcf2-b33fb09fb36d"
      },
      "execution_count": 13,
      "outputs": [
        {
          "output_type": "stream",
          "name": "stderr",
          "text": [
            "/usr/local/lib/python3.10/dist-packages/sklearn/cluster/_kmeans.py:870: FutureWarning: The default value of `n_init` will change from 10 to 'auto' in 1.4. Set the value of `n_init` explicitly to suppress the warning\n",
            "  warnings.warn(\n"
          ]
        },
        {
          "output_type": "execute_result",
          "data": {
            "text/plain": [
              "KMeans(n_clusters=2, random_state=42)"
            ],
            "text/html": [
              "<style>#sk-container-id-1 {color: black;background-color: white;}#sk-container-id-1 pre{padding: 0;}#sk-container-id-1 div.sk-toggleable {background-color: white;}#sk-container-id-1 label.sk-toggleable__label {cursor: pointer;display: block;width: 100%;margin-bottom: 0;padding: 0.3em;box-sizing: border-box;text-align: center;}#sk-container-id-1 label.sk-toggleable__label-arrow:before {content: \"▸\";float: left;margin-right: 0.25em;color: #696969;}#sk-container-id-1 label.sk-toggleable__label-arrow:hover:before {color: black;}#sk-container-id-1 div.sk-estimator:hover label.sk-toggleable__label-arrow:before {color: black;}#sk-container-id-1 div.sk-toggleable__content {max-height: 0;max-width: 0;overflow: hidden;text-align: left;background-color: #f0f8ff;}#sk-container-id-1 div.sk-toggleable__content pre {margin: 0.2em;color: black;border-radius: 0.25em;background-color: #f0f8ff;}#sk-container-id-1 input.sk-toggleable__control:checked~div.sk-toggleable__content {max-height: 200px;max-width: 100%;overflow: auto;}#sk-container-id-1 input.sk-toggleable__control:checked~label.sk-toggleable__label-arrow:before {content: \"▾\";}#sk-container-id-1 div.sk-estimator input.sk-toggleable__control:checked~label.sk-toggleable__label {background-color: #d4ebff;}#sk-container-id-1 div.sk-label input.sk-toggleable__control:checked~label.sk-toggleable__label {background-color: #d4ebff;}#sk-container-id-1 input.sk-hidden--visually {border: 0;clip: rect(1px 1px 1px 1px);clip: rect(1px, 1px, 1px, 1px);height: 1px;margin: -1px;overflow: hidden;padding: 0;position: absolute;width: 1px;}#sk-container-id-1 div.sk-estimator {font-family: monospace;background-color: #f0f8ff;border: 1px dotted black;border-radius: 0.25em;box-sizing: border-box;margin-bottom: 0.5em;}#sk-container-id-1 div.sk-estimator:hover {background-color: #d4ebff;}#sk-container-id-1 div.sk-parallel-item::after {content: \"\";width: 100%;border-bottom: 1px solid gray;flex-grow: 1;}#sk-container-id-1 div.sk-label:hover label.sk-toggleable__label {background-color: #d4ebff;}#sk-container-id-1 div.sk-serial::before {content: \"\";position: absolute;border-left: 1px solid gray;box-sizing: border-box;top: 0;bottom: 0;left: 50%;z-index: 0;}#sk-container-id-1 div.sk-serial {display: flex;flex-direction: column;align-items: center;background-color: white;padding-right: 0.2em;padding-left: 0.2em;position: relative;}#sk-container-id-1 div.sk-item {position: relative;z-index: 1;}#sk-container-id-1 div.sk-parallel {display: flex;align-items: stretch;justify-content: center;background-color: white;position: relative;}#sk-container-id-1 div.sk-item::before, #sk-container-id-1 div.sk-parallel-item::before {content: \"\";position: absolute;border-left: 1px solid gray;box-sizing: border-box;top: 0;bottom: 0;left: 50%;z-index: -1;}#sk-container-id-1 div.sk-parallel-item {display: flex;flex-direction: column;z-index: 1;position: relative;background-color: white;}#sk-container-id-1 div.sk-parallel-item:first-child::after {align-self: flex-end;width: 50%;}#sk-container-id-1 div.sk-parallel-item:last-child::after {align-self: flex-start;width: 50%;}#sk-container-id-1 div.sk-parallel-item:only-child::after {width: 0;}#sk-container-id-1 div.sk-dashed-wrapped {border: 1px dashed gray;margin: 0 0.4em 0.5em 0.4em;box-sizing: border-box;padding-bottom: 0.4em;background-color: white;}#sk-container-id-1 div.sk-label label {font-family: monospace;font-weight: bold;display: inline-block;line-height: 1.2em;}#sk-container-id-1 div.sk-label-container {text-align: center;}#sk-container-id-1 div.sk-container {/* jupyter's `normalize.less` sets `[hidden] { display: none; }` but bootstrap.min.css set `[hidden] { display: none !important; }` so we also need the `!important` here to be able to override the default hidden behavior on the sphinx rendered scikit-learn.org. See: https://github.com/scikit-learn/scikit-learn/issues/21755 */display: inline-block !important;position: relative;}#sk-container-id-1 div.sk-text-repr-fallback {display: none;}</style><div id=\"sk-container-id-1\" class=\"sk-top-container\"><div class=\"sk-text-repr-fallback\"><pre>KMeans(n_clusters=2, random_state=42)</pre><b>In a Jupyter environment, please rerun this cell to show the HTML representation or trust the notebook. <br />On GitHub, the HTML representation is unable to render, please try loading this page with nbviewer.org.</b></div><div class=\"sk-container\" hidden><div class=\"sk-item\"><div class=\"sk-estimator sk-toggleable\"><input class=\"sk-toggleable__control sk-hidden--visually\" id=\"sk-estimator-id-1\" type=\"checkbox\" checked><label for=\"sk-estimator-id-1\" class=\"sk-toggleable__label sk-toggleable__label-arrow\">KMeans</label><div class=\"sk-toggleable__content\"><pre>KMeans(n_clusters=2, random_state=42)</pre></div></div></div></div></div>"
            ]
          },
          "metadata": {},
          "execution_count": 13
        }
      ]
    },
    {
      "cell_type": "code",
      "source": [
        "# Local Outlier Factor (LOF)\n",
        "lof = LocalOutlierFactor(n_neighbors=20, contamination='auto')\n",
        "outlier_scores = lof.fit_predict(scaled_data)"
      ],
      "metadata": {
        "id": "uJSV6vQ-kDO4"
      },
      "execution_count": 14,
      "outputs": []
    },
    {
      "cell_type": "code",
      "source": [
        "# Identify bot users\n",
        "bot_users = data[outlier_scores == -1]\n",
        "non_bot_users = data[outlier_scores == 1]"
      ],
      "metadata": {
        "id": "vskqg9SCkGcy"
      },
      "execution_count": 15,
      "outputs": []
    },
    {
      "cell_type": "code",
      "source": [
        "# Print the results\n",
        "print(\"Number of bot users:\", bot_users.shape[0])\n",
        "print(\"Number of non-bot users:\", non_bot_users.shape[0])\n",
        "print(\"Percentage of bot users:\", bot_users.shape[0] / data.shape[0])"
      ],
      "metadata": {
        "colab": {
          "base_uri": "https://localhost:8080/"
        },
        "id": "wjfz2joCkd5G",
        "outputId": "2e49d17a-5d77-44ab-fc97-c00cc967de7c"
      },
      "execution_count": 16,
      "outputs": [
        {
          "output_type": "stream",
          "name": "stdout",
          "text": [
            "Number of bot users: 78\n",
            "Number of non-bot users: 993\n",
            "Percentage of bot users: 0.07282913165266107\n"
          ]
        }
      ]
    },
    {
      "cell_type": "code",
      "source": [
        "df['label'] = 0  # Initialize label column with 0 for non-bot users\n",
        "df.loc[outlier_scores == -1, 'label'] = 1  # Set label as 1 for bot users"
      ],
      "metadata": {
        "id": "3Uv4aSCckiuF"
      },
      "execution_count": 17,
      "outputs": []
    },
    {
      "cell_type": "code",
      "source": [
        "kmeans_silhouette = silhouette_score(scaled_data, kmeans.labels_)\n",
        "kmeans_homogeneity = homogeneity_score(df['label'], kmeans.labels_)\n",
        "kmeans_completeness = completeness_score(df['label'], kmeans.labels_)\n",
        "kmeans_ari = adjusted_rand_score(df['label'], kmeans.labels_)"
      ],
      "metadata": {
        "id": "u6UoczYKltY5"
      },
      "execution_count": 18,
      "outputs": []
    },
    {
      "cell_type": "code",
      "source": [
        "print(\"K-means Clustering Metrics:\")\n",
        "print(\"Silhouette Score:\", kmeans_silhouette)\n",
        "print(\"Homogeneity Score:\", kmeans_homogeneity)\n",
        "print(\"Completeness Score:\", kmeans_completeness)\n",
        "print(\"Adjusted Rand Index (ARI):\", kmeans_ari)"
      ],
      "metadata": {
        "colab": {
          "base_uri": "https://localhost:8080/"
        },
        "id": "gamJ-ZynlxZy",
        "outputId": "790152a8-9d29-428f-b876-c34f9dfd4d18"
      },
      "execution_count": 19,
      "outputs": [
        {
          "output_type": "stream",
          "name": "stdout",
          "text": [
            "K-means Clustering Metrics:\n",
            "Silhouette Score: 0.28357100236633803\n",
            "Homogeneity Score: 0.012369269942627551\n",
            "Completeness Score: 0.004770430933270134\n",
            "Adjusted Rand Index (ARI): 0.014733256101959994\n"
          ]
        }
      ]
    },
    {
      "cell_type": "code",
      "source": [
        "# Compute metrics for LOF\n",
        "lof_silhouette = silhouette_score(scaled_data, -outlier_scores)\n",
        "lof_homogeneity = homogeneity_score(df['label'], -outlier_scores)\n",
        "lof_completeness = completeness_score(df['label'], -outlier_scores)\n",
        "lof_ari = adjusted_rand_score(df['label'], -outlier_scores)"
      ],
      "metadata": {
        "id": "7bAi8e6ol2xF"
      },
      "execution_count": 20,
      "outputs": []
    },
    {
      "cell_type": "code",
      "source": [
        "print(\"\\nLOF Metrics:\")\n",
        "print(\"Silhouette Score:\", lof_silhouette)\n",
        "print(\"Homogeneity Score:\", lof_homogeneity)\n",
        "print(\"Completeness Score:\", lof_completeness)\n",
        "print(\"Adjusted Rand Index (ARI):\", lof_ari)"
      ],
      "metadata": {
        "colab": {
          "base_uri": "https://localhost:8080/"
        },
        "id": "AcVXAGThl8Eo",
        "outputId": "00150f16-3147-4a97-dafd-bc23870d8347"
      },
      "execution_count": 21,
      "outputs": [
        {
          "output_type": "stream",
          "name": "stdout",
          "text": [
            "\n",
            "LOF Metrics:\n",
            "Silhouette Score: 0.2851248178051259\n",
            "Homogeneity Score: 1.0\n",
            "Completeness Score: 1.0\n",
            "Adjusted Rand Index (ARI): 1.0\n"
          ]
        }
      ]
    },
    {
      "cell_type": "code",
      "source": [
        "df['label_bot'] = 0  # Initialize 'label_bot' column with 0 for non-bot users\n",
        "df.loc[outlier_scores == -1, 'label_bot'] = 1  # Set 'label_bot' as 1 for bot users"
      ],
      "metadata": {
        "id": "tcFeOA2AtTBU"
      },
      "execution_count": 22,
      "outputs": []
    },
    {
      "cell_type": "code",
      "source": [
        "df.head()"
      ],
      "metadata": {
        "colab": {
          "base_uri": "https://localhost:8080/",
          "height": 438
        },
        "id": "Boq9ckEftVJX",
        "outputId": "99e1a2de-f40e-4ebf-c083-5253a069f3cb"
      },
      "execution_count": 23,
      "outputs": [
        {
          "output_type": "execute_result",
          "data": {
            "text/plain": [
              "              c-ip  time-to-first-byte  sc-status  sc-bytes  cs-method  \\\n",
              "0   52.167.144.170               0.097        200      4940          0   \n",
              "1      66.249.66.3               0.038        308       421          0   \n",
              "2  185.138.241.168               0.710        200      5109          0   \n",
              "3   52.167.144.170               0.082        200      5465          0   \n",
              "4    50.62.147.101               0.003        200       405          1   \n",
              "\n",
              "   cs-protocol  cs-host  cs-bytes-request  time-taken  cs-protocol-version  \\\n",
              "0            1        0               281       0.097                    0   \n",
              "1            1        1               250       0.038                    1   \n",
              "2            1        1               492       0.710                    1   \n",
              "3            1        0               243       0.082                    0   \n",
              "4            1        1               146       0.003                    0   \n",
              "\n",
              "   ...  c-port  x-edge-detailed-result-page         time_of_day  day_of_week  \\\n",
              "0  ...   21251                            0 1900-01-01 14:31:57       Friday   \n",
              "1  ...   37691                            0 1900-01-01 14:31:55       Friday   \n",
              "2  ...   56324                            0 1900-01-01 14:31:57       Friday   \n",
              "3  ...   21250                            0 1900-01-01 14:31:58       Friday   \n",
              "4  ...   63740                            1 1900-01-01 14:31:59       Friday   \n",
              "\n",
              "     c-ip-int hour_int minute_int second_int  label  label_bot  \n",
              "0   883396778       14         31         57      0          0  \n",
              "1  1123631619       14         31         55      0          0  \n",
              "2  3112890792       14         31         57      1          1  \n",
              "3   883396778       14         31         58      0          0  \n",
              "4   842961765       14         31         59      1          1  \n",
              "\n",
              "[5 rows x 24 columns]"
            ],
            "text/html": [
              "\n",
              "  <div id=\"df-a611a064-0b9a-48ba-a794-5ea6fa50376c\">\n",
              "    <div class=\"colab-df-container\">\n",
              "      <div>\n",
              "<style scoped>\n",
              "    .dataframe tbody tr th:only-of-type {\n",
              "        vertical-align: middle;\n",
              "    }\n",
              "\n",
              "    .dataframe tbody tr th {\n",
              "        vertical-align: top;\n",
              "    }\n",
              "\n",
              "    .dataframe thead th {\n",
              "        text-align: right;\n",
              "    }\n",
              "</style>\n",
              "<table border=\"1\" class=\"dataframe\">\n",
              "  <thead>\n",
              "    <tr style=\"text-align: right;\">\n",
              "      <th></th>\n",
              "      <th>c-ip</th>\n",
              "      <th>time-to-first-byte</th>\n",
              "      <th>sc-status</th>\n",
              "      <th>sc-bytes</th>\n",
              "      <th>cs-method</th>\n",
              "      <th>cs-protocol</th>\n",
              "      <th>cs-host</th>\n",
              "      <th>cs-bytes-request</th>\n",
              "      <th>time-taken</th>\n",
              "      <th>cs-protocol-version</th>\n",
              "      <th>...</th>\n",
              "      <th>c-port</th>\n",
              "      <th>x-edge-detailed-result-page</th>\n",
              "      <th>time_of_day</th>\n",
              "      <th>day_of_week</th>\n",
              "      <th>c-ip-int</th>\n",
              "      <th>hour_int</th>\n",
              "      <th>minute_int</th>\n",
              "      <th>second_int</th>\n",
              "      <th>label</th>\n",
              "      <th>label_bot</th>\n",
              "    </tr>\n",
              "  </thead>\n",
              "  <tbody>\n",
              "    <tr>\n",
              "      <th>0</th>\n",
              "      <td>52.167.144.170</td>\n",
              "      <td>0.097</td>\n",
              "      <td>200</td>\n",
              "      <td>4940</td>\n",
              "      <td>0</td>\n",
              "      <td>1</td>\n",
              "      <td>0</td>\n",
              "      <td>281</td>\n",
              "      <td>0.097</td>\n",
              "      <td>0</td>\n",
              "      <td>...</td>\n",
              "      <td>21251</td>\n",
              "      <td>0</td>\n",
              "      <td>1900-01-01 14:31:57</td>\n",
              "      <td>Friday</td>\n",
              "      <td>883396778</td>\n",
              "      <td>14</td>\n",
              "      <td>31</td>\n",
              "      <td>57</td>\n",
              "      <td>0</td>\n",
              "      <td>0</td>\n",
              "    </tr>\n",
              "    <tr>\n",
              "      <th>1</th>\n",
              "      <td>66.249.66.3</td>\n",
              "      <td>0.038</td>\n",
              "      <td>308</td>\n",
              "      <td>421</td>\n",
              "      <td>0</td>\n",
              "      <td>1</td>\n",
              "      <td>1</td>\n",
              "      <td>250</td>\n",
              "      <td>0.038</td>\n",
              "      <td>1</td>\n",
              "      <td>...</td>\n",
              "      <td>37691</td>\n",
              "      <td>0</td>\n",
              "      <td>1900-01-01 14:31:55</td>\n",
              "      <td>Friday</td>\n",
              "      <td>1123631619</td>\n",
              "      <td>14</td>\n",
              "      <td>31</td>\n",
              "      <td>55</td>\n",
              "      <td>0</td>\n",
              "      <td>0</td>\n",
              "    </tr>\n",
              "    <tr>\n",
              "      <th>2</th>\n",
              "      <td>185.138.241.168</td>\n",
              "      <td>0.710</td>\n",
              "      <td>200</td>\n",
              "      <td>5109</td>\n",
              "      <td>0</td>\n",
              "      <td>1</td>\n",
              "      <td>1</td>\n",
              "      <td>492</td>\n",
              "      <td>0.710</td>\n",
              "      <td>1</td>\n",
              "      <td>...</td>\n",
              "      <td>56324</td>\n",
              "      <td>0</td>\n",
              "      <td>1900-01-01 14:31:57</td>\n",
              "      <td>Friday</td>\n",
              "      <td>3112890792</td>\n",
              "      <td>14</td>\n",
              "      <td>31</td>\n",
              "      <td>57</td>\n",
              "      <td>1</td>\n",
              "      <td>1</td>\n",
              "    </tr>\n",
              "    <tr>\n",
              "      <th>3</th>\n",
              "      <td>52.167.144.170</td>\n",
              "      <td>0.082</td>\n",
              "      <td>200</td>\n",
              "      <td>5465</td>\n",
              "      <td>0</td>\n",
              "      <td>1</td>\n",
              "      <td>0</td>\n",
              "      <td>243</td>\n",
              "      <td>0.082</td>\n",
              "      <td>0</td>\n",
              "      <td>...</td>\n",
              "      <td>21250</td>\n",
              "      <td>0</td>\n",
              "      <td>1900-01-01 14:31:58</td>\n",
              "      <td>Friday</td>\n",
              "      <td>883396778</td>\n",
              "      <td>14</td>\n",
              "      <td>31</td>\n",
              "      <td>58</td>\n",
              "      <td>0</td>\n",
              "      <td>0</td>\n",
              "    </tr>\n",
              "    <tr>\n",
              "      <th>4</th>\n",
              "      <td>50.62.147.101</td>\n",
              "      <td>0.003</td>\n",
              "      <td>200</td>\n",
              "      <td>405</td>\n",
              "      <td>1</td>\n",
              "      <td>1</td>\n",
              "      <td>1</td>\n",
              "      <td>146</td>\n",
              "      <td>0.003</td>\n",
              "      <td>0</td>\n",
              "      <td>...</td>\n",
              "      <td>63740</td>\n",
              "      <td>1</td>\n",
              "      <td>1900-01-01 14:31:59</td>\n",
              "      <td>Friday</td>\n",
              "      <td>842961765</td>\n",
              "      <td>14</td>\n",
              "      <td>31</td>\n",
              "      <td>59</td>\n",
              "      <td>1</td>\n",
              "      <td>1</td>\n",
              "    </tr>\n",
              "  </tbody>\n",
              "</table>\n",
              "<p>5 rows × 24 columns</p>\n",
              "</div>\n",
              "      <button class=\"colab-df-convert\" onclick=\"convertToInteractive('df-a611a064-0b9a-48ba-a794-5ea6fa50376c')\"\n",
              "              title=\"Convert this dataframe to an interactive table.\"\n",
              "              style=\"display:none;\">\n",
              "        \n",
              "  <svg xmlns=\"http://www.w3.org/2000/svg\" height=\"24px\"viewBox=\"0 0 24 24\"\n",
              "       width=\"24px\">\n",
              "    <path d=\"M0 0h24v24H0V0z\" fill=\"none\"/>\n",
              "    <path d=\"M18.56 5.44l.94 2.06.94-2.06 2.06-.94-2.06-.94-.94-2.06-.94 2.06-2.06.94zm-11 1L8.5 8.5l.94-2.06 2.06-.94-2.06-.94L8.5 2.5l-.94 2.06-2.06.94zm10 10l.94 2.06.94-2.06 2.06-.94-2.06-.94-.94-2.06-.94 2.06-2.06.94z\"/><path d=\"M17.41 7.96l-1.37-1.37c-.4-.4-.92-.59-1.43-.59-.52 0-1.04.2-1.43.59L10.3 9.45l-7.72 7.72c-.78.78-.78 2.05 0 2.83L4 21.41c.39.39.9.59 1.41.59.51 0 1.02-.2 1.41-.59l7.78-7.78 2.81-2.81c.8-.78.8-2.07 0-2.86zM5.41 20L4 18.59l7.72-7.72 1.47 1.35L5.41 20z\"/>\n",
              "  </svg>\n",
              "      </button>\n",
              "      \n",
              "  <style>\n",
              "    .colab-df-container {\n",
              "      display:flex;\n",
              "      flex-wrap:wrap;\n",
              "      gap: 12px;\n",
              "    }\n",
              "\n",
              "    .colab-df-convert {\n",
              "      background-color: #E8F0FE;\n",
              "      border: none;\n",
              "      border-radius: 50%;\n",
              "      cursor: pointer;\n",
              "      display: none;\n",
              "      fill: #1967D2;\n",
              "      height: 32px;\n",
              "      padding: 0 0 0 0;\n",
              "      width: 32px;\n",
              "    }\n",
              "\n",
              "    .colab-df-convert:hover {\n",
              "      background-color: #E2EBFA;\n",
              "      box-shadow: 0px 1px 2px rgba(60, 64, 67, 0.3), 0px 1px 3px 1px rgba(60, 64, 67, 0.15);\n",
              "      fill: #174EA6;\n",
              "    }\n",
              "\n",
              "    [theme=dark] .colab-df-convert {\n",
              "      background-color: #3B4455;\n",
              "      fill: #D2E3FC;\n",
              "    }\n",
              "\n",
              "    [theme=dark] .colab-df-convert:hover {\n",
              "      background-color: #434B5C;\n",
              "      box-shadow: 0px 1px 3px 1px rgba(0, 0, 0, 0.15);\n",
              "      filter: drop-shadow(0px 1px 2px rgba(0, 0, 0, 0.3));\n",
              "      fill: #FFFFFF;\n",
              "    }\n",
              "  </style>\n",
              "\n",
              "      <script>\n",
              "        const buttonEl =\n",
              "          document.querySelector('#df-a611a064-0b9a-48ba-a794-5ea6fa50376c button.colab-df-convert');\n",
              "        buttonEl.style.display =\n",
              "          google.colab.kernel.accessAllowed ? 'block' : 'none';\n",
              "\n",
              "        async function convertToInteractive(key) {\n",
              "          const element = document.querySelector('#df-a611a064-0b9a-48ba-a794-5ea6fa50376c');\n",
              "          const dataTable =\n",
              "            await google.colab.kernel.invokeFunction('convertToInteractive',\n",
              "                                                     [key], {});\n",
              "          if (!dataTable) return;\n",
              "\n",
              "          const docLinkHtml = 'Like what you see? Visit the ' +\n",
              "            '<a target=\"_blank\" href=https://colab.research.google.com/notebooks/data_table.ipynb>data table notebook</a>'\n",
              "            + ' to learn more about interactive tables.';\n",
              "          element.innerHTML = '';\n",
              "          dataTable['output_type'] = 'display_data';\n",
              "          await google.colab.output.renderOutput(dataTable, element);\n",
              "          const docLink = document.createElement('div');\n",
              "          docLink.innerHTML = docLinkHtml;\n",
              "          element.appendChild(docLink);\n",
              "        }\n",
              "      </script>\n",
              "    </div>\n",
              "  </div>\n",
              "  "
            ]
          },
          "metadata": {},
          "execution_count": 23
        }
      ]
    },
    {
      "cell_type": "code",
      "source": [
        "scaler = StandardScaler()\n",
        "scaled_data = scaler.fit_transform(data)"
      ],
      "metadata": {
        "id": "YiC2khG0l-_d"
      },
      "execution_count": 24,
      "outputs": []
    },
    {
      "cell_type": "code",
      "source": [
        "n_clusters = 2  # Number of clusters\n",
        "n_models = 5  # Number of K-means models in the ensemble\n",
        "kmeans_ensemble = []"
      ],
      "metadata": {
        "id": "Gi0H_JRlrId7"
      },
      "execution_count": 25,
      "outputs": []
    },
    {
      "cell_type": "code",
      "source": [
        "for _ in range(n_models):\n",
        "    kmeans = KMeans(n_clusters=n_clusters, random_state=42)\n",
        "    kmeans.fit(scaled_data)\n",
        "    kmeans_ensemble.append(kmeans)"
      ],
      "metadata": {
        "colab": {
          "base_uri": "https://localhost:8080/"
        },
        "id": "m1cIlaXNrLBE",
        "outputId": "fdd60d21-0215-4df0-e226-621aedb55b5a"
      },
      "execution_count": 26,
      "outputs": [
        {
          "output_type": "stream",
          "name": "stderr",
          "text": [
            "/usr/local/lib/python3.10/dist-packages/sklearn/cluster/_kmeans.py:870: FutureWarning: The default value of `n_init` will change from 10 to 'auto' in 1.4. Set the value of `n_init` explicitly to suppress the warning\n",
            "  warnings.warn(\n",
            "/usr/local/lib/python3.10/dist-packages/sklearn/cluster/_kmeans.py:870: FutureWarning: The default value of `n_init` will change from 10 to 'auto' in 1.4. Set the value of `n_init` explicitly to suppress the warning\n",
            "  warnings.warn(\n",
            "/usr/local/lib/python3.10/dist-packages/sklearn/cluster/_kmeans.py:870: FutureWarning: The default value of `n_init` will change from 10 to 'auto' in 1.4. Set the value of `n_init` explicitly to suppress the warning\n",
            "  warnings.warn(\n",
            "/usr/local/lib/python3.10/dist-packages/sklearn/cluster/_kmeans.py:870: FutureWarning: The default value of `n_init` will change from 10 to 'auto' in 1.4. Set the value of `n_init` explicitly to suppress the warning\n",
            "  warnings.warn(\n",
            "/usr/local/lib/python3.10/dist-packages/sklearn/cluster/_kmeans.py:870: FutureWarning: The default value of `n_init` will change from 10 to 'auto' in 1.4. Set the value of `n_init` explicitly to suppress the warning\n",
            "  warnings.warn(\n"
          ]
        }
      ]
    },
    {
      "cell_type": "code",
      "source": [
        "n_neighbors = 20  # Number of neighbors\n",
        "n_models = 5  # Number of LOF models in the ensemble\n",
        "lof_ensemble = []"
      ],
      "metadata": {
        "id": "K8FbT9TQrNZI"
      },
      "execution_count": 27,
      "outputs": []
    },
    {
      "cell_type": "code",
      "source": [
        "for _ in range(n_models):\n",
        "    lof = LocalOutlierFactor(n_neighbors=n_neighbors, contamination='auto')\n",
        "    outlier_scores = lof.fit_predict(scaled_data)\n",
        "    lof_ensemble.append(lof)"
      ],
      "metadata": {
        "id": "NyP0Xf4KrRK9"
      },
      "execution_count": 28,
      "outputs": []
    },
    {
      "cell_type": "code",
      "source": [
        "kmeans_predictions = [model.predict(scaled_data) for model in kmeans_ensemble]\n",
        "lof_predictions = [model.fit_predict(scaled_data) for model in lof_ensemble]"
      ],
      "metadata": {
        "id": "9Brd60rCrUuC"
      },
      "execution_count": 42,
      "outputs": []
    },
    {
      "cell_type": "code",
      "source": [
        "ensemble_predictions = []\n",
        "for i in range(len(scaled_data)):\n",
        "    kmeans_votes = sum([prediction[i] for prediction in kmeans_predictions])\n",
        "    lof_votes = sum([prediction[i] for prediction in lof_predictions])\n",
        "    if kmeans_votes >= len(kmeans_predictions) / 2 and lof_votes <= len(lof_predictions) / 2:\n",
        "        ensemble_predictions.append(1)  # Bot user\n",
        "    else:\n",
        "        ensemble_predictions.append(0)  # Non-bot user"
      ],
      "metadata": {
        "id": "IHpjPlifrYQq"
      },
      "execution_count": 41,
      "outputs": []
    },
    {
      "cell_type": "code",
      "source": [
        "true_labels = df['label_bot'] \n",
        "accuracy = accuracy_score(true_labels, ensemble_predictions)\n",
        "precision = precision_score(true_labels, ensemble_predictions)\n",
        "recall = recall_score(true_labels, ensemble_predictions)\n",
        "f1 = f1_score(true_labels, ensemble_predictions)"
      ],
      "metadata": {
        "id": "tixSgQQ9rc1l"
      },
      "execution_count": 40,
      "outputs": []
    },
    {
      "cell_type": "code",
      "source": [
        "print(\"Ensemble Performance:\")\n",
        "print(\"Accuracy:\", accuracy)\n",
        "print(\"Precision:\", precision)\n",
        "print(\"Recall:\", recall)\n",
        "print(\"F1-score:\", f1)"
      ],
      "metadata": {
        "colab": {
          "base_uri": "https://localhost:8080/"
        },
        "id": "MrNAFXrWrgEq",
        "outputId": "4f151be1-8ac6-4f8e-a6dc-6c9bd88d6292"
      },
      "execution_count": 32,
      "outputs": [
        {
          "output_type": "stream",
          "name": "stdout",
          "text": [
            "Ensemble Performance:\n",
            "Accuracy: 0.9598506069094305\n",
            "Precision: 1.0\n",
            "Recall: 0.44871794871794873\n",
            "F1-score: 0.6194690265486726\n"
          ]
        }
      ]
    },
    {
      "cell_type": "code",
      "source": [
        "import pandas as pd\n",
        "from sklearn.model_selection import train_test_split\n",
        "from sklearn.preprocessing import StandardScaler\n",
        "from tensorflow.keras.models import Sequential\n",
        "from tensorflow.keras.layers import Dense"
      ],
      "metadata": {
        "id": "TJHg8KRyuCO9"
      },
      "execution_count": 1,
      "outputs": []
    },
    {
      "cell_type": "code",
      "source": [
        "features = ['c-ip-int', 'time-to-first-byte', 'sc-status', 'sc-bytes', 'cs-method', 'cs-protocol',\n",
        "            'cs-bytes-request', 'time-taken', 'cs-protocol-version', 'x-edge-response-result-type',\n",
        "            'hour_int', 'minute_int', 'second_int', 'ssl0cipher', 'c-port', 'cs-host']\n",
        "data = df[features]\n",
        "target = df['label_bot']"
      ],
      "metadata": {
        "id": "cqn_ytg6Livv"
      },
      "execution_count": 33,
      "outputs": []
    },
    {
      "cell_type": "code",
      "source": [
        "X_train, X_test, y_train, y_test = train_test_split(data, target, test_size=0.2, random_state=42)"
      ],
      "metadata": {
        "id": "e4NqoPH-N4wP"
      },
      "execution_count": 34,
      "outputs": []
    },
    {
      "cell_type": "code",
      "source": [
        "scaler = StandardScaler()\n",
        "X_train_scaled = scaler.fit_transform(X_train)\n",
        "X_test_scaled = scaler.transform(X_test)"
      ],
      "metadata": {
        "id": "ll1DB11LN9R5"
      },
      "execution_count": 35,
      "outputs": []
    },
    {
      "cell_type": "code",
      "source": [
        "model = Sequential()\n",
        "model.add(Dense(64, activation='relu', input_dim=X_train_scaled.shape[1]))\n",
        "model.add(Dense(64, activation='relu'))\n",
        "model.add(Dense(1, activation='sigmoid'))"
      ],
      "metadata": {
        "id": "jTB6umqQOBAh"
      },
      "execution_count": 36,
      "outputs": []
    },
    {
      "cell_type": "markdown",
      "source": [
        "@sam we can still play around these activation functions. tanh is another activation function that coulld be useful"
      ],
      "metadata": {
        "id": "iA0Qwg_lSMKN"
      }
    },
    {
      "cell_type": "code",
      "source": [
        "model.compile(optimizer='adam', loss='binary_crossentropy', metrics=['accuracy'])"
      ],
      "metadata": {
        "id": "xoNm53f4OGW5"
      },
      "execution_count": 37,
      "outputs": []
    },
    {
      "cell_type": "code",
      "source": [
        "model.fit(X_train_scaled, y_train, epochs=10, batch_size=32, validation_data=(X_test_scaled, y_test))"
      ],
      "metadata": {
        "colab": {
          "base_uri": "https://localhost:8080/"
        },
        "id": "fduu2HL9OOwu",
        "outputId": "b4a4d04c-4056-4683-8ed3-82dbd58659f6"
      },
      "execution_count": 38,
      "outputs": [
        {
          "output_type": "stream",
          "name": "stdout",
          "text": [
            "Epoch 1/10\n",
            "27/27 [==============================] - 3s 43ms/step - loss: 0.4540 - accuracy: 0.8820 - val_loss: 0.3893 - val_accuracy: 0.8977\n",
            "Epoch 2/10\n",
            "27/27 [==============================] - 0s 4ms/step - loss: 0.2636 - accuracy: 0.9346 - val_loss: 0.3240 - val_accuracy: 0.8977\n",
            "Epoch 3/10\n",
            "27/27 [==============================] - 0s 3ms/step - loss: 0.2016 - accuracy: 0.9393 - val_loss: 0.2646 - val_accuracy: 0.9116\n",
            "Epoch 4/10\n",
            "27/27 [==============================] - 0s 3ms/step - loss: 0.1641 - accuracy: 0.9439 - val_loss: 0.2389 - val_accuracy: 0.9163\n",
            "Epoch 5/10\n",
            "27/27 [==============================] - 0s 3ms/step - loss: 0.1417 - accuracy: 0.9544 - val_loss: 0.2218 - val_accuracy: 0.9209\n",
            "Epoch 6/10\n",
            "27/27 [==============================] - 0s 4ms/step - loss: 0.1273 - accuracy: 0.9591 - val_loss: 0.2066 - val_accuracy: 0.9256\n",
            "Epoch 7/10\n",
            "27/27 [==============================] - 0s 4ms/step - loss: 0.1140 - accuracy: 0.9603 - val_loss: 0.1900 - val_accuracy: 0.9349\n",
            "Epoch 8/10\n",
            "27/27 [==============================] - 0s 3ms/step - loss: 0.1060 - accuracy: 0.9673 - val_loss: 0.1782 - val_accuracy: 0.9349\n",
            "Epoch 9/10\n",
            "27/27 [==============================] - 0s 3ms/step - loss: 0.0966 - accuracy: 0.9673 - val_loss: 0.1727 - val_accuracy: 0.9349\n",
            "Epoch 10/10\n",
            "27/27 [==============================] - 0s 3ms/step - loss: 0.0897 - accuracy: 0.9673 - val_loss: 0.1585 - val_accuracy: 0.9349\n"
          ]
        },
        {
          "output_type": "execute_result",
          "data": {
            "text/plain": [
              "<keras.callbacks.History at 0x7fb7a02e3190>"
            ]
          },
          "metadata": {},
          "execution_count": 38
        }
      ]
    },
    {
      "cell_type": "code",
      "source": [
        "loss, accuracy = model.evaluate(X_test_scaled, y_test)\n",
        "print(\"Accuracy:\", accuracy)"
      ],
      "metadata": {
        "colab": {
          "base_uri": "https://localhost:8080/"
        },
        "id": "8B3WOupAOR32",
        "outputId": "569d1521-f402-4021-e568-6c47543b8688"
      },
      "execution_count": 39,
      "outputs": [
        {
          "output_type": "stream",
          "name": "stdout",
          "text": [
            "7/7 [==============================] - 0s 7ms/step - loss: 0.1585 - accuracy: 0.9349\n",
            "Accuracy: 0.934883713722229\n"
          ]
        }
      ]
    },
    {
      "cell_type": "code",
      "source": [],
      "metadata": {
        "id": "cT_J1zYuOav-"
      },
      "execution_count": null,
      "outputs": []
    }
  ]
}