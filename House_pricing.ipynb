{
  "nbformat": 4,
  "nbformat_minor": 0,
  "metadata": {
    "colab": {
      "provenance": [],
      "mount_file_id": "1_r29zKjWKebq-NvNVvdEp3wA_JFBHkrG",
      "authorship_tag": "ABX9TyNqPhwgeBdCuNbhsUwEacro",
      "include_colab_link": true
    },
    "kernelspec": {
      "name": "python3",
      "display_name": "Python 3"
    },
    "language_info": {
      "name": "python"
    }
  },
  "cells": [
    {
      "cell_type": "markdown",
      "metadata": {
        "id": "view-in-github",
        "colab_type": "text"
      },
      "source": [
        "<a href=\"https://colab.research.google.com/github/crux007/crux007/blob/main/House_pricing.ipynb\" target=\"_parent\"><img src=\"https://colab.research.google.com/assets/colab-badge.svg\" alt=\"Open In Colab\"/></a>"
      ]
    },
    {
      "cell_type": "code",
      "execution_count": 1,
      "metadata": {
        "id": "wySt0tnconu2"
      },
      "outputs": [],
      "source": [
        "from sklearn.tree import DecisionTreeRegressor\n",
        "from sklearn.preprocessing import MinMaxScaler\n",
        "import pandas as pd"
      ]
    },
    {
      "cell_type": "code",
      "source": [
        "train_data = pd.read_csv('/content/drive/MyDrive/msc_training_dataset.csv')"
      ],
      "metadata": {
        "id": "-9kQsi0qoo50"
      },
      "execution_count": 2,
      "outputs": []
    },
    {
      "cell_type": "code",
      "source": [
        "X_train = train_data.iloc[:, :-1]\n",
        "y_train = train_data.iloc[:, -1]"
      ],
      "metadata": {
        "id": "cP51rbbipTRA"
      },
      "execution_count": 3,
      "outputs": []
    },
    {
      "cell_type": "code",
      "source": [
        "scaler = MinMaxScaler()\n",
        "X_train_scaled = scaler.fit_transform(X_train)"
      ],
      "metadata": {
        "id": "aZmc7DYLpYwL"
      },
      "execution_count": 4,
      "outputs": []
    },
    {
      "cell_type": "code",
      "source": [
        "best_score = 0\n",
        "best_max_depth = 0\n",
        "for max_depth in range(1, 11):\n",
        "    # Create a decision tree regression model\n",
        "    model = DecisionTreeRegressor(max_depth=max_depth)\n",
        "\n",
        "    # Fit the model to the scaled training data\n",
        "    model.fit(X_train_scaled, y_train)\n",
        "\n",
        "    # Compute the R^2 score on the scaled training data\n",
        "    score = model.score(X_train_scaled, y_train)\n",
        "\n",
        "     # If the score is better than the previous best score, update the best score and best max_depth\n",
        "    if score > best_score:\n",
        "        best_score = score\n",
        "        best_max_depth = max_depth\n"
      ],
      "metadata": {
        "id": "zJTxU_Qrpgmy"
      },
      "execution_count": 5,
      "outputs": []
    },
    {
      "cell_type": "code",
      "source": [
        "# Print the best max_depth and best score\n",
        "print(\"Best max_depth:\", best_max_depth)\n",
        "print(\"Best score:\", best_score)"
      ],
      "metadata": {
        "colab": {
          "base_uri": "https://localhost:8080/"
        },
        "id": "CCYSbelSpxEl",
        "outputId": "dca6c9c1-303d-4132-9519-385034f94889"
      },
      "execution_count": 6,
      "outputs": [
        {
          "output_type": "stream",
          "name": "stdout",
          "text": [
            "Best max_depth: 10\n",
            "Best score: 0.9932257337773296\n"
          ]
        }
      ]
    },
    {
      "cell_type": "code",
      "source": [
        "test_data = pd.read_csv('/content/drive/MyDrive/msc_testing_dataset.csv')"
      ],
      "metadata": {
        "id": "cmE0neayp1Mx"
      },
      "execution_count": 7,
      "outputs": []
    },
    {
      "cell_type": "code",
      "source": [
        "X_test = test_data.iloc[:, :-1]"
      ],
      "metadata": {
        "id": "PQnVp2f4p8rW"
      },
      "execution_count": 8,
      "outputs": []
    },
    {
      "cell_type": "code",
      "source": [
        "X_test_scaled = scaler.transform(X_test)"
      ],
      "metadata": {
        "id": "aAxorC4Vp_TE"
      },
      "execution_count": 9,
      "outputs": []
    },
    {
      "cell_type": "code",
      "source": [
        "model = DecisionTreeRegressor(max_depth=best_max_depth)"
      ],
      "metadata": {
        "id": "xCII5e4bqCZp"
      },
      "execution_count": 10,
      "outputs": []
    },
    {
      "cell_type": "code",
      "source": [
        "model.fit(X_train_scaled, y_train)"
      ],
      "metadata": {
        "colab": {
          "base_uri": "https://localhost:8080/",
          "height": 75
        },
        "id": "F-KhV3AkqGNO",
        "outputId": "bf4faac0-f451-4ea7-cf4a-d38cceea0f3d"
      },
      "execution_count": 11,
      "outputs": [
        {
          "output_type": "execute_result",
          "data": {
            "text/plain": [
              "DecisionTreeRegressor(max_depth=10)"
            ],
            "text/html": [
              "<style>#sk-container-id-1 {color: black;background-color: white;}#sk-container-id-1 pre{padding: 0;}#sk-container-id-1 div.sk-toggleable {background-color: white;}#sk-container-id-1 label.sk-toggleable__label {cursor: pointer;display: block;width: 100%;margin-bottom: 0;padding: 0.3em;box-sizing: border-box;text-align: center;}#sk-container-id-1 label.sk-toggleable__label-arrow:before {content: \"▸\";float: left;margin-right: 0.25em;color: #696969;}#sk-container-id-1 label.sk-toggleable__label-arrow:hover:before {color: black;}#sk-container-id-1 div.sk-estimator:hover label.sk-toggleable__label-arrow:before {color: black;}#sk-container-id-1 div.sk-toggleable__content {max-height: 0;max-width: 0;overflow: hidden;text-align: left;background-color: #f0f8ff;}#sk-container-id-1 div.sk-toggleable__content pre {margin: 0.2em;color: black;border-radius: 0.25em;background-color: #f0f8ff;}#sk-container-id-1 input.sk-toggleable__control:checked~div.sk-toggleable__content {max-height: 200px;max-width: 100%;overflow: auto;}#sk-container-id-1 input.sk-toggleable__control:checked~label.sk-toggleable__label-arrow:before {content: \"▾\";}#sk-container-id-1 div.sk-estimator input.sk-toggleable__control:checked~label.sk-toggleable__label {background-color: #d4ebff;}#sk-container-id-1 div.sk-label input.sk-toggleable__control:checked~label.sk-toggleable__label {background-color: #d4ebff;}#sk-container-id-1 input.sk-hidden--visually {border: 0;clip: rect(1px 1px 1px 1px);clip: rect(1px, 1px, 1px, 1px);height: 1px;margin: -1px;overflow: hidden;padding: 0;position: absolute;width: 1px;}#sk-container-id-1 div.sk-estimator {font-family: monospace;background-color: #f0f8ff;border: 1px dotted black;border-radius: 0.25em;box-sizing: border-box;margin-bottom: 0.5em;}#sk-container-id-1 div.sk-estimator:hover {background-color: #d4ebff;}#sk-container-id-1 div.sk-parallel-item::after {content: \"\";width: 100%;border-bottom: 1px solid gray;flex-grow: 1;}#sk-container-id-1 div.sk-label:hover label.sk-toggleable__label {background-color: #d4ebff;}#sk-container-id-1 div.sk-serial::before {content: \"\";position: absolute;border-left: 1px solid gray;box-sizing: border-box;top: 0;bottom: 0;left: 50%;z-index: 0;}#sk-container-id-1 div.sk-serial {display: flex;flex-direction: column;align-items: center;background-color: white;padding-right: 0.2em;padding-left: 0.2em;position: relative;}#sk-container-id-1 div.sk-item {position: relative;z-index: 1;}#sk-container-id-1 div.sk-parallel {display: flex;align-items: stretch;justify-content: center;background-color: white;position: relative;}#sk-container-id-1 div.sk-item::before, #sk-container-id-1 div.sk-parallel-item::before {content: \"\";position: absolute;border-left: 1px solid gray;box-sizing: border-box;top: 0;bottom: 0;left: 50%;z-index: -1;}#sk-container-id-1 div.sk-parallel-item {display: flex;flex-direction: column;z-index: 1;position: relative;background-color: white;}#sk-container-id-1 div.sk-parallel-item:first-child::after {align-self: flex-end;width: 50%;}#sk-container-id-1 div.sk-parallel-item:last-child::after {align-self: flex-start;width: 50%;}#sk-container-id-1 div.sk-parallel-item:only-child::after {width: 0;}#sk-container-id-1 div.sk-dashed-wrapped {border: 1px dashed gray;margin: 0 0.4em 0.5em 0.4em;box-sizing: border-box;padding-bottom: 0.4em;background-color: white;}#sk-container-id-1 div.sk-label label {font-family: monospace;font-weight: bold;display: inline-block;line-height: 1.2em;}#sk-container-id-1 div.sk-label-container {text-align: center;}#sk-container-id-1 div.sk-container {/* jupyter's `normalize.less` sets `[hidden] { display: none; }` but bootstrap.min.css set `[hidden] { display: none !important; }` so we also need the `!important` here to be able to override the default hidden behavior on the sphinx rendered scikit-learn.org. See: https://github.com/scikit-learn/scikit-learn/issues/21755 */display: inline-block !important;position: relative;}#sk-container-id-1 div.sk-text-repr-fallback {display: none;}</style><div id=\"sk-container-id-1\" class=\"sk-top-container\"><div class=\"sk-text-repr-fallback\"><pre>DecisionTreeRegressor(max_depth=10)</pre><b>In a Jupyter environment, please rerun this cell to show the HTML representation or trust the notebook. <br />On GitHub, the HTML representation is unable to render, please try loading this page with nbviewer.org.</b></div><div class=\"sk-container\" hidden><div class=\"sk-item\"><div class=\"sk-estimator sk-toggleable\"><input class=\"sk-toggleable__control sk-hidden--visually\" id=\"sk-estimator-id-1\" type=\"checkbox\" checked><label for=\"sk-estimator-id-1\" class=\"sk-toggleable__label sk-toggleable__label-arrow\">DecisionTreeRegressor</label><div class=\"sk-toggleable__content\"><pre>DecisionTreeRegressor(max_depth=10)</pre></div></div></div></div></div>"
            ]
          },
          "metadata": {},
          "execution_count": 11
        }
      ]
    },
    {
      "cell_type": "code",
      "source": [
        "# Make predictions on the scaled test data using the trained model\n",
        "y_pred = model.predict(X_test_scaled)\n",
        "\n",
        "# Print the predicted prices\n",
        "print(y_pred)"
      ],
      "metadata": {
        "colab": {
          "base_uri": "https://localhost:8080/"
        },
        "id": "PJSmWJxeqI4P",
        "outputId": "223b4112-3e17-44b3-d4b3-e22b4179637d"
      },
      "execution_count": 12,
      "outputs": [
        {
          "output_type": "stream",
          "name": "stdout",
          "text": [
            "[ 5287.          7737.5        11305.          8845.\n",
            " 10922.5        11591.         11768.33333333  6948.33333333\n",
            "  8100.          5900.          8989.          8665.\n",
            "  7065.         11289.          7767.22222222  9375.\n",
            "  8885.         13028.33333333 10185.          6880.\n",
            "  8845.          7475.          7021.66666667  3890.\n",
            " 10335.          7526.11111111  8067.          9325.\n",
            "  6795.          9195.          6675.          9998.33333333\n",
            " 10455.          8292.14285714  7600.         10355.\n",
            "  8605.         10968.33333333  9337.         13255.\n",
            "  6761.66666667  5145.         10100.          8902.5\n",
            " 11335.          6175.          4175.         11440.\n",
            "  9198.33333333  5145.         11485.         10777.5\n",
            "  4768.33333333  8190.         13970.          9440.\n",
            "  5945.          8735.         10355.          7887.\n",
            "  7715.         13695.          7635.          8440.\n",
            " 12965.          8067.         11215.         10495.\n",
            " 10165.          5849.28571429  8030.         12275.\n",
            "  4175.          6335.          9655.          8509.\n",
            "  6871.66666667 12005.         10425.          9905.\n",
            "  8902.5         8250.         12211.66666667  8037.5\n",
            " 11740.          6327.5         8599.          8030.\n",
            "  6741.          8545.          6965.         12435.\n",
            " 11518.33333333  7810.          6675.         10935.\n",
            " 11025.          8975.          9425.          7075.\n",
            "  7165.          8911.          4175.          9915.\n",
            "  5623.57142857  4808.33333333 10645.          9873.33333333\n",
            "  8880.         11955.          7625.          6011.66666667\n",
            "  9238.33333333  6281.          9135.          9735.\n",
            " 10415.          7300.          8575.          7421.66666667\n",
            "  7655.          7045.          6661.66666667  8439.\n",
            " 11895.         10205.         10807.5         5805.\n",
            "  5671.          6087.5         3785.          6350.\n",
            "  9820.          5900.         11061.          7505.\n",
            "  5198.33333333 12440.          8190.          9025.\n",
            " 10535.          9885.          6035.          7675.\n",
            "  9025.         11371.66666667  6605.          7505.\n",
            "  5312.77777778 10575.         12550.          9495.\n",
            "  9731.66666667 11000.          8585.         12435.\n",
            "  7305.          7505.          9615.         10675.\n",
            " 12135.          9157.         10502.5         6935.\n",
            "  9301.66666667  9007.         12337.5         7891.66666667\n",
            " 11335.          5637.          9835.          8025.\n",
            " 10785.          5900.          6840.          7528.33333333\n",
            "  8581.66666667  9565.          7805.          9525.\n",
            " 10846.42857143  8340.          9093.          7951.66666667\n",
            "  5185.          9755.          8415.          7805.\n",
            " 10115.          7408.33333333  6335.          7845.\n",
            "  5287.85714286  6715.          7021.66666667  7300.\n",
            " 11529.          9755.          5665.         11335.\n",
            "  8710.          8090.         12925.          5287.85714286\n",
            "  8117.85714286  7645.          9855.          8561.66666667\n",
            " 10775.         11695.         10945.          9115.\n",
            "  8915.          8125.          8885.         12065.\n",
            "  9277.          6880.          6135.          5805.\n",
            " 12550.          4105.          6835.          9125.\n",
            "  8848.33333333  6840.          7845.          6805.\n",
            "  7421.66666667  5237.         13425.          8051.66666667\n",
            "  7235.          9010.          6628.33333333 13965.\n",
            "  8745.         10095.          8015.          6386.11111111\n",
            "  5790.          7767.22222222  7645.          8902.5\n",
            "  9085.         11240.          9047.         10065.\n",
            " 11535.          8270.          9195.          8037.5\n",
            "  6115.          5237.          7395.          6935.\n",
            "  9448.33333333  7528.33333333  6560.          6551.66666667\n",
            " 11373.          9825.          5198.33333333  8888.33333333\n",
            " 10931.66666667  6865.          7105.         10231.66666667\n",
            "  6871.66666667 10807.5        12135.          4635.\n",
            "  5935.          9275.          8355.          9735.\n",
            "  9238.33333333  3561.66666667 10535.          8900.\n",
            "  3001.66666667  9115.         12550.         11000.\n",
            "  4725.         10755.         11615.          5795.\n",
            " 10535.          9265.         10975.          9591.\n",
            " 11591.          9775.          9165.          9465.\n",
            "  9115.          5340.          8575.         10545.\n",
            "  8505.         11765.          8745.          8178.33333333\n",
            "  6675.          7505.          9425.         10165.\n",
            "  8755.         11145.          9731.66666667 11371.66666667\n",
            "  7951.66666667  9325.          8481.          6498.33333333\n",
            "  7845.          8575.          9835.          8378.33333333\n",
            "  8615.          6880.         10358.33333333  7722.5\n",
            "  9007.          6883.          9490.          7165.\n",
            "  8509.          5728.63636364  7295.          7951.66666667\n",
            "  8030.          5961.66666667  7567.          9175.\n",
            "  6883.         11115.          8172.5         5997.5\n",
            " 10378.33333333  7475.          4412.5        12198.33333333\n",
            "  8635.         12065.          9135.          9578.33333333\n",
            "  7420.          5965.         11711.66666667 10955.\n",
            "  4718.33333333  7421.66666667 10968.33333333  6400.\n",
            "  7195.          9555.         12120.          8880.\n",
            "  4808.33333333  5900.          6918.33333333  8585.\n",
            "  9365.          8641.66666667  5900.          5885.\n",
            "  7018.33333333  8545.          9365.         11363.57142857\n",
            "  9555.          8960.          8677.85714286  7565.\n",
            "  9495.          4350.          9195.          4942.14285714\n",
            "  8178.33333333  7722.5         7165.          8530.\n",
            "  7745.          6520.          8561.66666667  8405.\n",
            "  4942.14285714  3525.          7205.          5545.\n",
            "  9905.          7125.          8055.          7565.\n",
            "  5912.5         7142.14285714  8841.66666667  7837.85714286\n",
            "  7908.33333333  7837.85714286  5305.          9211.\n",
            "  8575.         10415.         11289.          7875.\n",
            "  6930.          7281.66666667  7295.          9453.\n",
            "  4532.5         4955.          8361.         12275.\n",
            "  7105.         10715.          6281.         12211.66666667\n",
            "  8918.33333333 12305.         11768.33333333  9595.\n",
            " 11311.66666667 12075.         11770.          8055.\n",
            " 10165.         11373.          9495.          6960.\n",
            " 13205.          6978.33333333 10358.33333333  6865.\n",
            " 11295.          7235.          5945.          7441.66666667\n",
            "  6883.          5935.          8455.          7295.\n",
            "  7567.          9201.66666667 10680.         13065.\n",
            "  8918.33333333  6491.66666667  7825.          9955.\n",
            "  7745.          8365.          8398.33333333  7138.33333333\n",
            "  9238.33333333  6812.5         8581.66666667  7767.22222222\n",
            "  9785.          9960.          4718.33333333  5145.\n",
            "  7645.          9490.          8455.          7138.33333333\n",
            "  6580.          7425.          8655.          9975.\n",
            "  8295.         11373.          6335.          8265.\n",
            "  9730.          6383.          7887.          9155.\n",
            "  9611.66666667 10487.          6335.          7891.66666667\n",
            "  7392.5         9585.          5121.66666667 10845.\n",
            "  7351.          8601.66666667 10575.          8601.66666667\n",
            "  6930.          9453.          6175.          5885.\n",
            "  9055.          5835.         10785.          8292.14285714\n",
            "  9902.5        10615.          8530.          6865.\n",
            "  8030.          7015.          9125.          8911.\n",
            "  8935.          8780.          8575.         10335.\n",
            "  8911.          5482.14285714 10588.33333333  5287.\n",
            " 11591.66666667  3405.          4190.          8885.\n",
            " 12898.33333333 13785.          5918.33333333 12435.\n",
            " 12035.          5832.14285714  8561.66666667  9495.\n",
            "  8311.66666667  9875.         10935.          4750.\n",
            "  7270.          9157.          9725.          7420.\n",
            "  4838.33333333  9495.          9855.          9701.66666667\n",
            "  7195.         10680.          7505.         13370.\n",
            "  6245.         12078.33333333 11711.66666667  7745.\n",
            "  7045.          6281.          2461.66666667 13437.5\n",
            " 10382.5         8079.          6491.66666667 12435.\n",
            "  8125.          8051.66666667 12078.33333333 10145.\n",
            "  9585.          9565.          7412.5         8765.\n",
            "  4245.          5217.5        10415.          6035.\n",
            "  7485.          4838.33333333  8055.          5185.\n",
            " 10405.          8585.         10631.66666667  8945.\n",
            "  8625.          7461.          6661.66666667  7285.\n",
            "  8978.33333333 11529.          7976.11111111  8848.33333333\n",
            "  9565.          9265.         11565.          9975.\n",
            "  9415.         10675.          9591.          6930.\n",
            " 10515.          6175.         10535.          7125.\n",
            "  8505.          5661.66666667  6871.66666667  9995.\n",
            "  9425.         11775.          7651.66666667  8735.\n",
            "  3605.          8505.          8125.          7195.\n",
            "  9415.         11695.          3425.          9157.\n",
            " 12945.         10385.          7065.          5185.\n",
            " 12475.         12945.          7277.          8918.33333333\n",
            "  9865.          9455.          9730.          7828.33333333\n",
            "  9565.         10845.          7567.          8365.\n",
            "  8527.5         6820.         12775.          8615.\n",
            "  8130.          7950.          7526.11111111  9738.33333333\n",
            "  7718.33333333  6495.          6299.          5605.\n",
            " 10585.         10165.          7425.         11695.\n",
            "  8640.          8510.         11240.          5728.63636364\n",
            "  9001.66666667  7130.         12755.          8545.\n",
            "  9090.         10675.          6087.5         6761.66666667\n",
            "  6129.54545455  8095.          9730.          7130.\n",
            "  4350.          8378.33333333  8705.          5661.66666667\n",
            " 10695.          9055.          7805.          5052.5\n",
            "  6581.         10867.5         8525.         12475.\n",
            "  7160.          9815.          9865.          9635.\n",
            "  4311.66666667  4808.33333333 12035.          8818.33333333\n",
            "  8250.          9985.          7805.         10415.\n",
            "  3785.          7825.          9645.          6735.\n",
            "  6685.          8445.          9395.         11061.\n",
            " 12052.5         4955.          7715.         12065.\n",
            "  8561.66666667  9265.          9855.          4942.14285714\n",
            " 10615.         11445.          6978.33333333  8295.\n",
            "  7951.          6512.5         8625.          9735.\n",
            "  3425.         10515.         10360.         12155.\n",
            "  8995.          4175.          9918.33333333  5018.33333333\n",
            "  8745.          6805.          8995.          4808.33333333\n",
            "  8655.          6498.33333333  9411.66666667  7675.\n",
            "  5558.33333333  7945.          8051.66666667  7651.66666667\n",
            " 10565.         10680.         12120.          9915.\n",
            "  3785.          9201.66666667 12763.          9635.\n",
            "  8331.          9368.33333333  8635.          9495.\n",
            " 11025.          9115.          8720.          3955.\n",
            "  5185.          8090.          8848.33333333 11321.66666667\n",
            "  8275.         12125.         11895.          7021.66666667\n",
            "  3885.          9975.         10065.          8765.\n",
            "  8355.         10593.33333333  9368.33333333 10035.\n",
            " 10382.5        10785.         10975.          5935.\n",
            "  9275.         11591.          8355.         13255.\n",
            "  9799.          5895.         11435.         11373.\n",
            "  9425.          5121.66666667 12337.5         6155.\n",
            " 10595.         11015.         10935.          9055.\n",
            "  7891.66666667 13205.          7805.         10405.\n",
            "  7392.5         8117.85714286  7295.          7171.66666667\n",
            "  8292.14285714  9875.          7105.          7235.\n",
            "  9835.          9435.          6015.          6352.5\n",
            " 14028.33333333  8625.          8918.33333333  9093.\n",
            "  9125.          6700.          5928.33333333  6335.\n",
            "  9255.          8620.          8079.         10231.66666667\n",
            "  8995.         11785.          5623.57142857  7105.\n",
            "  8040.55555556  6905.          6145.         12095.\n",
            "  5832.14285714 10846.42857143 10525.          8720.\n",
            " 11240.         11335.         12335.          9175.\n",
            " 10619.28571429  6835.          8775.          7845.\n",
            "  7018.33333333 11739.28571429  7075.          9866.25\n",
            "  7068.33333333  3405.          9905.          7745.\n",
            "  8505.          9495.          6145.         10615.\n",
            "  6761.25       11310.         10968.33333333  5997.5\n",
            " 11295.          9745.          4942.14285714  9440.\n",
            "  7025.          4245.         11695.          8067.\n",
            "  8915.         10615.          8848.33333333  9425.\n",
            "  8995.          5918.33333333  7109.          6112.5\n",
            "  8265.          6335.         11435.          9705.\n",
            " 13965.          5623.57142857  5832.14285714  5145.\n",
            "  3405.          9425.          8238.33333333 11300.\n",
            "  4395.          6245.          7270.          7125.\n",
            "  9730.         11311.66666667  8418.33333333  5408.33333333\n",
            "  7412.5         8995.          5849.28571429  6581.\n",
            "  7970.         10168.33333333  8418.33333333  7045.\n",
            "  6880.          9915.         11935.          5217.5\n",
            "  8620.         12198.33333333  3785.         10846.42857143\n",
            " 11465.          8848.33333333  7428.33333333  8995.\n",
            " 10300.          5965.          9325.         11565.\n",
            "  7837.85714286  7965.          9873.33333333  9025.\n",
            "  5287.          8745.         12275.          4335.\n",
            "  7481.66666667 10165.          7805.         10807.5\n",
            " 10295.          6525.          7281.66666667  5052.5\n",
            "  8306.11111111  9198.33333333  8845.          7965.\n",
            " 11955.          7976.11111111  9635.          9597.5\n",
            "  5637.          9605.          8079.          9093.\n",
            " 10008.33333333  6536.66666667  9670.         10100.\n",
            "  5237.         11635.          5145.          6880.\n",
            " 10975.         12880.         13205.         12880.\n",
            "  9085.          7235.          9365.         10922.5\n",
            "  7805.         14028.33333333  8295.          8841.66666667\n",
            " 11245.         11695.          5185.          5558.33333333\n",
            "  9995.          7635.         11165.         12925.\n",
            "  8527.5         7345.          5340.          8415.\n",
            " 13437.5         9255.          9701.66666667  5408.33333333\n",
            "  6335.         10838.33333333 12805.         12007.\n",
            "  9891.          9785.          8265.          8918.33333333\n",
            " 11215.          8105.          6741.          5482.14285714\n",
            " 12945.          9960.          8335.          5018.33333333\n",
            "  9555.          5217.5         3035.          7845.\n",
            " 10975.          7155.          9960.         11525.\n",
            " 10145.          5849.28571429  9799.          9799.\n",
            "  9435.          8641.66666667  6918.33333333]\n"
          ]
        }
      ]
    },
    {
      "cell_type": "code",
      "source": [
        "from sklearn.metrics import mean_squared_error, mean_absolute_error, r2_score, f1_score"
      ],
      "metadata": {
        "id": "TxQN1EV8rKu7"
      },
      "execution_count": 14,
      "outputs": []
    },
    {
      "cell_type": "code",
      "source": [
        "# Evaluate the performance of the model using various metrics\n",
        "mse = mean_squared_error(test_data.iloc[:, -1], y_pred)\n",
        "mae = mean_absolute_error(test_data.iloc[:, -1], y_pred)\n",
        "r2 = r2_score(test_data.iloc[:, -1], y_pred)\n",
        "f1 = f1_score(test_data.iloc[:, -1] > 7000, y_pred > 7000, average='binary')"
      ],
      "metadata": {
        "id": "lni_9z0cqP52"
      },
      "execution_count": 15,
      "outputs": []
    },
    {
      "cell_type": "code",
      "source": [
        "# Print the evaluation metrics\n",
        "print(\"Mean Squared Error:\", mse)\n",
        "print(\"Mean Absolute Error:\", mae)\n",
        "print(\"R-squared:\", r2)\n",
        "print(\"F1-score:\", f1)"
      ],
      "metadata": {
        "colab": {
          "base_uri": "https://localhost:8080/"
        },
        "id": "Ix_i0ADwq7xh",
        "outputId": "6aed6d51-e37d-4694-e694-caa52d205597"
      },
      "execution_count": 16,
      "outputs": [
        {
          "output_type": "stream",
          "name": "stdout",
          "text": [
            "Mean Squared Error: 133482.53954213636\n",
            "Mean Absolute Error: 290.4512188956633\n",
            "R-squared: 0.9728371098104008\n",
            "F1-score: 0.9756418696510862\n"
          ]
        }
      ]
    },
    {
      "cell_type": "code",
      "source": [
        "importances = model.feature_importances_\n",
        "for i, col in enumerate(X_train.columns):\n",
        "    print(f\"{col}: {importances[i]:.3f}\")"
      ],
      "metadata": {
        "colab": {
          "base_uri": "https://localhost:8080/"
        },
        "id": "XZV9nZ77rOkQ",
        "outputId": "d4e1a1d3-0778-416b-92a5-f4d5d9faee61"
      },
      "execution_count": 17,
      "outputs": [
        {
          "output_type": "stream",
          "name": "stdout",
          "text": [
            "room: 0.430\n",
            "bathroom: 0.004\n",
            "kitchen: 0.010\n",
            "french_door: 0.006\n",
            "backyard: 0.015\n",
            "furnished: 0.202\n",
            "green_paint: 0.006\n",
            "solar_power: 0.115\n",
            "woodfloor: 0.177\n",
            "qlm_security: 0.008\n",
            "club_access: 0.027\n"
          ]
        }
      ]
    },
    {
      "cell_type": "code",
      "source": [
        "import numpy as np"
      ],
      "metadata": {
        "id": "OkY_7OV1uPyt"
      },
      "execution_count": 19,
      "outputs": []
    },
    {
      "cell_type": "code",
      "source": [
        "importances = model.feature_importances_\n",
        "sorted_idx = np.argsort(importances)\n",
        "pos = np.arange(sorted_idx.shape[0]) + .5"
      ],
      "metadata": {
        "id": "nrJJcVR2sNOj"
      },
      "execution_count": 20,
      "outputs": []
    },
    {
      "cell_type": "code",
      "source": [
        "import matplotlib.pyplot as plt"
      ],
      "metadata": {
        "id": "xWPCV2qquqvK"
      },
      "execution_count": 22,
      "outputs": []
    },
    {
      "cell_type": "code",
      "source": [
        "plt.figure(figsize=(10, 6))\n",
        "plt.barh(pos, importances[sorted_idx], align='center', color='#1976D2')\n",
        "plt.yticks(pos, X_train.columns[sorted_idx])\n",
        "plt.xlabel('Importance')\n",
        "plt.title('Feature Importances')\n",
        "plt.tight_layout()\n",
        "plt.show()"
      ],
      "metadata": {
        "colab": {
          "base_uri": "https://localhost:8080/",
          "height": 607
        },
        "id": "_oBlPN3QuOFo",
        "outputId": "79a142dd-da8e-4363-d081-aba6d7287908"
      },
      "execution_count": 23,
      "outputs": [
        {
          "output_type": "display_data",
          "data": {
            "text/plain": [
              "<Figure size 1000x600 with 1 Axes>"
            ],
            "image/png": "[encoded data removed]"
          },
          "metadata": {}
        }
      ]
    },
    {
      "cell_type": "code",
      "source": [
        "pip install lime"
      ],
      "metadata": {
        "colab": {
          "base_uri": "https://localhost:8080/"
        },
        "id": "P2WwQkQGxJtG",
        "outputId": "16707142-be1a-4721-96df-a847e4ab500d"
      },
      "execution_count": 25,
      "outputs": [
        {
          "output_type": "stream",
          "name": "stdout",
          "text": [
            "Looking in indexes: https://pypi.org/simple, https://us-python.pkg.dev/colab-wheels/public/simple/\n",
            "Collecting lime\n",
            "  Downloading lime-0.2.0.1.tar.gz (275 kB)\n",
            "\u001b[2K     \u001b[90m━━━━━━━━━━━━━━━━━━━━━━━━━━━━━━━━━━━━━━━\u001b[0m \u001b[32m275.7/275.7 kB\u001b[0m \u001b[31m6.1 MB/s\u001b[0m eta \u001b[36m0:00:00\u001b[0m\n",
            "\u001b[?25h  Preparing metadata (setup.py) ... \u001b[?25l\u001b[?25hdone\n",
            "Requirement already satisfied: matplotlib in /usr/local/lib/python3.10/dist-packages (from lime) (3.7.1)\n",
            "Requirement already satisfied: numpy in /usr/local/lib/python3.10/dist-packages (from lime) (1.22.4)\n",
            "Requirement already satisfied: scipy in /usr/local/lib/python3.10/dist-packages (from lime) (1.10.1)\n",
            "Requirement already satisfied: tqdm in /usr/local/lib/python3.10/dist-packages (from lime) (4.65.0)\n",
            "Requirement already satisfied: scikit-learn>=0.18 in /usr/local/lib/python3.10/dist-packages (from lime) (1.2.2)\n",
            "Requirement already satisfied: scikit-image>=0.12 in /usr/local/lib/python3.10/dist-packages (from lime) (0.19.3)\n",
            "Requirement already satisfied: pillow!=7.1.0,!=7.1.1,!=8.3.0,>=6.1.0 in /usr/local/lib/python3.10/dist-packages (from scikit-image>=0.12->lime) (8.4.0)\n",
            "Requirement already satisfied: packaging>=20.0 in /usr/local/lib/python3.10/dist-packages (from scikit-image>=0.12->lime) (23.1)\n",
            "Requirement already satisfied: PyWavelets>=1.1.1 in /usr/local/lib/python3.10/dist-packages (from scikit-image>=0.12->lime) (1.4.1)\n",
            "Requirement already satisfied: imageio>=2.4.1 in /usr/local/lib/python3.10/dist-packages (from scikit-image>=0.12->lime) (2.25.1)\n",
            "Requirement already satisfied: networkx>=2.2 in /usr/local/lib/python3.10/dist-packages (from scikit-image>=0.12->lime) (3.1)\n",
            "Requirement already satisfied: tifffile>=2019.7.26 in /usr/local/lib/python3.10/dist-packages (from scikit-image>=0.12->lime) (2023.4.12)\n",
            "Requirement already satisfied: threadpoolctl>=2.0.0 in /usr/local/lib/python3.10/dist-packages (from scikit-learn>=0.18->lime) (3.1.0)\n",
            "Requirement already satisfied: joblib>=1.1.1 in /usr/local/lib/python3.10/dist-packages (from scikit-learn>=0.18->lime) (1.2.0)\n",
            "Requirement already satisfied: cycler>=0.10 in /usr/local/lib/python3.10/dist-packages (from matplotlib->lime) (0.11.0)\n",
            "Requirement already satisfied: pyparsing>=2.3.1 in /usr/local/lib/python3.10/dist-packages (from matplotlib->lime) (3.0.9)\n",
            "Requirement already satisfied: python-dateutil>=2.7 in /usr/local/lib/python3.10/dist-packages (from matplotlib->lime) (2.8.2)\n",
            "Requirement already satisfied: contourpy>=1.0.1 in /usr/local/lib/python3.10/dist-packages (from matplotlib->lime) (1.0.7)\n",
            "Requirement already satisfied: fonttools>=4.22.0 in /usr/local/lib/python3.10/dist-packages (from matplotlib->lime) (4.39.3)\n",
            "Requirement already satisfied: kiwisolver>=1.0.1 in /usr/local/lib/python3.10/dist-packages (from matplotlib->lime) (1.4.4)\n",
            "Requirement already satisfied: six>=1.5 in /usr/local/lib/python3.10/dist-packages (from python-dateutil>=2.7->matplotlib->lime) (1.16.0)\n",
            "Building wheels for collected packages: lime\n",
            "  Building wheel for lime (setup.py) ... \u001b[?25l\u001b[?25hdone\n",
            "  Created wheel for lime: filename=lime-0.2.0.1-py3-none-any.whl size=283859 sha256=45d3900ab30af614e962d6df0833ccddbf3ac93ecd0da9451d321fa9f57cff31\n",
            "  Stored in directory: /root/.cache/pip/wheels/fd/a2/af/9ac0a1a85a27f314a06b39e1f492bee1547d52549a4606ed89\n",
            "Successfully built lime\n",
            "Installing collected packages: lime\n",
            "Successfully installed lime-0.2.0.1\n"
          ]
        }
      ]
    },
    {
      "cell_type": "code",
      "source": [
        "import lime\n",
        "import lime.lime_tabular"
      ],
      "metadata": {
        "id": "JO2h8lIPuXms"
      },
      "execution_count": 26,
      "outputs": []
    },
    {
      "cell_type": "code",
      "source": [
        "explainer = lime.lime_tabular.LimeTabularExplainer(\n",
        "    training_data=X_train.values,\n",
        "    feature_names=X_train.columns,\n",
        "    class_names=['price'],\n",
        "    mode='regression'\n",
        ")"
      ],
      "metadata": {
        "id": "gwNf_OpHxEhM"
      },
      "execution_count": 36,
      "outputs": []
    },
    {
      "cell_type": "code",
      "source": [
        "# Select a random data point from the test set for explanation\n",
        "i = 42\n",
        "x = X_test.iloc[[i]]"
      ],
      "metadata": {
        "id": "YcyVlx4jxTmC"
      },
      "execution_count": 37,
      "outputs": []
    },
    {
      "cell_type": "code",
      "source": [
        "# Use the explainer to generate a local explanation for the prediction\n",
        "exp = explainer.explain_instance(\n",
        "    data_row=x.values[0],\n",
        "    predict_fn=model.predict,\n",
        "    num_features=len(X_train.columns)\n",
        ")"
      ],
      "metadata": {
        "id": "Cxj0uU9txXvF"
      },
      "execution_count": 38,
      "outputs": []
    },
    {
      "cell_type": "code",
      "source": [
        "print(exp.as_list())"
      ],
      "metadata": {
        "colab": {
          "base_uri": "https://localhost:8080/"
        },
        "id": "kPCu2d5UyGpH",
        "outputId": "a61b5a39-8b16-495a-d177-4c9b17d75cc5"
      },
      "execution_count": 39,
      "outputs": [
        {
          "output_type": "stream",
          "name": "stdout",
          "text": [
            "[('furnished <= 0.00', -2066.9931427555775), ('0.00 < woodfloor <= 1.00', 1891.8878678694584), ('0.00 < solar_power <= 1.00', 1525.944536599618), ('club_access <= 0.00', -689.3919627874644), ('backyard <= 0.00', -474.65810707505443), ('1.00 < kitchen <= 2.00', 396.44545305628077), ('qlm_security <= 0.00', -312.6162683080133), ('french_door <= 1.00', -280.7906633115061), ('0.00 < green_paint <= 1.00', 214.2859313708464), ('1.00 < bathroom <= 2.00', 146.20041132207007), ('3.00 < room <= 4.00', -19.693068722320973)]\n"
          ]
        }
      ]
    },
    {
      "cell_type": "code",
      "source": [
        "weights = pd.DataFrame(exp.as_list(), columns=['Feature', 'Weight'])\n",
        "\n",
        "# Show the explanation in tabular form\n",
        "print(weights)"
      ],
      "metadata": {
        "colab": {
          "base_uri": "https://localhost:8080/"
        },
        "id": "3SqiqYK-xebz",
        "outputId": "e23b394f-51c8-42d7-d642-649d0c5437d9"
      },
      "execution_count": 40,
      "outputs": [
        {
          "output_type": "stream",
          "name": "stdout",
          "text": [
            "                       Feature       Weight\n",
            "0            furnished <= 0.00 -2066.993143\n",
            "1     0.00 < woodfloor <= 1.00  1891.887868\n",
            "2   0.00 < solar_power <= 1.00  1525.944537\n",
            "3          club_access <= 0.00  -689.391963\n",
            "4             backyard <= 0.00  -474.658107\n",
            "5       1.00 < kitchen <= 2.00   396.445453\n",
            "6         qlm_security <= 0.00  -312.616268\n",
            "7          french_door <= 1.00  -280.790663\n",
            "8   0.00 < green_paint <= 1.00   214.285931\n",
            "9      1.00 < bathroom <= 2.00   146.200411\n",
            "10         3.00 < room <= 4.00   -19.693069\n"
          ]
        }
      ]
    },
    {
      "cell_type": "code",
      "source": [],
      "metadata": {
        "id": "KQphRozu49U2"
      },
      "execution_count": null,
      "outputs": []
    }
  ]
}