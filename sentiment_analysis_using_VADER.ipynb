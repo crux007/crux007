{
  "nbformat": 4,
  "nbformat_minor": 0,
  "metadata": {
    "colab": {
      "provenance": [],
      "mount_file_id": "1hoKXG-ndpQT1fMsYsBQAj1wOfZg-NqMT",
      "authorship_tag": "ABX9TyPwgXFNDF/x2thcy9eWQnt1",
      "include_colab_link": true
    },
    "kernelspec": {
      "name": "python3",
      "display_name": "Python 3"
    },
    "language_info": {
      "name": "python"
    }
  },
  "cells": [
    {
      "cell_type": "markdown",
      "metadata": {
        "id": "view-in-github",
        "colab_type": "text"
      },
      "source": [
        "<a href=\"https://colab.research.google.com/github/crux007/crux007/blob/main/sentiment_analysis_using_VADER.ipynb\" target=\"_parent\"><img src=\"https://colab.research.google.com/assets/colab-badge.svg\" alt=\"Open In Colab\"/></a>"
      ]
    },
    {
      "cell_type": "code",
      "execution_count": 5,
      "metadata": {
        "id": "BEEwCUqk4iqw"
      },
      "outputs": [],
      "source": [
        "import pandas as pd\n",
        "import nltk\n",
        "from nltk.sentiment import SentimentIntensityAnalyzer"
      ]
    },
    {
      "cell_type": "markdown",
      "source": [
        "i am going to perform an unsupervised ml model using VADER"
      ],
      "metadata": {
        "id": "9lxiw-lI49yy"
      }
    },
    {
      "cell_type": "code",
      "source": [
        "df = pd.read_csv('/content/drive/MyDrive/Royal mail Data ratings.csv')"
      ],
      "metadata": {
        "id": "HEWLXD0x4o8f"
      },
      "execution_count": 2,
      "outputs": []
    },
    {
      "cell_type": "code",
      "source": [
        "df.dropna(subset=['reviewBody'], inplace=True)"
      ],
      "metadata": {
        "id": "demJkyqe5R2U"
      },
      "execution_count": 3,
      "outputs": []
    },
    {
      "cell_type": "markdown",
      "source": [
        "initializing VADER for sentiment analysis"
      ],
      "metadata": {
        "id": "0X5qs38m52Vj"
      }
    },
    {
      "cell_type": "code",
      "source": [
        "nltk.download('vader_lexicon')"
      ],
      "metadata": {
        "colab": {
          "base_uri": "https://localhost:8080/"
        },
        "id": "b5_9uFDq6THF",
        "outputId": "948a693e-57ac-461b-ebdc-48ebede47e8e"
      },
      "execution_count": 7,
      "outputs": [
        {
          "output_type": "stream",
          "name": "stderr",
          "text": [
            "[nltk_data] Downloading package vader_lexicon to /root/nltk_data...\n"
          ]
        },
        {
          "output_type": "execute_result",
          "data": {
            "text/plain": [
              "True"
            ]
          },
          "metadata": {},
          "execution_count": 7
        }
      ]
    },
    {
      "cell_type": "code",
      "source": [
        "sia = SentimentIntensityAnalyzer()"
      ],
      "metadata": {
        "id": "CYs4B7oy5x2E"
      },
      "execution_count": 8,
      "outputs": []
    },
    {
      "cell_type": "code",
      "source": [
        "df['Sentiment'] = df['reviewBody'].apply(lambda x: sia.polarity_scores(x)['compound'])"
      ],
      "metadata": {
        "id": "3u-vGfw15_Mv"
      },
      "execution_count": 9,
      "outputs": []
    },
    {
      "cell_type": "code",
      "source": [
        "df['Sentiment_Label'] = df['Sentiment'].apply(lambda x: 'Positive' if x >= 0 else 'Negative')"
      ],
      "metadata": {
        "id": "nAt-S5xZ6b8M"
      },
      "execution_count": 10,
      "outputs": []
    },
    {
      "cell_type": "code",
      "source": [
        "print(df[['reviewBody', 'Sentiment', 'Sentiment_Label']])"
      ],
      "metadata": {
        "colab": {
          "base_uri": "https://localhost:8080/"
        },
        "id": "unKhsNtO6hTx",
        "outputId": "d6c38921-a5d5-4da6-f2fe-b97b9b12d0ed"
      },
      "execution_count": 11,
      "outputs": [
        {
          "output_type": "stream",
          "name": "stdout",
          "text": [
            "                                             reviewBody  Sentiment  \\\n",
            "0     The lady I spoke to seem to talk over me.Alway...     0.4005   \n",
            "1     Easy website to navigate but holding back pric...    -0.6428   \n",
            "2     nice website and great variety, but payment no...    -0.8762   \n",
            "3     Online redirection form failed first time, app...    -0.5106   \n",
            "4     The site is not very custom frendly,you have t...    -0.4767   \n",
            "...                                                 ...        ...   \n",
            "4605  I have a registered account but still spent ha...     0.1531   \n",
            "4606  It's not difficul to purchase from Royal Mail ...    -0.5671   \n",
            "4607  It seems that with every order there is an iss...    -0.7184   \n",
            "4608  Items are easy to purchase and delivery is pro...     0.3694   \n",
            "4609  No next day delivery for stamp collections - c...    -0.1007   \n",
            "\n",
            "     Sentiment_Label  \n",
            "0           Positive  \n",
            "1           Negative  \n",
            "2           Negative  \n",
            "3           Negative  \n",
            "4           Negative  \n",
            "...              ...  \n",
            "4605        Positive  \n",
            "4606        Negative  \n",
            "4607        Negative  \n",
            "4608        Positive  \n",
            "4609        Negative  \n",
            "\n",
            "[4610 rows x 3 columns]\n"
          ]
        }
      ]
    },
    {
      "cell_type": "code",
      "source": [],
      "metadata": {
        "id": "rwdaloc_6lVB"
      },
      "execution_count": null,
      "outputs": []
    }
  ]
}